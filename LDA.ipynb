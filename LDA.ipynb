{
 "cells": [
  {
   "cell_type": "code",
   "execution_count": 2,
   "id": "5a6fb39d-8866-4be2-8529-d3145dde7f06",
   "metadata": {
    "tags": []
   },
   "outputs": [
    {
     "name": "stdout",
     "output_type": "stream",
     "text": [
      "Requirement already satisfied: pandas in /opt/conda/lib/python3.7/site-packages (1.3.5)\n",
      "Requirement already satisfied: numpy>=1.17.3 in /opt/conda/lib/python3.7/site-packages (from pandas) (1.21.6)\n",
      "Requirement already satisfied: pytz>=2017.3 in /opt/conda/lib/python3.7/site-packages (from pandas) (2019.3)\n",
      "Requirement already satisfied: python-dateutil>=2.7.3 in /opt/conda/lib/python3.7/site-packages (from pandas) (2.8.1)\n",
      "Requirement already satisfied: six>=1.5 in /opt/conda/lib/python3.7/site-packages (from python-dateutil>=2.7.3->pandas) (1.14.0)\n",
      "\u001b[33mWARNING: Running pip as the 'root' user can result in broken permissions and conflicting behaviour with the system package manager. It is recommended to use a virtual environment instead: https://pip.pypa.io/warnings/venv\u001b[0m\u001b[33m\n",
      "\u001b[0m\n",
      "\u001b[1m[\u001b[0m\u001b[34;49mnotice\u001b[0m\u001b[1;39;49m]\u001b[0m\u001b[39;49m A new release of pip available: \u001b[0m\u001b[31;49m22.2.2\u001b[0m\u001b[39;49m -> \u001b[0m\u001b[32;49m22.3\u001b[0m\n",
      "\u001b[1m[\u001b[0m\u001b[34;49mnotice\u001b[0m\u001b[1;39;49m]\u001b[0m\u001b[39;49m To update, run: \u001b[0m\u001b[32;49mpip install --upgrade pip\u001b[0m\n",
      "Note: you may need to restart the kernel to use updated packages.\n"
     ]
    }
   ],
   "source": [
    "pip install pandas"
   ]
  },
  {
   "cell_type": "code",
   "execution_count": 3,
   "id": "63ad5764-762e-4e0a-96b9-1788dd8bc641",
   "metadata": {},
   "outputs": [
    {
     "name": "stdout",
     "output_type": "stream",
     "text": [
      "Requirement already satisfied: contractions in /opt/conda/lib/python3.7/site-packages (0.1.72)\n",
      "Requirement already satisfied: textsearch>=0.0.21 in /opt/conda/lib/python3.7/site-packages (from contractions) (0.0.24)\n",
      "Requirement already satisfied: pyahocorasick in /opt/conda/lib/python3.7/site-packages (from textsearch>=0.0.21->contractions) (1.4.4)\n",
      "Requirement already satisfied: anyascii in /opt/conda/lib/python3.7/site-packages (from textsearch>=0.0.21->contractions) (0.3.1)\n",
      "\u001b[33mWARNING: Running pip as the 'root' user can result in broken permissions and conflicting behaviour with the system package manager. It is recommended to use a virtual environment instead: https://pip.pypa.io/warnings/venv\u001b[0m\u001b[33m\n",
      "\u001b[0m\n",
      "\u001b[1m[\u001b[0m\u001b[34;49mnotice\u001b[0m\u001b[1;39;49m]\u001b[0m\u001b[39;49m A new release of pip available: \u001b[0m\u001b[31;49m22.2.2\u001b[0m\u001b[39;49m -> \u001b[0m\u001b[32;49m22.3\u001b[0m\n",
      "\u001b[1m[\u001b[0m\u001b[34;49mnotice\u001b[0m\u001b[1;39;49m]\u001b[0m\u001b[39;49m To update, run: \u001b[0m\u001b[32;49mpip install --upgrade pip\u001b[0m\n",
      "Note: you may need to restart the kernel to use updated packages.\n"
     ]
    }
   ],
   "source": [
    "pip install contractions"
   ]
  },
  {
   "cell_type": "code",
   "execution_count": 4,
   "id": "4a62fea3-55b7-4853-b4a9-c0008da82f8d",
   "metadata": {},
   "outputs": [
    {
     "name": "stdout",
     "output_type": "stream",
     "text": [
      "Requirement already satisfied: gensim in /opt/conda/lib/python3.7/site-packages (4.2.0)\n",
      "Requirement already satisfied: smart-open>=1.8.1 in /opt/conda/lib/python3.7/site-packages (from gensim) (5.2.1)\n",
      "Requirement already satisfied: scipy>=0.18.1 in /opt/conda/lib/python3.7/site-packages (from gensim) (1.4.1)\n",
      "Requirement already satisfied: numpy>=1.17.0 in /opt/conda/lib/python3.7/site-packages (from gensim) (1.21.6)\n",
      "\u001b[33mWARNING: Running pip as the 'root' user can result in broken permissions and conflicting behaviour with the system package manager. It is recommended to use a virtual environment instead: https://pip.pypa.io/warnings/venv\u001b[0m\u001b[33m\n",
      "\u001b[0m\n",
      "\u001b[1m[\u001b[0m\u001b[34;49mnotice\u001b[0m\u001b[1;39;49m]\u001b[0m\u001b[39;49m A new release of pip available: \u001b[0m\u001b[31;49m22.2.2\u001b[0m\u001b[39;49m -> \u001b[0m\u001b[32;49m22.3\u001b[0m\n",
      "\u001b[1m[\u001b[0m\u001b[34;49mnotice\u001b[0m\u001b[1;39;49m]\u001b[0m\u001b[39;49m To update, run: \u001b[0m\u001b[32;49mpip install --upgrade pip\u001b[0m\n",
      "Note: you may need to restart the kernel to use updated packages.\n"
     ]
    }
   ],
   "source": [
    "pip install gensim"
   ]
  },
  {
   "cell_type": "code",
   "execution_count": 5,
   "id": "f94bcb20-0448-4bcb-ba19-a923ae08ae45",
   "metadata": {},
   "outputs": [
    {
     "name": "stdout",
     "output_type": "stream",
     "text": [
      "Requirement already satisfied: spacy in /opt/conda/lib/python3.7/site-packages (3.4.2)\n",
      "Requirement already satisfied: spacy-loggers<2.0.0,>=1.0.0 in /opt/conda/lib/python3.7/site-packages (from spacy) (1.0.3)\n",
      "Requirement already satisfied: srsly<3.0.0,>=2.4.3 in /opt/conda/lib/python3.7/site-packages (from spacy) (2.4.5)\n",
      "Requirement already satisfied: packaging>=20.0 in /opt/conda/lib/python3.7/site-packages (from spacy) (20.1)\n",
      "Requirement already satisfied: numpy>=1.15.0 in /opt/conda/lib/python3.7/site-packages (from spacy) (1.21.6)\n",
      "Requirement already satisfied: langcodes<4.0.0,>=3.2.0 in /opt/conda/lib/python3.7/site-packages (from spacy) (3.3.0)\n",
      "Requirement already satisfied: jinja2 in /opt/conda/lib/python3.7/site-packages (from spacy) (3.1.2)\n",
      "Requirement already satisfied: pathy>=0.3.5 in /opt/conda/lib/python3.7/site-packages (from spacy) (0.6.2)\n",
      "Requirement already satisfied: cymem<2.1.0,>=2.0.2 in /opt/conda/lib/python3.7/site-packages (from spacy) (2.0.7)\n",
      "Requirement already satisfied: pydantic!=1.8,!=1.8.1,<1.11.0,>=1.7.4 in /opt/conda/lib/python3.7/site-packages (from spacy) (1.10.2)\n",
      "Requirement already satisfied: preshed<3.1.0,>=3.0.2 in /opt/conda/lib/python3.7/site-packages (from spacy) (3.0.8)\n",
      "Requirement already satisfied: tqdm<5.0.0,>=4.38.0 in /opt/conda/lib/python3.7/site-packages (from spacy) (4.42.1)\n",
      "Requirement already satisfied: typing-extensions<4.2.0,>=3.7.4 in /opt/conda/lib/python3.7/site-packages (from spacy) (4.1.1)\n",
      "Requirement already satisfied: spacy-legacy<3.1.0,>=3.0.10 in /opt/conda/lib/python3.7/site-packages (from spacy) (3.0.10)\n",
      "Requirement already satisfied: typer<0.5.0,>=0.3.0 in /opt/conda/lib/python3.7/site-packages (from spacy) (0.4.2)\n",
      "Requirement already satisfied: thinc<8.2.0,>=8.1.0 in /opt/conda/lib/python3.7/site-packages (from spacy) (8.1.5)\n",
      "Requirement already satisfied: requests<3.0.0,>=2.13.0 in /opt/conda/lib/python3.7/site-packages (from spacy) (2.28.1)\n",
      "Requirement already satisfied: catalogue<2.1.0,>=2.0.6 in /opt/conda/lib/python3.7/site-packages (from spacy) (2.0.8)\n",
      "Requirement already satisfied: setuptools in /opt/conda/lib/python3.7/site-packages (from spacy) (59.3.0)\n",
      "Requirement already satisfied: murmurhash<1.1.0,>=0.28.0 in /opt/conda/lib/python3.7/site-packages (from spacy) (1.0.9)\n",
      "Requirement already satisfied: wasabi<1.1.0,>=0.9.1 in /opt/conda/lib/python3.7/site-packages (from spacy) (0.10.1)\n",
      "Requirement already satisfied: zipp>=0.5 in /opt/conda/lib/python3.7/site-packages (from catalogue<2.1.0,>=2.0.6->spacy) (3.8.1)\n",
      "Requirement already satisfied: pyparsing>=2.0.2 in /opt/conda/lib/python3.7/site-packages (from packaging>=20.0->spacy) (2.4.6)\n",
      "Requirement already satisfied: six in /opt/conda/lib/python3.7/site-packages (from packaging>=20.0->spacy) (1.14.0)\n",
      "Requirement already satisfied: smart-open<6.0.0,>=5.2.1 in /opt/conda/lib/python3.7/site-packages (from pathy>=0.3.5->spacy) (5.2.1)\n",
      "Requirement already satisfied: certifi>=2017.4.17 in /opt/conda/lib/python3.7/site-packages (from requests<3.0.0,>=2.13.0->spacy) (2022.6.15)\n",
      "Requirement already satisfied: charset-normalizer<3,>=2 in /opt/conda/lib/python3.7/site-packages (from requests<3.0.0,>=2.13.0->spacy) (2.0.4)\n",
      "Requirement already satisfied: idna<4,>=2.5 in /opt/conda/lib/python3.7/site-packages (from requests<3.0.0,>=2.13.0->spacy) (2.8)\n",
      "Requirement already satisfied: urllib3<1.27,>=1.21.1 in /opt/conda/lib/python3.7/site-packages (from requests<3.0.0,>=2.13.0->spacy) (1.26.12)\n",
      "Requirement already satisfied: blis<0.8.0,>=0.7.8 in /opt/conda/lib/python3.7/site-packages (from thinc<8.2.0,>=8.1.0->spacy) (0.7.9)\n",
      "Requirement already satisfied: confection<1.0.0,>=0.0.1 in /opt/conda/lib/python3.7/site-packages (from thinc<8.2.0,>=8.1.0->spacy) (0.0.3)\n",
      "Requirement already satisfied: click<9.0.0,>=7.1.1 in /opt/conda/lib/python3.7/site-packages (from typer<0.5.0,>=0.3.0->spacy) (8.1.3)\n",
      "Requirement already satisfied: MarkupSafe>=2.0 in /opt/conda/lib/python3.7/site-packages (from jinja2->spacy) (2.1.1)\n",
      "Requirement already satisfied: importlib-metadata in /opt/conda/lib/python3.7/site-packages (from click<9.0.0,>=7.1.1->typer<0.5.0,>=0.3.0->spacy) (4.12.0)\n",
      "\u001b[33mWARNING: Running pip as the 'root' user can result in broken permissions and conflicting behaviour with the system package manager. It is recommended to use a virtual environment instead: https://pip.pypa.io/warnings/venv\u001b[0m\u001b[33m\n",
      "\u001b[0m\n",
      "\u001b[1m[\u001b[0m\u001b[34;49mnotice\u001b[0m\u001b[1;39;49m]\u001b[0m\u001b[39;49m A new release of pip available: \u001b[0m\u001b[31;49m22.2.2\u001b[0m\u001b[39;49m -> \u001b[0m\u001b[32;49m22.3\u001b[0m\n",
      "\u001b[1m[\u001b[0m\u001b[34;49mnotice\u001b[0m\u001b[1;39;49m]\u001b[0m\u001b[39;49m To update, run: \u001b[0m\u001b[32;49mpip install --upgrade pip\u001b[0m\n",
      "Note: you may need to restart the kernel to use updated packages.\n"
     ]
    }
   ],
   "source": [
    "pip install spacy"
   ]
  },
  {
   "cell_type": "code",
   "execution_count": 6,
   "id": "cd168336-33b2-4df1-aee6-42537164bb89",
   "metadata": {},
   "outputs": [
    {
     "name": "stdout",
     "output_type": "stream",
     "text": [
      "Requirement already satisfied: numpy in /opt/conda/lib/python3.7/site-packages (1.21.6)\n",
      "\u001b[33mWARNING: Running pip as the 'root' user can result in broken permissions and conflicting behaviour with the system package manager. It is recommended to use a virtual environment instead: https://pip.pypa.io/warnings/venv\u001b[0m\u001b[33m\n",
      "\u001b[0m\n",
      "\u001b[1m[\u001b[0m\u001b[34;49mnotice\u001b[0m\u001b[1;39;49m]\u001b[0m\u001b[39;49m A new release of pip available: \u001b[0m\u001b[31;49m22.2.2\u001b[0m\u001b[39;49m -> \u001b[0m\u001b[32;49m22.3\u001b[0m\n",
      "\u001b[1m[\u001b[0m\u001b[34;49mnotice\u001b[0m\u001b[1;39;49m]\u001b[0m\u001b[39;49m To update, run: \u001b[0m\u001b[32;49mpip install --upgrade pip\u001b[0m\n",
      "Note: you may need to restart the kernel to use updated packages.\n"
     ]
    }
   ],
   "source": [
    "%pip install numpy"
   ]
  },
  {
   "cell_type": "code",
   "execution_count": 7,
   "id": "26feb41f-db81-4e44-87c1-f9a45078fe16",
   "metadata": {},
   "outputs": [
    {
     "name": "stdout",
     "output_type": "stream",
     "text": [
      "Collecting en-core-web-lg==3.4.1\n",
      "  Downloading https://github.com/explosion/spacy-models/releases/download/en_core_web_lg-3.4.1/en_core_web_lg-3.4.1-py3-none-any.whl (587.7 MB)\n",
      "\u001b[2K     \u001b[90m━━━━━━━━━━━━━━━━━━━━━━━━━━━━━━━━━━━━━━━\u001b[0m \u001b[32m587.7/587.7 MB\u001b[0m \u001b[31m1.4 MB/s\u001b[0m eta \u001b[36m0:00:00\u001b[0m00:01\u001b[0m00:01\u001b[0m\n",
      "\u001b[?25hRequirement already satisfied: spacy<3.5.0,>=3.4.0 in /opt/conda/lib/python3.7/site-packages (from en-core-web-lg==3.4.1) (3.4.2)\n",
      "Requirement already satisfied: spacy-legacy<3.1.0,>=3.0.10 in /opt/conda/lib/python3.7/site-packages (from spacy<3.5.0,>=3.4.0->en-core-web-lg==3.4.1) (3.0.10)\n",
      "Requirement already satisfied: typing-extensions<4.2.0,>=3.7.4 in /opt/conda/lib/python3.7/site-packages (from spacy<3.5.0,>=3.4.0->en-core-web-lg==3.4.1) (4.1.1)\n",
      "Requirement already satisfied: pathy>=0.3.5 in /opt/conda/lib/python3.7/site-packages (from spacy<3.5.0,>=3.4.0->en-core-web-lg==3.4.1) (0.6.2)\n",
      "Requirement already satisfied: requests<3.0.0,>=2.13.0 in /opt/conda/lib/python3.7/site-packages (from spacy<3.5.0,>=3.4.0->en-core-web-lg==3.4.1) (2.28.1)\n",
      "Requirement already satisfied: packaging>=20.0 in /opt/conda/lib/python3.7/site-packages (from spacy<3.5.0,>=3.4.0->en-core-web-lg==3.4.1) (20.1)\n",
      "Requirement already satisfied: srsly<3.0.0,>=2.4.3 in /opt/conda/lib/python3.7/site-packages (from spacy<3.5.0,>=3.4.0->en-core-web-lg==3.4.1) (2.4.5)\n",
      "Requirement already satisfied: pydantic!=1.8,!=1.8.1,<1.11.0,>=1.7.4 in /opt/conda/lib/python3.7/site-packages (from spacy<3.5.0,>=3.4.0->en-core-web-lg==3.4.1) (1.10.2)\n",
      "Requirement already satisfied: tqdm<5.0.0,>=4.38.0 in /opt/conda/lib/python3.7/site-packages (from spacy<3.5.0,>=3.4.0->en-core-web-lg==3.4.1) (4.42.1)\n",
      "Requirement already satisfied: jinja2 in /opt/conda/lib/python3.7/site-packages (from spacy<3.5.0,>=3.4.0->en-core-web-lg==3.4.1) (3.1.2)\n",
      "Requirement already satisfied: murmurhash<1.1.0,>=0.28.0 in /opt/conda/lib/python3.7/site-packages (from spacy<3.5.0,>=3.4.0->en-core-web-lg==3.4.1) (1.0.9)\n",
      "Requirement already satisfied: spacy-loggers<2.0.0,>=1.0.0 in /opt/conda/lib/python3.7/site-packages (from spacy<3.5.0,>=3.4.0->en-core-web-lg==3.4.1) (1.0.3)\n",
      "Requirement already satisfied: langcodes<4.0.0,>=3.2.0 in /opt/conda/lib/python3.7/site-packages (from spacy<3.5.0,>=3.4.0->en-core-web-lg==3.4.1) (3.3.0)\n",
      "Requirement already satisfied: cymem<2.1.0,>=2.0.2 in /opt/conda/lib/python3.7/site-packages (from spacy<3.5.0,>=3.4.0->en-core-web-lg==3.4.1) (2.0.7)\n",
      "Requirement already satisfied: catalogue<2.1.0,>=2.0.6 in /opt/conda/lib/python3.7/site-packages (from spacy<3.5.0,>=3.4.0->en-core-web-lg==3.4.1) (2.0.8)\n",
      "Requirement already satisfied: wasabi<1.1.0,>=0.9.1 in /opt/conda/lib/python3.7/site-packages (from spacy<3.5.0,>=3.4.0->en-core-web-lg==3.4.1) (0.10.1)\n",
      "Requirement already satisfied: preshed<3.1.0,>=3.0.2 in /opt/conda/lib/python3.7/site-packages (from spacy<3.5.0,>=3.4.0->en-core-web-lg==3.4.1) (3.0.8)\n",
      "Requirement already satisfied: numpy>=1.15.0 in /opt/conda/lib/python3.7/site-packages (from spacy<3.5.0,>=3.4.0->en-core-web-lg==3.4.1) (1.21.6)\n",
      "Requirement already satisfied: thinc<8.2.0,>=8.1.0 in /opt/conda/lib/python3.7/site-packages (from spacy<3.5.0,>=3.4.0->en-core-web-lg==3.4.1) (8.1.5)\n",
      "Requirement already satisfied: typer<0.5.0,>=0.3.0 in /opt/conda/lib/python3.7/site-packages (from spacy<3.5.0,>=3.4.0->en-core-web-lg==3.4.1) (0.4.2)\n",
      "Requirement already satisfied: setuptools in /opt/conda/lib/python3.7/site-packages (from spacy<3.5.0,>=3.4.0->en-core-web-lg==3.4.1) (59.3.0)\n",
      "Requirement already satisfied: zipp>=0.5 in /opt/conda/lib/python3.7/site-packages (from catalogue<2.1.0,>=2.0.6->spacy<3.5.0,>=3.4.0->en-core-web-lg==3.4.1) (3.8.1)\n",
      "Requirement already satisfied: pyparsing>=2.0.2 in /opt/conda/lib/python3.7/site-packages (from packaging>=20.0->spacy<3.5.0,>=3.4.0->en-core-web-lg==3.4.1) (2.4.6)\n",
      "Requirement already satisfied: six in /opt/conda/lib/python3.7/site-packages (from packaging>=20.0->spacy<3.5.0,>=3.4.0->en-core-web-lg==3.4.1) (1.14.0)\n",
      "Requirement already satisfied: smart-open<6.0.0,>=5.2.1 in /opt/conda/lib/python3.7/site-packages (from pathy>=0.3.5->spacy<3.5.0,>=3.4.0->en-core-web-lg==3.4.1) (5.2.1)\n",
      "Requirement already satisfied: idna<4,>=2.5 in /opt/conda/lib/python3.7/site-packages (from requests<3.0.0,>=2.13.0->spacy<3.5.0,>=3.4.0->en-core-web-lg==3.4.1) (2.8)\n",
      "Requirement already satisfied: charset-normalizer<3,>=2 in /opt/conda/lib/python3.7/site-packages (from requests<3.0.0,>=2.13.0->spacy<3.5.0,>=3.4.0->en-core-web-lg==3.4.1) (2.0.4)\n",
      "Requirement already satisfied: certifi>=2017.4.17 in /opt/conda/lib/python3.7/site-packages (from requests<3.0.0,>=2.13.0->spacy<3.5.0,>=3.4.0->en-core-web-lg==3.4.1) (2022.6.15)\n",
      "Requirement already satisfied: urllib3<1.27,>=1.21.1 in /opt/conda/lib/python3.7/site-packages (from requests<3.0.0,>=2.13.0->spacy<3.5.0,>=3.4.0->en-core-web-lg==3.4.1) (1.26.12)\n",
      "Requirement already satisfied: blis<0.8.0,>=0.7.8 in /opt/conda/lib/python3.7/site-packages (from thinc<8.2.0,>=8.1.0->spacy<3.5.0,>=3.4.0->en-core-web-lg==3.4.1) (0.7.9)\n",
      "Requirement already satisfied: confection<1.0.0,>=0.0.1 in /opt/conda/lib/python3.7/site-packages (from thinc<8.2.0,>=8.1.0->spacy<3.5.0,>=3.4.0->en-core-web-lg==3.4.1) (0.0.3)\n",
      "Requirement already satisfied: click<9.0.0,>=7.1.1 in /opt/conda/lib/python3.7/site-packages (from typer<0.5.0,>=0.3.0->spacy<3.5.0,>=3.4.0->en-core-web-lg==3.4.1) (8.1.3)\n",
      "Requirement already satisfied: MarkupSafe>=2.0 in /opt/conda/lib/python3.7/site-packages (from jinja2->spacy<3.5.0,>=3.4.0->en-core-web-lg==3.4.1) (2.1.1)\n",
      "Requirement already satisfied: importlib-metadata in /opt/conda/lib/python3.7/site-packages (from click<9.0.0,>=7.1.1->typer<0.5.0,>=0.3.0->spacy<3.5.0,>=3.4.0->en-core-web-lg==3.4.1) (4.12.0)\n",
      "\u001b[33mWARNING: Running pip as the 'root' user can result in broken permissions and conflicting behaviour with the system package manager. It is recommended to use a virtual environment instead: https://pip.pypa.io/warnings/venv\u001b[0m\u001b[33m\n",
      "\u001b[0m\n",
      "\u001b[1m[\u001b[0m\u001b[34;49mnotice\u001b[0m\u001b[1;39;49m]\u001b[0m\u001b[39;49m A new release of pip available: \u001b[0m\u001b[31;49m22.2.2\u001b[0m\u001b[39;49m -> \u001b[0m\u001b[32;49m22.3\u001b[0m\n",
      "\u001b[1m[\u001b[0m\u001b[34;49mnotice\u001b[0m\u001b[1;39;49m]\u001b[0m\u001b[39;49m To update, run: \u001b[0m\u001b[32;49mpip install --upgrade pip\u001b[0m\n",
      "\u001b[38;5;2m✔ Download and installation successful\u001b[0m\n",
      "You can now load the package via spacy.load('en_core_web_lg')\n"
     ]
    }
   ],
   "source": [
    "!python -m spacy download en_core_web_lg"
   ]
  },
  {
   "cell_type": "code",
   "execution_count": 8,
   "id": "31c82385-ac8e-4f87-bdf1-7ea133b35da8",
   "metadata": {},
   "outputs": [
    {
     "name": "stdout",
     "output_type": "stream",
     "text": [
      "Collecting en-core-web-sm==3.4.1\n",
      "  Downloading https://github.com/explosion/spacy-models/releases/download/en_core_web_sm-3.4.1/en_core_web_sm-3.4.1-py3-none-any.whl (12.8 MB)\n",
      "\u001b[2K     \u001b[90m━━━━━━━━━━━━━━━━━━━━━━━━━━━━━━━━━━━━━━━━\u001b[0m \u001b[32m12.8/12.8 MB\u001b[0m \u001b[31m43.2 MB/s\u001b[0m eta \u001b[36m0:00:00\u001b[0m00:01\u001b[0m00:01\u001b[0m\n",
      "\u001b[?25hRequirement already satisfied: spacy<3.5.0,>=3.4.0 in /opt/conda/lib/python3.7/site-packages (from en-core-web-sm==3.4.1) (3.4.2)\n",
      "Requirement already satisfied: spacy-legacy<3.1.0,>=3.0.10 in /opt/conda/lib/python3.7/site-packages (from spacy<3.5.0,>=3.4.0->en-core-web-sm==3.4.1) (3.0.10)\n",
      "Requirement already satisfied: tqdm<5.0.0,>=4.38.0 in /opt/conda/lib/python3.7/site-packages (from spacy<3.5.0,>=3.4.0->en-core-web-sm==3.4.1) (4.42.1)\n",
      "Requirement already satisfied: spacy-loggers<2.0.0,>=1.0.0 in /opt/conda/lib/python3.7/site-packages (from spacy<3.5.0,>=3.4.0->en-core-web-sm==3.4.1) (1.0.3)\n",
      "Requirement already satisfied: wasabi<1.1.0,>=0.9.1 in /opt/conda/lib/python3.7/site-packages (from spacy<3.5.0,>=3.4.0->en-core-web-sm==3.4.1) (0.10.1)\n",
      "Requirement already satisfied: srsly<3.0.0,>=2.4.3 in /opt/conda/lib/python3.7/site-packages (from spacy<3.5.0,>=3.4.0->en-core-web-sm==3.4.1) (2.4.5)\n",
      "Requirement already satisfied: pydantic!=1.8,!=1.8.1,<1.11.0,>=1.7.4 in /opt/conda/lib/python3.7/site-packages (from spacy<3.5.0,>=3.4.0->en-core-web-sm==3.4.1) (1.10.2)\n",
      "Requirement already satisfied: numpy>=1.15.0 in /opt/conda/lib/python3.7/site-packages (from spacy<3.5.0,>=3.4.0->en-core-web-sm==3.4.1) (1.21.6)\n",
      "Requirement already satisfied: catalogue<2.1.0,>=2.0.6 in /opt/conda/lib/python3.7/site-packages (from spacy<3.5.0,>=3.4.0->en-core-web-sm==3.4.1) (2.0.8)\n",
      "Requirement already satisfied: cymem<2.1.0,>=2.0.2 in /opt/conda/lib/python3.7/site-packages (from spacy<3.5.0,>=3.4.0->en-core-web-sm==3.4.1) (2.0.7)\n",
      "Requirement already satisfied: langcodes<4.0.0,>=3.2.0 in /opt/conda/lib/python3.7/site-packages (from spacy<3.5.0,>=3.4.0->en-core-web-sm==3.4.1) (3.3.0)\n",
      "Requirement already satisfied: pathy>=0.3.5 in /opt/conda/lib/python3.7/site-packages (from spacy<3.5.0,>=3.4.0->en-core-web-sm==3.4.1) (0.6.2)\n",
      "Requirement already satisfied: requests<3.0.0,>=2.13.0 in /opt/conda/lib/python3.7/site-packages (from spacy<3.5.0,>=3.4.0->en-core-web-sm==3.4.1) (2.28.1)\n",
      "Requirement already satisfied: typing-extensions<4.2.0,>=3.7.4 in /opt/conda/lib/python3.7/site-packages (from spacy<3.5.0,>=3.4.0->en-core-web-sm==3.4.1) (4.1.1)\n",
      "Requirement already satisfied: jinja2 in /opt/conda/lib/python3.7/site-packages (from spacy<3.5.0,>=3.4.0->en-core-web-sm==3.4.1) (3.1.2)\n",
      "Requirement already satisfied: setuptools in /opt/conda/lib/python3.7/site-packages (from spacy<3.5.0,>=3.4.0->en-core-web-sm==3.4.1) (59.3.0)\n",
      "Requirement already satisfied: thinc<8.2.0,>=8.1.0 in /opt/conda/lib/python3.7/site-packages (from spacy<3.5.0,>=3.4.0->en-core-web-sm==3.4.1) (8.1.5)\n",
      "Requirement already satisfied: typer<0.5.0,>=0.3.0 in /opt/conda/lib/python3.7/site-packages (from spacy<3.5.0,>=3.4.0->en-core-web-sm==3.4.1) (0.4.2)\n",
      "Requirement already satisfied: packaging>=20.0 in /opt/conda/lib/python3.7/site-packages (from spacy<3.5.0,>=3.4.0->en-core-web-sm==3.4.1) (20.1)\n",
      "Requirement already satisfied: murmurhash<1.1.0,>=0.28.0 in /opt/conda/lib/python3.7/site-packages (from spacy<3.5.0,>=3.4.0->en-core-web-sm==3.4.1) (1.0.9)\n",
      "Requirement already satisfied: preshed<3.1.0,>=3.0.2 in /opt/conda/lib/python3.7/site-packages (from spacy<3.5.0,>=3.4.0->en-core-web-sm==3.4.1) (3.0.8)\n",
      "Requirement already satisfied: zipp>=0.5 in /opt/conda/lib/python3.7/site-packages (from catalogue<2.1.0,>=2.0.6->spacy<3.5.0,>=3.4.0->en-core-web-sm==3.4.1) (3.8.1)\n",
      "Requirement already satisfied: six in /opt/conda/lib/python3.7/site-packages (from packaging>=20.0->spacy<3.5.0,>=3.4.0->en-core-web-sm==3.4.1) (1.14.0)\n",
      "Requirement already satisfied: pyparsing>=2.0.2 in /opt/conda/lib/python3.7/site-packages (from packaging>=20.0->spacy<3.5.0,>=3.4.0->en-core-web-sm==3.4.1) (2.4.6)\n",
      "Requirement already satisfied: smart-open<6.0.0,>=5.2.1 in /opt/conda/lib/python3.7/site-packages (from pathy>=0.3.5->spacy<3.5.0,>=3.4.0->en-core-web-sm==3.4.1) (5.2.1)\n",
      "Requirement already satisfied: idna<4,>=2.5 in /opt/conda/lib/python3.7/site-packages (from requests<3.0.0,>=2.13.0->spacy<3.5.0,>=3.4.0->en-core-web-sm==3.4.1) (2.8)\n",
      "Requirement already satisfied: certifi>=2017.4.17 in /opt/conda/lib/python3.7/site-packages (from requests<3.0.0,>=2.13.0->spacy<3.5.0,>=3.4.0->en-core-web-sm==3.4.1) (2022.6.15)\n",
      "Requirement already satisfied: charset-normalizer<3,>=2 in /opt/conda/lib/python3.7/site-packages (from requests<3.0.0,>=2.13.0->spacy<3.5.0,>=3.4.0->en-core-web-sm==3.4.1) (2.0.4)\n",
      "Requirement already satisfied: urllib3<1.27,>=1.21.1 in /opt/conda/lib/python3.7/site-packages (from requests<3.0.0,>=2.13.0->spacy<3.5.0,>=3.4.0->en-core-web-sm==3.4.1) (1.26.12)\n",
      "Requirement already satisfied: confection<1.0.0,>=0.0.1 in /opt/conda/lib/python3.7/site-packages (from thinc<8.2.0,>=8.1.0->spacy<3.5.0,>=3.4.0->en-core-web-sm==3.4.1) (0.0.3)\n",
      "Requirement already satisfied: blis<0.8.0,>=0.7.8 in /opt/conda/lib/python3.7/site-packages (from thinc<8.2.0,>=8.1.0->spacy<3.5.0,>=3.4.0->en-core-web-sm==3.4.1) (0.7.9)\n",
      "Requirement already satisfied: click<9.0.0,>=7.1.1 in /opt/conda/lib/python3.7/site-packages (from typer<0.5.0,>=0.3.0->spacy<3.5.0,>=3.4.0->en-core-web-sm==3.4.1) (8.1.3)\n",
      "Requirement already satisfied: MarkupSafe>=2.0 in /opt/conda/lib/python3.7/site-packages (from jinja2->spacy<3.5.0,>=3.4.0->en-core-web-sm==3.4.1) (2.1.1)\n",
      "Requirement already satisfied: importlib-metadata in /opt/conda/lib/python3.7/site-packages (from click<9.0.0,>=7.1.1->typer<0.5.0,>=0.3.0->spacy<3.5.0,>=3.4.0->en-core-web-sm==3.4.1) (4.12.0)\n",
      "\u001b[33mWARNING: Running pip as the 'root' user can result in broken permissions and conflicting behaviour with the system package manager. It is recommended to use a virtual environment instead: https://pip.pypa.io/warnings/venv\u001b[0m\u001b[33m\n",
      "\u001b[0m\n",
      "\u001b[1m[\u001b[0m\u001b[34;49mnotice\u001b[0m\u001b[1;39;49m]\u001b[0m\u001b[39;49m A new release of pip available: \u001b[0m\u001b[31;49m22.2.2\u001b[0m\u001b[39;49m -> \u001b[0m\u001b[32;49m22.3\u001b[0m\n",
      "\u001b[1m[\u001b[0m\u001b[34;49mnotice\u001b[0m\u001b[1;39;49m]\u001b[0m\u001b[39;49m To update, run: \u001b[0m\u001b[32;49mpip install --upgrade pip\u001b[0m\n",
      "\u001b[38;5;2m✔ Download and installation successful\u001b[0m\n",
      "You can now load the package via spacy.load('en_core_web_sm')\n"
     ]
    }
   ],
   "source": [
    "!python -m spacy download en_core_web_sm"
   ]
  },
  {
   "cell_type": "code",
   "execution_count": 9,
   "id": "8971d193-ddc4-4451-8d4a-cb10c03b0d02",
   "metadata": {},
   "outputs": [],
   "source": [
    "import pandas as pd\n",
    "import numpy\n",
    "import unicodedata\n",
    "import re\n",
    "import contractions\n",
    "import string"
   ]
  },
  {
   "cell_type": "code",
   "execution_count": null,
   "id": "d340432c-8a3a-49de-bbdb-a15eede4b586",
   "metadata": {},
   "outputs": [],
   "source": []
  },
  {
   "cell_type": "code",
   "execution_count": 10,
   "id": "52b2d7a1-913f-473d-933e-ea60657b8af6",
   "metadata": {},
   "outputs": [
    {
     "name": "stdout",
     "output_type": "stream",
     "text": [
      "Requirement already satisfied: pyLDAvis in /opt/conda/lib/python3.7/site-packages (3.3.1)\n",
      "Requirement already satisfied: funcy in /opt/conda/lib/python3.7/site-packages (from pyLDAvis) (1.17)\n",
      "Requirement already satisfied: pandas>=1.2.0 in /opt/conda/lib/python3.7/site-packages (from pyLDAvis) (1.3.5)\n",
      "Requirement already satisfied: scikit-learn in /opt/conda/lib/python3.7/site-packages (from pyLDAvis) (0.22.1)\n",
      "Requirement already satisfied: sklearn in /opt/conda/lib/python3.7/site-packages (from pyLDAvis) (0.0)\n",
      "Requirement already satisfied: future in /opt/conda/lib/python3.7/site-packages (from pyLDAvis) (0.18.2)\n",
      "Requirement already satisfied: setuptools in /opt/conda/lib/python3.7/site-packages (from pyLDAvis) (59.3.0)\n",
      "Requirement already satisfied: joblib in /opt/conda/lib/python3.7/site-packages (from pyLDAvis) (0.14.1)\n",
      "Requirement already satisfied: gensim in /opt/conda/lib/python3.7/site-packages (from pyLDAvis) (4.2.0)\n",
      "Requirement already satisfied: numpy>=1.20.0 in /opt/conda/lib/python3.7/site-packages (from pyLDAvis) (1.21.6)\n",
      "Requirement already satisfied: numexpr in /opt/conda/lib/python3.7/site-packages (from pyLDAvis) (2.7.1)\n",
      "Requirement already satisfied: scipy in /opt/conda/lib/python3.7/site-packages (from pyLDAvis) (1.4.1)\n",
      "Requirement already satisfied: jinja2 in /opt/conda/lib/python3.7/site-packages (from pyLDAvis) (3.1.2)\n",
      "Requirement already satisfied: pytz>=2017.3 in /opt/conda/lib/python3.7/site-packages (from pandas>=1.2.0->pyLDAvis) (2019.3)\n",
      "Requirement already satisfied: python-dateutil>=2.7.3 in /opt/conda/lib/python3.7/site-packages (from pandas>=1.2.0->pyLDAvis) (2.8.1)\n",
      "Requirement already satisfied: smart-open>=1.8.1 in /opt/conda/lib/python3.7/site-packages (from gensim->pyLDAvis) (5.2.1)\n",
      "Requirement already satisfied: MarkupSafe>=2.0 in /opt/conda/lib/python3.7/site-packages (from jinja2->pyLDAvis) (2.1.1)\n",
      "Requirement already satisfied: six>=1.5 in /opt/conda/lib/python3.7/site-packages (from python-dateutil>=2.7.3->pandas>=1.2.0->pyLDAvis) (1.14.0)\n",
      "\u001b[33mWARNING: Running pip as the 'root' user can result in broken permissions and conflicting behaviour with the system package manager. It is recommended to use a virtual environment instead: https://pip.pypa.io/warnings/venv\u001b[0m\u001b[33m\n",
      "\u001b[0m\n",
      "\u001b[1m[\u001b[0m\u001b[34;49mnotice\u001b[0m\u001b[1;39;49m]\u001b[0m\u001b[39;49m A new release of pip available: \u001b[0m\u001b[31;49m22.2.2\u001b[0m\u001b[39;49m -> \u001b[0m\u001b[32;49m22.3\u001b[0m\n",
      "\u001b[1m[\u001b[0m\u001b[34;49mnotice\u001b[0m\u001b[1;39;49m]\u001b[0m\u001b[39;49m To update, run: \u001b[0m\u001b[32;49mpip install --upgrade pip\u001b[0m\n",
      "Note: you may need to restart the kernel to use updated packages.\n"
     ]
    }
   ],
   "source": [
    "pip install pyLDAvis"
   ]
  },
  {
   "cell_type": "code",
   "execution_count": 11,
   "id": "2677edab-8e1f-4b8d-9dd9-fa66501cabe0",
   "metadata": {},
   "outputs": [
    {
     "name": "stderr",
     "output_type": "stream",
     "text": [
      "/opt/conda/lib/python3.7/site-packages/sklearn/decomposition/_lda.py:29: DeprecationWarning: `np.float` is a deprecated alias for the builtin `float`. To silence this warning, use `float` by itself. Doing this will not modify any behavior and is safe. If you specifically wanted the numpy scalar type, use `np.float64` here.\n",
      "Deprecated in NumPy 1.20; for more details and guidance: https://numpy.org/devdocs/release/1.20.0-notes.html#deprecations\n",
      "  EPS = np.finfo(np.float).eps\n"
     ]
    }
   ],
   "source": [
    "#Gensim\n",
    "import gensim\n",
    "import gensim.corpora as corpora\n",
    "from gensim.utils import simple_preprocess\n",
    "from gensim.models import CoherenceModel\n",
    "#spacy\n",
    "import spacy\n",
    "from nltk.corpus import stopwords\n",
    "#vis\n",
    "import pyLDAvis\n",
    "import pyLDAvis.gensim_models"
   ]
  },
  {
   "cell_type": "code",
   "execution_count": 12,
   "id": "db34a5e5-bae1-4c1c-8338-c0b19a873395",
   "metadata": {},
   "outputs": [
    {
     "name": "stderr",
     "output_type": "stream",
     "text": [
      "/opt/conda/lib/python3.7/site-packages/ipykernel/ipkernel.py:287: DeprecationWarning: `should_run_async` will not call `transform_cell` automatically in the future. Please pass the result to `transformed_cell` argument and any exception that happen during thetransform in `preprocessing_exc_tuple` in IPython 7.17 and above.\n",
      "  and should_run_async(code)\n"
     ]
    }
   ],
   "source": [
    "bucket='lda-test-data-group3'\n",
    "\n",
    "file_key = 'Erik_Aadland.csv'\n",
    "\n",
    "s3uri = 's3://{}/{}'.format(bucket, file_key)"
   ]
  },
  {
   "cell_type": "code",
   "execution_count": 13,
   "id": "16f58965-4d0e-4494-9601-4573f60b2aca",
   "metadata": {},
   "outputs": [
    {
     "name": "stderr",
     "output_type": "stream",
     "text": [
      "/opt/conda/lib/python3.7/site-packages/ipykernel/ipkernel.py:287: DeprecationWarning: `should_run_async` will not call `transform_cell` automatically in the future. Please pass the result to `transformed_cell` argument and any exception that happen during thetransform in `preprocessing_exc_tuple` in IPython 7.17 and above.\n",
      "  and should_run_async(code)\n"
     ]
    }
   ],
   "source": [
    "def load_data(path):\n",
    "    return pd.read_csv(path)\n",
    "tweets_df=load_data(s3uri)"
   ]
  },
  {
   "cell_type": "code",
   "execution_count": null,
   "id": "bfd9c562-36b0-4a2e-84aa-73a3c34de978",
   "metadata": {},
   "outputs": [],
   "source": []
  },
  {
   "cell_type": "code",
   "execution_count": 14,
   "id": "d45ad95c-6fe1-4b98-9c9d-def10d0b8d06",
   "metadata": {},
   "outputs": [
    {
     "name": "stderr",
     "output_type": "stream",
     "text": [
      "/opt/conda/lib/python3.7/site-packages/ipykernel/ipkernel.py:287: DeprecationWarning: `should_run_async` will not call `transform_cell` automatically in the future. Please pass the result to `transformed_cell` argument and any exception that happen during thetransform in `preprocessing_exc_tuple` in IPython 7.17 and above.\n",
      "  and should_run_async(code)\n"
     ]
    }
   ],
   "source": [
    "def to_lowercase(text):\n",
    "    return text.lower()\n",
    "#converting every row of the column into lower case \n",
    "tweets_df.Text=tweets_df.Text.apply(to_lowercase)"
   ]
  },
  {
   "cell_type": "code",
   "execution_count": null,
   "id": "3a11ab24-7880-4980-a78a-dd79c9e3868d",
   "metadata": {},
   "outputs": [],
   "source": []
  },
  {
   "cell_type": "code",
   "execution_count": 15,
   "id": "8236bc83-e6fe-441b-9cf2-62c391e71e38",
   "metadata": {},
   "outputs": [
    {
     "name": "stderr",
     "output_type": "stream",
     "text": [
      "/opt/conda/lib/python3.7/site-packages/ipykernel/ipkernel.py:287: DeprecationWarning: `should_run_async` will not call `transform_cell` automatically in the future. Please pass the result to `transformed_cell` argument and any exception that happen during thetransform in `preprocessing_exc_tuple` in IPython 7.17 and above.\n",
      "  and should_run_async(code)\n"
     ]
    }
   ],
   "source": [
    "def standardize_accented_chars(text):\n",
    "    return unicodedata.normalize('NFKD', text).encode('ascii', 'ignore').decode('utf-8', 'ignore')\n",
    "#testing the function on a single sample for explaination\n",
    "#print(standardize_accented_chars('Sómě words such as résumé, café, prótest, divorcé, coördinate, exposé, latté.'))\n",
    "#standardizing accented characters for every row\n",
    "tweets_df.Text=tweets_df.Text.apply(standardize_accented_chars)"
   ]
  },
  {
   "cell_type": "code",
   "execution_count": null,
   "id": "3b435126-0ccf-4c24-9d88-2976736ec621",
   "metadata": {},
   "outputs": [],
   "source": []
  },
  {
   "cell_type": "code",
   "execution_count": 16,
   "id": "7a8bc6a0-a9f6-4c60-b2af-66e7c41854da",
   "metadata": {},
   "outputs": [
    {
     "name": "stdout",
     "output_type": "stream",
     "text": [
      "84.76% of documents contain urls\n",
      "None\n"
     ]
    },
    {
     "name": "stderr",
     "output_type": "stream",
     "text": [
      "/opt/conda/lib/python3.7/site-packages/ipykernel/ipkernel.py:287: DeprecationWarning: `should_run_async` will not call `transform_cell` automatically in the future. Please pass the result to `transformed_cell` argument and any exception that happen during thetransform in `preprocessing_exc_tuple` in IPython 7.17 and above.\n",
      "  and should_run_async(code)\n"
     ]
    }
   ],
   "source": [
    "def get_number_of_urls(documents):\n",
    "    print(\"{:.2f}% of documents contain urls\".format(sum\n",
    "(documents.apply(lambda x:x.find('http'))>0)/len\n",
    "(documents)*100))\n",
    "# Passing the 'Text' column of the dataframe as the argument\n",
    "print(get_number_of_urls(tweets_df.Text)) "
   ]
  },
  {
   "cell_type": "code",
   "execution_count": null,
   "id": "1debc7e9-5f0a-45ba-9a00-62eb1bafcca1",
   "metadata": {},
   "outputs": [],
   "source": []
  },
  {
   "cell_type": "code",
   "execution_count": null,
   "id": "3743d74a-f3c7-4723-aebf-5fbd578dd9b0",
   "metadata": {},
   "outputs": [],
   "source": []
  },
  {
   "cell_type": "code",
   "execution_count": null,
   "id": "f6322079-cf62-4011-b2da-e65431e604a3",
   "metadata": {},
   "outputs": [],
   "source": []
  },
  {
   "cell_type": "code",
   "execution_count": 17,
   "id": "88f84fcb-af77-4d51-9053-ef692474952c",
   "metadata": {},
   "outputs": [
    {
     "name": "stderr",
     "output_type": "stream",
     "text": [
      "/opt/conda/lib/python3.7/site-packages/ipykernel/ipkernel.py:287: DeprecationWarning: `should_run_async` will not call `transform_cell` automatically in the future. Please pass the result to `transformed_cell` argument and any exception that happen during thetransform in `preprocessing_exc_tuple` in IPython 7.17 and above.\n",
      "  and should_run_async(code)\n"
     ]
    }
   ],
   "source": [
    "def remove_url(text):\n",
    "    return re.sub(r'https?:\\S*', '', text)\n",
    "#testing the function on a single sample for explaination\n",
    "#print(remove_url('using https://www.google.com/ as an example'))\n",
    "#removing urls from every row\n",
    "tweets_df.Text=tweets_df.Text.apply(remove_url)"
   ]
  },
  {
   "cell_type": "code",
   "execution_count": null,
   "id": "416e936f-ea9d-454b-b736-cd54c1c277d1",
   "metadata": {},
   "outputs": [],
   "source": []
  },
  {
   "cell_type": "code",
   "execution_count": 18,
   "id": "677ec7f0-283d-4093-bcdf-71027256fbdc",
   "metadata": {},
   "outputs": [
    {
     "name": "stderr",
     "output_type": "stream",
     "text": [
      "/opt/conda/lib/python3.7/site-packages/ipykernel/ipkernel.py:287: DeprecationWarning: `should_run_async` will not call `transform_cell` automatically in the future. Please pass the result to `transformed_cell` argument and any exception that happen during thetransform in `preprocessing_exc_tuple` in IPython 7.17 and above.\n",
      "  and should_run_async(code)\n"
     ]
    }
   ],
   "source": [
    "def expand_contractions(text):\n",
    "    expanded_words = [] \n",
    "    for word in text.split():\n",
    "        expanded_words.append(contractions.fix(word)) \n",
    "    return ' '.join(expanded_words)\n",
    "#testing the function on a single sample for explaination\n",
    "#print(expand_contractions(\"Don't is same as do not\"))\n",
    "#expanding contractions for every row\n",
    "tweets_df.Text=tweets_df.Text.apply(expand_contractions)"
   ]
  },
  {
   "cell_type": "code",
   "execution_count": null,
   "id": "b0790821-2f67-46ea-98dc-1cbcbba2b0df",
   "metadata": {},
   "outputs": [],
   "source": []
  },
  {
   "cell_type": "code",
   "execution_count": 19,
   "id": "68187292-d3b9-4898-9daa-dd62fc6aa3a3",
   "metadata": {},
   "outputs": [
    {
     "name": "stderr",
     "output_type": "stream",
     "text": [
      "/opt/conda/lib/python3.7/site-packages/ipykernel/ipkernel.py:287: DeprecationWarning: `should_run_async` will not call `transform_cell` automatically in the future. Please pass the result to `transformed_cell` argument and any exception that happen during thetransform in `preprocessing_exc_tuple` in IPython 7.17 and above.\n",
      "  and should_run_async(code)\n"
     ]
    }
   ],
   "source": [
    "def remove_mentions_and_tags(text):\n",
    "    text = re.sub(r'@\\S*', '', text)\n",
    "    return re.sub(r'#\\S*', '', text)\n",
    "#testing the function on a single sample for explaination\n",
    "#print(remove_mentions_and_tags('Some random @abc and #def'))\n",
    "#removing mentions and tags from every row\n",
    "tweets_df.Text=tweets_df.Text.apply(remove_mentions_and_tags)"
   ]
  },
  {
   "cell_type": "code",
   "execution_count": null,
   "id": "1057709c-a25e-4f6c-9b53-4f310c009a30",
   "metadata": {},
   "outputs": [],
   "source": []
  },
  {
   "cell_type": "code",
   "execution_count": 20,
   "id": "f198edf8-8493-4e60-b318-d8f9499b8d57",
   "metadata": {},
   "outputs": [
    {
     "name": "stderr",
     "output_type": "stream",
     "text": [
      "/opt/conda/lib/python3.7/site-packages/ipykernel/ipkernel.py:287: DeprecationWarning: `should_run_async` will not call `transform_cell` automatically in the future. Please pass the result to `transformed_cell` argument and any exception that happen during thetransform in `preprocessing_exc_tuple` in IPython 7.17 and above.\n",
      "  and should_run_async(code)\n"
     ]
    }
   ],
   "source": [
    "def keep_only_alphabet(text):\n",
    "    return re.sub(r'[^a-z]', ' ', text)\n",
    "#testing the function on a single sample for explaination\n",
    "#print(keep_only_alphabet('Just a bit more $$processing required.Just a bit!!!'))\n",
    "#for all the rows\n",
    "tweets_df.Text=tweets_df.Text.apply(keep_only_alphabet)"
   ]
  },
  {
   "cell_type": "code",
   "execution_count": null,
   "id": "8bdd9c39-0bcb-4415-bc54-62554250f659",
   "metadata": {},
   "outputs": [],
   "source": []
  },
  {
   "cell_type": "code",
   "execution_count": 21,
   "id": "212a62dc-e119-4f09-a309-003aebb8be49",
   "metadata": {},
   "outputs": [
    {
     "name": "stderr",
     "output_type": "stream",
     "text": [
      "/opt/conda/lib/python3.7/site-packages/ipykernel/ipkernel.py:287: DeprecationWarning: `should_run_async` will not call `transform_cell` automatically in the future. Please pass the result to `transformed_cell` argument and any exception that happen during thetransform in `preprocessing_exc_tuple` in IPython 7.17 and above.\n",
      "  and should_run_async(code)\n",
      "/opt/conda/lib/python3.7/site-packages/spacy/language.py:1899: UserWarning: [W123] Argument disable with value ['parser', 'ner'] is used instead of ['senter'] as specified in the config. Be aware that this might affect other components in your pipeline.\n",
      "  config_value=config[\"nlp\"][key],\n"
     ]
    }
   ],
   "source": [
    "def remove_stopwords(text,nlp,custom_stop_words=None,\n",
    "remove_small_tokens=True,min_len=2):\n",
    "    # if custom stop words are provided, then add them to default stop words list\n",
    "    if custom_stop_words:\n",
    "        nlp.Defaults.stop_words |= custom_stop_words\n",
    "    \n",
    "    filtered_sentence =[] \n",
    "    doc=nlp(text)\n",
    "    for token in doc:\n",
    "        \n",
    "        if token.is_stop == False: \n",
    "            \n",
    "            # if small tokens have to be removed, then select only those which are longer than the min_len \n",
    "            if remove_small_tokens:\n",
    "                if len(token.text)>min_len:\n",
    "                    filtered_sentence.append(token.text)\n",
    "            else:\n",
    "                filtered_sentence.append(token.text)\n",
    "    # if after the stop word removal, words are still left in the sentence, then return the sentence as a string else return null \n",
    "    return \" \".join(filtered_sentence) if len(filtered_sentence)>0 else None\n",
    "#creating a spaCy object. \n",
    "nlp = spacy.load(\"en_core_web_sm\", disable=[\"parser\", \"ner\"])\n",
    "#removing stop-words and short words from every row\n",
    "#tweets_df.Text=tweets_df.Text.apply(lambda x:remove_stopwords(x,nlp,{\"\",\"\",}))\n",
    "tweets_df.Text=tweets_df.Text.apply(lambda x:remove_stopwords(x,nlp))"
   ]
  },
  {
   "cell_type": "code",
   "execution_count": 22,
   "id": "029e3bcb-3968-4a2f-a4e5-978f809596db",
   "metadata": {},
   "outputs": [
    {
     "name": "stderr",
     "output_type": "stream",
     "text": [
      "/opt/conda/lib/python3.7/site-packages/ipykernel/ipkernel.py:287: DeprecationWarning: `should_run_async` will not call `transform_cell` automatically in the future. Please pass the result to `transformed_cell` argument and any exception that happen during thetransform in `preprocessing_exc_tuple` in IPython 7.17 and above.\n",
      "  and should_run_async(code)\n"
     ]
    },
    {
     "data": {
      "text/plain": [
       "0    thanks soft crime policies championed opponent...\n",
       "1    future economy     polis admin expects growth ...\n",
       "2    surprise hear law enforcement seized stash fen...\n",
       "3    icymi study common sense institute found thoug...\n",
       "4    reuters biden approval rating slips       abun...\n",
       "Name: Text, dtype: object"
      ]
     },
     "execution_count": 22,
     "metadata": {},
     "output_type": "execute_result"
    }
   ],
   "source": [
    "tweets_df.Text = tweets_df.Text.replace(to_replace='None', value=None).dropna()\n",
    "tweets_df= tweets_df.dropna()\n",
    "tweets_df.Text.head()"
   ]
  },
  {
   "cell_type": "code",
   "execution_count": 23,
   "id": "bcc49d96-b793-4a73-8618-1f3e978a6ba7",
   "metadata": {},
   "outputs": [
    {
     "name": "stderr",
     "output_type": "stream",
     "text": [
      "/opt/conda/lib/python3.7/site-packages/ipykernel/ipkernel.py:287: DeprecationWarning: `should_run_async` will not call `transform_cell` automatically in the future. Please pass the result to `transformed_cell` argument and any exception that happen during thetransform in `preprocessing_exc_tuple` in IPython 7.17 and above.\n",
      "  and should_run_async(code)\n"
     ]
    }
   ],
   "source": [
    "tweets_df.Text = tweets_df.Text.astype(str)\n",
    "\n",
    "def lemmatize(text, nlp):\n",
    "    doc = nlp(text)\n",
    "    lemmatized_text = []\n",
    "    for token in doc:\n",
    "        lemmatized_text.append(token.lemma_)\n",
    "    return \" \".join(lemmatized_text)\n",
    "#testing the function on a single sample for explaination\n",
    "#print(lemmatize('Reading NLP blog is fun.' ,nlp))\n",
    "#Performing lemmatization on every row\n",
    "tweets_df.Text=tweets_df.Text.apply(lambda x:lemmatize(x,nlp))"
   ]
  },
  {
   "cell_type": "code",
   "execution_count": 24,
   "id": "2a649829-4f3c-4c15-97e4-0f1f3f4758d0",
   "metadata": {},
   "outputs": [
    {
     "name": "stderr",
     "output_type": "stream",
     "text": [
      "/opt/conda/lib/python3.7/site-packages/ipykernel/ipkernel.py:287: DeprecationWarning: `should_run_async` will not call `transform_cell` automatically in the future. Please pass the result to `transformed_cell` argument and any exception that happen during thetransform in `preprocessing_exc_tuple` in IPython 7.17 and above.\n",
      "  and should_run_async(code)\n"
     ]
    }
   ],
   "source": [
    "def generate_tokens(tweet):\n",
    "    words=[]\n",
    "    for word in tweet.split(' '):\n",
    "    # using the if condition because we introduced extra spaces during text cleaning\n",
    "       if word!='' and pd.isna(word) != True:\n",
    "            words.append(word)\n",
    "    return words\n",
    "#storing the generated tokens in a new column named 'words'\n",
    "tweets_df['tokens']=tweets_df.Text.apply(generate_tokens)"
   ]
  },
  {
   "cell_type": "code",
   "execution_count": 25,
   "id": "1ac6b925-00a5-4634-b111-67735a03ec06",
   "metadata": {},
   "outputs": [
    {
     "name": "stdout",
     "output_type": "stream",
     "text": [
      "Dictionary<2133 unique tokens: ['campaign', 'champion', 'check', 'crime', 'criminal']...>\n"
     ]
    },
    {
     "name": "stderr",
     "output_type": "stream",
     "text": [
      "/opt/conda/lib/python3.7/site-packages/ipykernel/ipkernel.py:287: DeprecationWarning: `should_run_async` will not call `transform_cell` automatically in the future. Please pass the result to `transformed_cell` argument and any exception that happen during thetransform in `preprocessing_exc_tuple` in IPython 7.17 and above.\n",
      "  and should_run_async(code)\n"
     ]
    }
   ],
   "source": [
    "def create_dictionary(words):\n",
    "    return corpora.Dictionary(words)\n",
    "#passing the dataframe column having tokens as the argument\n",
    "id2word=create_dictionary(tweets_df.tokens)\n",
    "print(id2word)"
   ]
  },
  {
   "cell_type": "code",
   "execution_count": 26,
   "id": "cbde2cca-d7a3-4266-81da-cd05613e66df",
   "metadata": {},
   "outputs": [
    {
     "name": "stdout",
     "output_type": "stream",
     "text": [
      "['thank', 'soft', 'crime', 'policy', 'champion', 'opponent', 'fentanyl', 'death', 'time', 'year', 'need', 'leadership', 'family', 'safe', 'need', 'protect', 'kid', 'criminal', 'drug', 'dealer', 'check', 'new', 'campaign']\n",
      "[(0, 1), (1, 1), (2, 1), (3, 1), (4, 1), (5, 1), (6, 1), (7, 1), (8, 1), (9, 1), (10, 1), (11, 1), (12, 2), (13, 1), (14, 1), (15, 1), (16, 1), (17, 1), (18, 1), (19, 1), (20, 1), (21, 1)]\n"
     ]
    },
    {
     "name": "stderr",
     "output_type": "stream",
     "text": [
      "/opt/conda/lib/python3.7/site-packages/ipykernel/ipkernel.py:287: DeprecationWarning: `should_run_async` will not call `transform_cell` automatically in the future. Please pass the result to `transformed_cell` argument and any exception that happen during thetransform in `preprocessing_exc_tuple` in IPython 7.17 and above.\n",
      "  and should_run_async(code)\n"
     ]
    }
   ],
   "source": [
    "def create_document_matrix(tokens,id2word):\n",
    "    corpus = []\n",
    "    for text in tokens:\n",
    "            corpus.append(id2word.doc2bow(text))\n",
    "    return corpus\n",
    "#passing the dataframe column having tokens and dictionary\n",
    "corpus=create_document_matrix(tweets_df.tokens,id2word)\n",
    "print(tweets_df.tokens[0])\n",
    "print(corpus[0])"
   ]
  },
  {
   "cell_type": "code",
   "execution_count": 27,
   "id": "540917e6-c00e-40ce-9a14-70d024608ad8",
   "metadata": {},
   "outputs": [
    {
     "name": "stderr",
     "output_type": "stream",
     "text": [
      "/opt/conda/lib/python3.7/site-packages/ipykernel/ipkernel.py:287: DeprecationWarning: `should_run_async` will not call `transform_cell` automatically in the future. Please pass the result to `transformed_cell` argument and any exception that happen during thetransform in `preprocessing_exc_tuple` in IPython 7.17 and above.\n",
      "  and should_run_async(code)\n"
     ]
    }
   ],
   "source": [
    "#LDA Model Portion\n",
    "\n",
    "lda_model = gensim.models.ldamodel.LdaModel(corpus=corpus,\n",
    " id2word=id2word,\n",
    " num_topics=10,\n",
    " random_state=100,\n",
    " )\n"
   ]
  },
  {
   "cell_type": "code",
   "execution_count": 28,
   "id": "c63319f3-7038-48e2-bf90-0a4e61bc3b46",
   "metadata": {},
   "outputs": [
    {
     "name": "stderr",
     "output_type": "stream",
     "text": [
      "/opt/conda/lib/python3.7/site-packages/ipykernel/ipkernel.py:287: DeprecationWarning: `should_run_async` will not call `transform_cell` automatically in the future. Please pass the result to `transformed_cell` argument and any exception that happen during thetransform in `preprocessing_exc_tuple` in IPython 7.17 and above.\n",
      "  and should_run_async(code)\n"
     ]
    },
    {
     "data": {
      "text/html": [
       "<div>\n",
       "<style scoped>\n",
       "    .dataframe tbody tr th:only-of-type {\n",
       "        vertical-align: middle;\n",
       "    }\n",
       "\n",
       "    .dataframe tbody tr th {\n",
       "        vertical-align: top;\n",
       "    }\n",
       "\n",
       "    .dataframe thead th {\n",
       "        text-align: right;\n",
       "    }\n",
       "</style>\n",
       "<table border=\"1\" class=\"dataframe\">\n",
       "  <thead>\n",
       "    <tr style=\"text-align: right;\">\n",
       "      <th></th>\n",
       "      <th>Topic # 01</th>\n",
       "      <th>Topic # 02</th>\n",
       "      <th>Topic # 03</th>\n",
       "      <th>Topic # 04</th>\n",
       "      <th>Topic # 05</th>\n",
       "      <th>Topic # 06</th>\n",
       "      <th>Topic # 07</th>\n",
       "      <th>Topic # 08</th>\n",
       "      <th>Topic # 09</th>\n",
       "      <th>Topic # 10</th>\n",
       "    </tr>\n",
       "  </thead>\n",
       "  <tbody>\n",
       "    <tr>\n",
       "      <th>0</th>\n",
       "      <td>colorado</td>\n",
       "      <td>crime</td>\n",
       "      <td>people</td>\n",
       "      <td>support</td>\n",
       "      <td>colorado</td>\n",
       "      <td>great</td>\n",
       "      <td>family</td>\n",
       "      <td>colorado</td>\n",
       "      <td>colorado</td>\n",
       "      <td>fight</td>\n",
       "    </tr>\n",
       "    <tr>\n",
       "      <th>1</th>\n",
       "      <td>washington</td>\n",
       "      <td>colorado</td>\n",
       "      <td>thank</td>\n",
       "      <td>country</td>\n",
       "      <td>strength</td>\n",
       "      <td>country</td>\n",
       "      <td>colorado</td>\n",
       "      <td>people</td>\n",
       "      <td>family</td>\n",
       "      <td>good</td>\n",
       "    </tr>\n",
       "    <tr>\n",
       "      <th>2</th>\n",
       "      <td>crime</td>\n",
       "      <td>people</td>\n",
       "      <td>washington</td>\n",
       "      <td>campaign</td>\n",
       "      <td>american</td>\n",
       "      <td>congressman</td>\n",
       "      <td>serve</td>\n",
       "      <td>aadland</td>\n",
       "      <td>opponent</td>\n",
       "      <td>restore</td>\n",
       "    </tr>\n",
       "    <tr>\n",
       "      <th>3</th>\n",
       "      <td>family</td>\n",
       "      <td>policy</td>\n",
       "      <td>support</td>\n",
       "      <td>people</td>\n",
       "      <td>state</td>\n",
       "      <td>economy</td>\n",
       "      <td>people</td>\n",
       "      <td>congress</td>\n",
       "      <td>year</td>\n",
       "      <td>policy</td>\n",
       "    </tr>\n",
       "    <tr>\n",
       "      <th>4</th>\n",
       "      <td>question</td>\n",
       "      <td>congress</td>\n",
       "      <td>colorado</td>\n",
       "      <td>crime</td>\n",
       "      <td>energy</td>\n",
       "      <td>amp</td>\n",
       "      <td>law</td>\n",
       "      <td>washington</td>\n",
       "      <td>inflation</td>\n",
       "      <td>support</td>\n",
       "    </tr>\n",
       "    <tr>\n",
       "      <th>5</th>\n",
       "      <td>meet</td>\n",
       "      <td>great</td>\n",
       "      <td>policy</td>\n",
       "      <td>vote</td>\n",
       "      <td>principle</td>\n",
       "      <td>people</td>\n",
       "      <td>country</td>\n",
       "      <td>country</td>\n",
       "      <td>policy</td>\n",
       "      <td>honor</td>\n",
       "    </tr>\n",
       "    <tr>\n",
       "      <th>6</th>\n",
       "      <td>policy</td>\n",
       "      <td>year</td>\n",
       "      <td>biden</td>\n",
       "      <td>drug</td>\n",
       "      <td>honor</td>\n",
       "      <td>endorsement</td>\n",
       "      <td>endorsement</td>\n",
       "      <td>like</td>\n",
       "      <td>biden</td>\n",
       "      <td>thank</td>\n",
       "    </tr>\n",
       "    <tr>\n",
       "      <th>7</th>\n",
       "      <td>thank</td>\n",
       "      <td>bad</td>\n",
       "      <td>campaign</td>\n",
       "      <td>america</td>\n",
       "      <td>china</td>\n",
       "      <td>colorado</td>\n",
       "      <td>washington</td>\n",
       "      <td>congressman</td>\n",
       "      <td>president</td>\n",
       "      <td>progressive</td>\n",
       "    </tr>\n",
       "    <tr>\n",
       "      <th>8</th>\n",
       "      <td>leadership</td>\n",
       "      <td>like</td>\n",
       "      <td>politician</td>\n",
       "      <td>want</td>\n",
       "      <td>support</td>\n",
       "      <td>state</td>\n",
       "      <td>congressman</td>\n",
       "      <td>meet</td>\n",
       "      <td>like</td>\n",
       "      <td>win</td>\n",
       "    </tr>\n",
       "    <tr>\n",
       "      <th>9</th>\n",
       "      <td>support</td>\n",
       "      <td>amp</td>\n",
       "      <td>restore</td>\n",
       "      <td>washington</td>\n",
       "      <td>country</td>\n",
       "      <td>policy</td>\n",
       "      <td>question</td>\n",
       "      <td>opponent</td>\n",
       "      <td>pelosi</td>\n",
       "      <td>representative</td>\n",
       "    </tr>\n",
       "  </tbody>\n",
       "</table>\n",
       "</div>"
      ],
      "text/plain": [
       "   Topic # 01 Topic # 02  Topic # 03  Topic # 04 Topic # 05   Topic # 06  \\\n",
       "0    colorado      crime      people     support   colorado        great   \n",
       "1  washington   colorado       thank     country   strength      country   \n",
       "2       crime     people  washington    campaign   american  congressman   \n",
       "3      family     policy     support      people      state      economy   \n",
       "4    question   congress    colorado       crime     energy          amp   \n",
       "5        meet      great      policy        vote  principle       people   \n",
       "6      policy       year       biden        drug      honor  endorsement   \n",
       "7       thank        bad    campaign     america      china     colorado   \n",
       "8  leadership       like  politician        want    support        state   \n",
       "9     support        amp     restore  washington    country       policy   \n",
       "\n",
       "    Topic # 07   Topic # 08 Topic # 09      Topic # 10  \n",
       "0       family     colorado   colorado           fight  \n",
       "1     colorado       people     family            good  \n",
       "2        serve      aadland   opponent         restore  \n",
       "3       people     congress       year          policy  \n",
       "4          law   washington  inflation         support  \n",
       "5      country      country     policy           honor  \n",
       "6  endorsement         like      biden           thank  \n",
       "7   washington  congressman  president     progressive  \n",
       "8  congressman         meet       like             win  \n",
       "9     question     opponent     pelosi  representative  "
      ]
     },
     "execution_count": 28,
     "metadata": {},
     "output_type": "execute_result"
    }
   ],
   "source": [
    "def get_lda_topics(model, num_topics, top_n_words):\n",
    "    word_dict = {}\n",
    "    for i in range(num_topics):\n",
    "            word_dict['Topic # ' + '{:02d}'.format(i+1)] = [i[0] for i in model.show_topic(i, topn = top_n_words)];\n",
    " \n",
    "    return pd.DataFrame(word_dict)\n",
    "get_lda_topics(lda_model,10,10)"
   ]
  },
  {
   "cell_type": "code",
   "execution_count": 29,
   "id": "cbc8b200-3b96-49ae-8055-1f075e9045c4",
   "metadata": {},
   "outputs": [
    {
     "name": "stderr",
     "output_type": "stream",
     "text": [
      "/opt/conda/lib/python3.7/site-packages/ipykernel/ipkernel.py:287: DeprecationWarning: `should_run_async` will not call `transform_cell` automatically in the future. Please pass the result to `transformed_cell` argument and any exception that happen during thetransform in `preprocessing_exc_tuple` in IPython 7.17 and above.\n",
      "  and should_run_async(code)\n",
      "/opt/conda/lib/python3.7/site-packages/pyLDAvis/_prepare.py:247: FutureWarning: In a future version of pandas all arguments of DataFrame.drop except for the argument 'labels' will be keyword-only\n",
      "  by='saliency', ascending=False).head(R).drop('saliency', 1)\n",
      "/opt/conda/lib/python3.7/site-packages/sklearn/metrics/pairwise.py:56: DeprecationWarning: `np.float` is a deprecated alias for the builtin `float`. To silence this warning, use `float` by itself. Doing this will not modify any behavior and is safe. If you specifically wanted the numpy scalar type, use `np.float64` here.\n",
      "Deprecated in NumPy 1.20; for more details and guidance: https://numpy.org/devdocs/release/1.20.0-notes.html#deprecations\n",
      "  dtype = np.float\n",
      "/opt/conda/lib/python3.7/site-packages/sklearn/metrics/pairwise.py:56: DeprecationWarning: `np.float` is a deprecated alias for the builtin `float`. To silence this warning, use `float` by itself. Doing this will not modify any behavior and is safe. If you specifically wanted the numpy scalar type, use `np.float64` here.\n",
      "Deprecated in NumPy 1.20; for more details and guidance: https://numpy.org/devdocs/release/1.20.0-notes.html#deprecations\n",
      "  dtype = np.float\n",
      "/opt/conda/lib/python3.7/site-packages/sklearn/metrics/pairwise.py:56: DeprecationWarning: `np.float` is a deprecated alias for the builtin `float`. To silence this warning, use `float` by itself. Doing this will not modify any behavior and is safe. If you specifically wanted the numpy scalar type, use `np.float64` here.\n",
      "Deprecated in NumPy 1.20; for more details and guidance: https://numpy.org/devdocs/release/1.20.0-notes.html#deprecations\n",
      "  dtype = np.float\n",
      "/opt/conda/lib/python3.7/site-packages/sklearn/metrics/pairwise.py:56: DeprecationWarning: `np.float` is a deprecated alias for the builtin `float`. To silence this warning, use `float` by itself. Doing this will not modify any behavior and is safe. If you specifically wanted the numpy scalar type, use `np.float64` here.\n",
      "Deprecated in NumPy 1.20; for more details and guidance: https://numpy.org/devdocs/release/1.20.0-notes.html#deprecations\n",
      "  dtype = np.float\n",
      "/opt/conda/lib/python3.7/site-packages/sklearn/metrics/pairwise.py:56: DeprecationWarning: `np.float` is a deprecated alias for the builtin `float`. To silence this warning, use `float` by itself. Doing this will not modify any behavior and is safe. If you specifically wanted the numpy scalar type, use `np.float64` here.\n",
      "Deprecated in NumPy 1.20; for more details and guidance: https://numpy.org/devdocs/release/1.20.0-notes.html#deprecations\n",
      "  dtype = np.float\n",
      "/opt/conda/lib/python3.7/site-packages/sklearn/metrics/pairwise.py:56: DeprecationWarning: `np.float` is a deprecated alias for the builtin `float`. To silence this warning, use `float` by itself. Doing this will not modify any behavior and is safe. If you specifically wanted the numpy scalar type, use `np.float64` here.\n",
      "Deprecated in NumPy 1.20; for more details and guidance: https://numpy.org/devdocs/release/1.20.0-notes.html#deprecations\n",
      "  dtype = np.float\n",
      "/opt/conda/lib/python3.7/site-packages/sklearn/metrics/pairwise.py:56: DeprecationWarning: `np.float` is a deprecated alias for the builtin `float`. To silence this warning, use `float` by itself. Doing this will not modify any behavior and is safe. If you specifically wanted the numpy scalar type, use `np.float64` here.\n",
      "Deprecated in NumPy 1.20; for more details and guidance: https://numpy.org/devdocs/release/1.20.0-notes.html#deprecations\n",
      "  dtype = np.float\n",
      "/opt/conda/lib/python3.7/site-packages/sklearn/metrics/pairwise.py:56: DeprecationWarning: `np.float` is a deprecated alias for the builtin `float`. To silence this warning, use `float` by itself. Doing this will not modify any behavior and is safe. If you specifically wanted the numpy scalar type, use `np.float64` here.\n",
      "Deprecated in NumPy 1.20; for more details and guidance: https://numpy.org/devdocs/release/1.20.0-notes.html#deprecations\n",
      "  dtype = np.float\n",
      "/opt/conda/lib/python3.7/site-packages/sklearn/metrics/pairwise.py:56: DeprecationWarning: `np.float` is a deprecated alias for the builtin `float`. To silence this warning, use `float` by itself. Doing this will not modify any behavior and is safe. If you specifically wanted the numpy scalar type, use `np.float64` here.\n",
      "Deprecated in NumPy 1.20; for more details and guidance: https://numpy.org/devdocs/release/1.20.0-notes.html#deprecations\n",
      "  dtype = np.float\n",
      "/opt/conda/lib/python3.7/site-packages/sklearn/metrics/pairwise.py:56: DeprecationWarning: `np.float` is a deprecated alias for the builtin `float`. To silence this warning, use `float` by itself. Doing this will not modify any behavior and is safe. If you specifically wanted the numpy scalar type, use `np.float64` here.\n",
      "Deprecated in NumPy 1.20; for more details and guidance: https://numpy.org/devdocs/release/1.20.0-notes.html#deprecations\n",
      "  dtype = np.float\n",
      "/opt/conda/lib/python3.7/site-packages/sklearn/metrics/pairwise.py:56: DeprecationWarning: `np.float` is a deprecated alias for the builtin `float`. To silence this warning, use `float` by itself. Doing this will not modify any behavior and is safe. If you specifically wanted the numpy scalar type, use `np.float64` here.\n",
      "Deprecated in NumPy 1.20; for more details and guidance: https://numpy.org/devdocs/release/1.20.0-notes.html#deprecations\n",
      "  dtype = np.float\n",
      "/opt/conda/lib/python3.7/site-packages/sklearn/metrics/pairwise.py:56: DeprecationWarning: `np.float` is a deprecated alias for the builtin `float`. To silence this warning, use `float` by itself. Doing this will not modify any behavior and is safe. If you specifically wanted the numpy scalar type, use `np.float64` here.\n",
      "Deprecated in NumPy 1.20; for more details and guidance: https://numpy.org/devdocs/release/1.20.0-notes.html#deprecations\n",
      "  dtype = np.float\n",
      "/opt/conda/lib/python3.7/site-packages/sklearn/metrics/pairwise.py:56: DeprecationWarning: `np.float` is a deprecated alias for the builtin `float`. To silence this warning, use `float` by itself. Doing this will not modify any behavior and is safe. If you specifically wanted the numpy scalar type, use `np.float64` here.\n",
      "Deprecated in NumPy 1.20; for more details and guidance: https://numpy.org/devdocs/release/1.20.0-notes.html#deprecations\n",
      "  dtype = np.float\n",
      "/opt/conda/lib/python3.7/site-packages/sklearn/metrics/pairwise.py:56: DeprecationWarning: `np.float` is a deprecated alias for the builtin `float`. To silence this warning, use `float` by itself. Doing this will not modify any behavior and is safe. If you specifically wanted the numpy scalar type, use `np.float64` here.\n",
      "Deprecated in NumPy 1.20; for more details and guidance: https://numpy.org/devdocs/release/1.20.0-notes.html#deprecations\n",
      "  dtype = np.float\n",
      "/opt/conda/lib/python3.7/site-packages/sklearn/metrics/pairwise.py:56: DeprecationWarning: `np.float` is a deprecated alias for the builtin `float`. To silence this warning, use `float` by itself. Doing this will not modify any behavior and is safe. If you specifically wanted the numpy scalar type, use `np.float64` here.\n",
      "Deprecated in NumPy 1.20; for more details and guidance: https://numpy.org/devdocs/release/1.20.0-notes.html#deprecations\n",
      "  dtype = np.float\n",
      "/opt/conda/lib/python3.7/site-packages/sklearn/metrics/pairwise.py:56: DeprecationWarning: `np.float` is a deprecated alias for the builtin `float`. To silence this warning, use `float` by itself. Doing this will not modify any behavior and is safe. If you specifically wanted the numpy scalar type, use `np.float64` here.\n",
      "Deprecated in NumPy 1.20; for more details and guidance: https://numpy.org/devdocs/release/1.20.0-notes.html#deprecations\n",
      "  dtype = np.float\n",
      "/opt/conda/lib/python3.7/site-packages/sklearn/metrics/pairwise.py:56: DeprecationWarning: `np.float` is a deprecated alias for the builtin `float`. To silence this warning, use `float` by itself. Doing this will not modify any behavior and is safe. If you specifically wanted the numpy scalar type, use `np.float64` here.\n",
      "Deprecated in NumPy 1.20; for more details and guidance: https://numpy.org/devdocs/release/1.20.0-notes.html#deprecations\n",
      "  dtype = np.float\n",
      "/opt/conda/lib/python3.7/site-packages/sklearn/metrics/pairwise.py:56: DeprecationWarning: `np.float` is a deprecated alias for the builtin `float`. To silence this warning, use `float` by itself. Doing this will not modify any behavior and is safe. If you specifically wanted the numpy scalar type, use `np.float64` here.\n",
      "Deprecated in NumPy 1.20; for more details and guidance: https://numpy.org/devdocs/release/1.20.0-notes.html#deprecations\n",
      "  dtype = np.float\n",
      "/opt/conda/lib/python3.7/site-packages/sklearn/metrics/pairwise.py:56: DeprecationWarning: `np.float` is a deprecated alias for the builtin `float`. To silence this warning, use `float` by itself. Doing this will not modify any behavior and is safe. If you specifically wanted the numpy scalar type, use `np.float64` here.\n",
      "Deprecated in NumPy 1.20; for more details and guidance: https://numpy.org/devdocs/release/1.20.0-notes.html#deprecations\n",
      "  dtype = np.float\n",
      "/opt/conda/lib/python3.7/site-packages/sklearn/metrics/pairwise.py:56: DeprecationWarning: `np.float` is a deprecated alias for the builtin `float`. To silence this warning, use `float` by itself. Doing this will not modify any behavior and is safe. If you specifically wanted the numpy scalar type, use `np.float64` here.\n",
      "Deprecated in NumPy 1.20; for more details and guidance: https://numpy.org/devdocs/release/1.20.0-notes.html#deprecations\n",
      "  dtype = np.float\n",
      "/opt/conda/lib/python3.7/site-packages/sklearn/metrics/pairwise.py:56: DeprecationWarning: `np.float` is a deprecated alias for the builtin `float`. To silence this warning, use `float` by itself. Doing this will not modify any behavior and is safe. If you specifically wanted the numpy scalar type, use `np.float64` here.\n",
      "Deprecated in NumPy 1.20; for more details and guidance: https://numpy.org/devdocs/release/1.20.0-notes.html#deprecations\n",
      "  dtype = np.float\n",
      "/opt/conda/lib/python3.7/site-packages/sklearn/metrics/pairwise.py:56: DeprecationWarning: `np.float` is a deprecated alias for the builtin `float`. To silence this warning, use `float` by itself. Doing this will not modify any behavior and is safe. If you specifically wanted the numpy scalar type, use `np.float64` here.\n",
      "Deprecated in NumPy 1.20; for more details and guidance: https://numpy.org/devdocs/release/1.20.0-notes.html#deprecations\n",
      "  dtype = np.float\n",
      "/opt/conda/lib/python3.7/site-packages/sklearn/metrics/pairwise.py:56: DeprecationWarning: `np.float` is a deprecated alias for the builtin `float`. To silence this warning, use `float` by itself. Doing this will not modify any behavior and is safe. If you specifically wanted the numpy scalar type, use `np.float64` here.\n",
      "Deprecated in NumPy 1.20; for more details and guidance: https://numpy.org/devdocs/release/1.20.0-notes.html#deprecations\n",
      "  dtype = np.float\n",
      "/opt/conda/lib/python3.7/site-packages/sklearn/metrics/pairwise.py:56: DeprecationWarning: `np.float` is a deprecated alias for the builtin `float`. To silence this warning, use `float` by itself. Doing this will not modify any behavior and is safe. If you specifically wanted the numpy scalar type, use `np.float64` here.\n",
      "Deprecated in NumPy 1.20; for more details and guidance: https://numpy.org/devdocs/release/1.20.0-notes.html#deprecations\n",
      "  dtype = np.float\n",
      "/opt/conda/lib/python3.7/site-packages/sklearn/metrics/pairwise.py:56: DeprecationWarning: `np.float` is a deprecated alias for the builtin `float`. To silence this warning, use `float` by itself. Doing this will not modify any behavior and is safe. If you specifically wanted the numpy scalar type, use `np.float64` here.\n",
      "Deprecated in NumPy 1.20; for more details and guidance: https://numpy.org/devdocs/release/1.20.0-notes.html#deprecations\n",
      "  dtype = np.float\n",
      "/opt/conda/lib/python3.7/site-packages/sklearn/metrics/pairwise.py:56: DeprecationWarning: `np.float` is a deprecated alias for the builtin `float`. To silence this warning, use `float` by itself. Doing this will not modify any behavior and is safe. If you specifically wanted the numpy scalar type, use `np.float64` here.\n",
      "Deprecated in NumPy 1.20; for more details and guidance: https://numpy.org/devdocs/release/1.20.0-notes.html#deprecations\n",
      "  dtype = np.float\n",
      "/opt/conda/lib/python3.7/site-packages/sklearn/metrics/pairwise.py:56: DeprecationWarning: `np.float` is a deprecated alias for the builtin `float`. To silence this warning, use `float` by itself. Doing this will not modify any behavior and is safe. If you specifically wanted the numpy scalar type, use `np.float64` here.\n",
      "Deprecated in NumPy 1.20; for more details and guidance: https://numpy.org/devdocs/release/1.20.0-notes.html#deprecations\n",
      "  dtype = np.float\n",
      "/opt/conda/lib/python3.7/site-packages/sklearn/metrics/pairwise.py:56: DeprecationWarning: `np.float` is a deprecated alias for the builtin `float`. To silence this warning, use `float` by itself. Doing this will not modify any behavior and is safe. If you specifically wanted the numpy scalar type, use `np.float64` here.\n",
      "Deprecated in NumPy 1.20; for more details and guidance: https://numpy.org/devdocs/release/1.20.0-notes.html#deprecations\n",
      "  dtype = np.float\n",
      "/opt/conda/lib/python3.7/site-packages/sklearn/metrics/pairwise.py:56: DeprecationWarning: `np.float` is a deprecated alias for the builtin `float`. To silence this warning, use `float` by itself. Doing this will not modify any behavior and is safe. If you specifically wanted the numpy scalar type, use `np.float64` here.\n",
      "Deprecated in NumPy 1.20; for more details and guidance: https://numpy.org/devdocs/release/1.20.0-notes.html#deprecations\n",
      "  dtype = np.float\n",
      "/opt/conda/lib/python3.7/site-packages/sklearn/metrics/pairwise.py:56: DeprecationWarning: `np.float` is a deprecated alias for the builtin `float`. To silence this warning, use `float` by itself. Doing this will not modify any behavior and is safe. If you specifically wanted the numpy scalar type, use `np.float64` here.\n",
      "Deprecated in NumPy 1.20; for more details and guidance: https://numpy.org/devdocs/release/1.20.0-notes.html#deprecations\n",
      "  dtype = np.float\n",
      "/opt/conda/lib/python3.7/site-packages/sklearn/metrics/pairwise.py:56: DeprecationWarning: `np.float` is a deprecated alias for the builtin `float`. To silence this warning, use `float` by itself. Doing this will not modify any behavior and is safe. If you specifically wanted the numpy scalar type, use `np.float64` here.\n",
      "Deprecated in NumPy 1.20; for more details and guidance: https://numpy.org/devdocs/release/1.20.0-notes.html#deprecations\n",
      "  dtype = np.float\n",
      "/opt/conda/lib/python3.7/site-packages/sklearn/metrics/pairwise.py:56: DeprecationWarning: `np.float` is a deprecated alias for the builtin `float`. To silence this warning, use `float` by itself. Doing this will not modify any behavior and is safe. If you specifically wanted the numpy scalar type, use `np.float64` here.\n",
      "Deprecated in NumPy 1.20; for more details and guidance: https://numpy.org/devdocs/release/1.20.0-notes.html#deprecations\n",
      "  dtype = np.float\n",
      "/opt/conda/lib/python3.7/site-packages/sklearn/metrics/pairwise.py:56: DeprecationWarning: `np.float` is a deprecated alias for the builtin `float`. To silence this warning, use `float` by itself. Doing this will not modify any behavior and is safe. If you specifically wanted the numpy scalar type, use `np.float64` here.\n",
      "Deprecated in NumPy 1.20; for more details and guidance: https://numpy.org/devdocs/release/1.20.0-notes.html#deprecations\n",
      "  dtype = np.float\n",
      "/opt/conda/lib/python3.7/site-packages/sklearn/metrics/pairwise.py:56: DeprecationWarning: `np.float` is a deprecated alias for the builtin `float`. To silence this warning, use `float` by itself. Doing this will not modify any behavior and is safe. If you specifically wanted the numpy scalar type, use `np.float64` here.\n",
      "Deprecated in NumPy 1.20; for more details and guidance: https://numpy.org/devdocs/release/1.20.0-notes.html#deprecations\n",
      "  dtype = np.float\n",
      "/opt/conda/lib/python3.7/site-packages/sklearn/metrics/pairwise.py:56: DeprecationWarning: `np.float` is a deprecated alias for the builtin `float`. To silence this warning, use `float` by itself. Doing this will not modify any behavior and is safe. If you specifically wanted the numpy scalar type, use `np.float64` here.\n",
      "Deprecated in NumPy 1.20; for more details and guidance: https://numpy.org/devdocs/release/1.20.0-notes.html#deprecations\n",
      "  dtype = np.float\n",
      "/opt/conda/lib/python3.7/site-packages/sklearn/metrics/pairwise.py:56: DeprecationWarning: `np.float` is a deprecated alias for the builtin `float`. To silence this warning, use `float` by itself. Doing this will not modify any behavior and is safe. If you specifically wanted the numpy scalar type, use `np.float64` here.\n",
      "Deprecated in NumPy 1.20; for more details and guidance: https://numpy.org/devdocs/release/1.20.0-notes.html#deprecations\n",
      "  dtype = np.float\n",
      "/opt/conda/lib/python3.7/site-packages/sklearn/metrics/pairwise.py:56: DeprecationWarning: `np.float` is a deprecated alias for the builtin `float`. To silence this warning, use `float` by itself. Doing this will not modify any behavior and is safe. If you specifically wanted the numpy scalar type, use `np.float64` here.\n",
      "Deprecated in NumPy 1.20; for more details and guidance: https://numpy.org/devdocs/release/1.20.0-notes.html#deprecations\n",
      "  dtype = np.float\n",
      "/opt/conda/lib/python3.7/site-packages/sklearn/metrics/pairwise.py:56: DeprecationWarning: `np.float` is a deprecated alias for the builtin `float`. To silence this warning, use `float` by itself. Doing this will not modify any behavior and is safe. If you specifically wanted the numpy scalar type, use `np.float64` here.\n",
      "Deprecated in NumPy 1.20; for more details and guidance: https://numpy.org/devdocs/release/1.20.0-notes.html#deprecations\n",
      "  dtype = np.float\n",
      "/opt/conda/lib/python3.7/site-packages/sklearn/metrics/pairwise.py:56: DeprecationWarning: `np.float` is a deprecated alias for the builtin `float`. To silence this warning, use `float` by itself. Doing this will not modify any behavior and is safe. If you specifically wanted the numpy scalar type, use `np.float64` here.\n",
      "Deprecated in NumPy 1.20; for more details and guidance: https://numpy.org/devdocs/release/1.20.0-notes.html#deprecations\n",
      "  dtype = np.float\n",
      "/opt/conda/lib/python3.7/site-packages/sklearn/metrics/pairwise.py:56: DeprecationWarning: `np.float` is a deprecated alias for the builtin `float`. To silence this warning, use `float` by itself. Doing this will not modify any behavior and is safe. If you specifically wanted the numpy scalar type, use `np.float64` here.\n",
      "Deprecated in NumPy 1.20; for more details and guidance: https://numpy.org/devdocs/release/1.20.0-notes.html#deprecations\n",
      "  dtype = np.float\n",
      "/opt/conda/lib/python3.7/site-packages/sklearn/metrics/pairwise.py:56: DeprecationWarning: `np.float` is a deprecated alias for the builtin `float`. To silence this warning, use `float` by itself. Doing this will not modify any behavior and is safe. If you specifically wanted the numpy scalar type, use `np.float64` here.\n",
      "Deprecated in NumPy 1.20; for more details and guidance: https://numpy.org/devdocs/release/1.20.0-notes.html#deprecations\n",
      "  dtype = np.float\n",
      "/opt/conda/lib/python3.7/site-packages/sklearn/metrics/pairwise.py:56: DeprecationWarning: `np.float` is a deprecated alias for the builtin `float`. To silence this warning, use `float` by itself. Doing this will not modify any behavior and is safe. If you specifically wanted the numpy scalar type, use `np.float64` here.\n",
      "Deprecated in NumPy 1.20; for more details and guidance: https://numpy.org/devdocs/release/1.20.0-notes.html#deprecations\n",
      "  dtype = np.float\n",
      "/opt/conda/lib/python3.7/site-packages/sklearn/metrics/pairwise.py:56: DeprecationWarning: `np.float` is a deprecated alias for the builtin `float`. To silence this warning, use `float` by itself. Doing this will not modify any behavior and is safe. If you specifically wanted the numpy scalar type, use `np.float64` here.\n",
      "Deprecated in NumPy 1.20; for more details and guidance: https://numpy.org/devdocs/release/1.20.0-notes.html#deprecations\n",
      "  dtype = np.float\n",
      "/opt/conda/lib/python3.7/site-packages/sklearn/metrics/pairwise.py:56: DeprecationWarning: `np.float` is a deprecated alias for the builtin `float`. To silence this warning, use `float` by itself. Doing this will not modify any behavior and is safe. If you specifically wanted the numpy scalar type, use `np.float64` here.\n",
      "Deprecated in NumPy 1.20; for more details and guidance: https://numpy.org/devdocs/release/1.20.0-notes.html#deprecations\n",
      "  dtype = np.float\n",
      "/opt/conda/lib/python3.7/site-packages/sklearn/metrics/pairwise.py:56: DeprecationWarning: `np.float` is a deprecated alias for the builtin `float`. To silence this warning, use `float` by itself. Doing this will not modify any behavior and is safe. If you specifically wanted the numpy scalar type, use `np.float64` here.\n",
      "Deprecated in NumPy 1.20; for more details and guidance: https://numpy.org/devdocs/release/1.20.0-notes.html#deprecations\n",
      "  dtype = np.float\n",
      "/opt/conda/lib/python3.7/site-packages/sklearn/metrics/pairwise.py:56: DeprecationWarning: `np.float` is a deprecated alias for the builtin `float`. To silence this warning, use `float` by itself. Doing this will not modify any behavior and is safe. If you specifically wanted the numpy scalar type, use `np.float64` here.\n",
      "Deprecated in NumPy 1.20; for more details and guidance: https://numpy.org/devdocs/release/1.20.0-notes.html#deprecations\n",
      "  dtype = np.float\n",
      "/opt/conda/lib/python3.7/site-packages/sklearn/metrics/pairwise.py:56: DeprecationWarning: `np.float` is a deprecated alias for the builtin `float`. To silence this warning, use `float` by itself. Doing this will not modify any behavior and is safe. If you specifically wanted the numpy scalar type, use `np.float64` here.\n",
      "Deprecated in NumPy 1.20; for more details and guidance: https://numpy.org/devdocs/release/1.20.0-notes.html#deprecations\n",
      "  dtype = np.float\n",
      "/opt/conda/lib/python3.7/site-packages/sklearn/metrics/pairwise.py:56: DeprecationWarning: `np.float` is a deprecated alias for the builtin `float`. To silence this warning, use `float` by itself. Doing this will not modify any behavior and is safe. If you specifically wanted the numpy scalar type, use `np.float64` here.\n",
      "Deprecated in NumPy 1.20; for more details and guidance: https://numpy.org/devdocs/release/1.20.0-notes.html#deprecations\n",
      "  dtype = np.float\n"
     ]
    },
    {
     "data": {
      "text/html": [
       "\n",
       "<link rel=\"stylesheet\" type=\"text/css\" href=\"https://cdn.jsdelivr.net/gh/bmabey/pyLDAvis@3.3.1/pyLDAvis/js/ldavis.v1.0.0.css\">\n",
       "\n",
       "\n",
       "<div id=\"ldavis_el3471401656568013603786742386\"></div>\n",
       "<script type=\"text/javascript\">\n",
       "\n",
       "var ldavis_el3471401656568013603786742386_data = {\"mdsDat\": {\"x\": [0.08088759649384651, 0.009301536534420335, -0.1137902622857467, -0.11307156800051797, -0.030482153746965925, -0.0013211301280387669, -0.0014984989894555557, -0.1453718827530986, 0.13185322027348928, 0.1834931426020674], \"y\": [0.0706698334450095, 0.15959822080149233, 0.014961071497203413, 0.11086422355008659, -0.15626712418395203, 0.053751761106939557, -0.06544681557824976, -0.07867136483762323, -0.12191017568367837, 0.01245036988277202], \"topics\": [1, 2, 3, 4, 5, 6, 7, 8, 9, 10], \"cluster\": [1, 1, 1, 1, 1, 1, 1, 1, 1, 1], \"Freq\": [19.232620573851115, 12.53883879175117, 12.517448274480333, 10.97045078572217, 9.923582349664562, 9.818342862375088, 8.057591419903618, 5.701243118154488, 5.694365962005701, 5.545515862091754]}, \"tinfo\": {\"Term\": [\"family\", \"colorado\", \"meet\", \"country\", \"law\", \"congressman\", \"good\", \"drug\", \"great\", \"honor\", \"china\", \"serve\", \"energy\", \"question\", \"fight\", \"strength\", \"congress\", \"president\", \"restore\", \"america\", \"opponent\", \"principle\", \"icymi\", \"like\", \"state\", \"endorsement\", \"spending\", \"thank\", \"nancy\", \"radical\", \"peddler\", \"pessimist\", \"dedication\", \"grit\", \"iraq\", \"unite\", \"guardian\", \"little\", \"resemble\", \"operate\", \"teach\", \"graduate\", \"poster\", \"kid\", \"relate\", \"forever\", \"surge\", \"neighborhood\", \"train\", \"deadly\", \"pessimistic\", \"stunt\", \"write\", \"balanced\", \"extremely\", \"supporter\", \"college\", \"affordability\", \"place\", \"mission\", \"absolutely\", \"drug\", \"campaign\", \"feel\", \"fentanyl\", \"vote\", \"america\", \"want\", \"good\", \"grateful\", \"afghanistan\", \"future\", \"support\", \"free\", \"strong\", \"country\", \"hold\", \"die\", \"army\", \"veteran\", \"child\", \"help\", \"run\", \"look\", \"community\", \"day\", \"consider\", \"crime\", \"people\", \"opponent\", \"build\", \"energy\", \"thank\", \"come\", \"washington\", \"aadland\", \"congress\", \"restore\", \"protect\", \"policy\", \"year\", \"amp\", \"colorado\", \"second\", \"electricity\", \"light\", \"woodland\", \"gun\", \"repeat\", \"greet\", \"bill\", \"owe\", \"littleton\", \"nationally\", \"event\", \"rest\", \"unseen\", \"caliber\", \"church\", \"seal\", \"unconscionable\", \"ave\", \"prison\", \"performance\", \"signature\", \"score\", \"sec\", \"despicable\", \"pack\", \"math\", \"click\", \"tear\", \"coalition\", \"park\", \"special\", \"mountain\", \"answer\", \"direct\", \"hashtag\", \"diminish\", \"decay\", \"question\", \"majority\", \"birthday\", \"continue\", \"student\", \"share\", \"tonight\", \"meet\", \"fresh\", \"debate\", \"constituent\", \"lakewood\", \"thought\", \"spike\", \"car\", \"have\", \"colorado\", \"family\", \"washington\", \"time\", \"crime\", \"high\", \"leadership\", \"amp\", \"thank\", \"come\", \"district\", \"policy\", \"support\", \"great\", \"soft\", \"people\", \"inflation\", \"country\", \"economy\", \"opponent\", \"year\", \"growth\", \"discouraged\", \"affect\", \"swiftly\", \"private\", \"ridge\", \"swing\", \"presidential\", \"abortion\", \"sink\", \"leave\", \"delegate\", \"supreme\", \"voice\", \"value\", \"retirement\", \"process\", \"effective\", \"expertise\", \"pinehust\", \"shoot\", \"abide\", \"hopeful\", \"influential\", \"series\", \"mccarthy\", \"eisenhower\", \"encouraged\", \"hate\", \"stifle\", \"cabinet\", \"environment\", \"hope\", \"learn\", \"children\", \"assembly\", \"workforce\", \"great\", \"true\", \"stand\", \"demonstrate\", \"alive\", \"congressman\", \"economy\", \"amp\", \"fail\", \"endorsement\", \"country\", \"state\", \"economic\", \"work\", \"deliver\", \"solution\", \"conservative\", \"district\", \"receive\", \"create\", \"check\", \"year\", \"look\", \"future\", \"meet\", \"people\", \"policy\", \"leadership\", \"biden\", \"aadland\", \"colorado\", \"energy\", \"washington\", \"inflation\", \"family\", \"support\", \"abundantly\", \"sengenberger\", \"ordinary\", \"system\", \"knus\", \"desire\", \"petroleum\", \"pet\", \"invade\", \"accountability\", \"base\", \"directly\", \"warm\", \"resilience\", \"withi\", \"prestigious\", \"jeopardize\", \"seated\", \"tide\", \"selflessness\", \"judge\", \"prioritie\", \"announce\", \"pointing\", \"gravely\", \"everyday\", \"reserve\", \"unmatched\", \"reform\", \"willing\", \"jimmy\", \"study\", \"taiwan\", \"sick\", \"empathy\", \"ukraine\", \"reel\", \"november\", \"runaway\", \"living\", \"polling\", \"decision\", \"amazing\", \"resume\", \"steal\", \"real\", \"car\", \"spending\", \"thank\", \"reckless\", \"people\", \"security\", \"southern\", \"washington\", \"bring\", \"restore\", \"support\", \"politician\", \"biden\", \"campaign\", \"consider\", \"thoughtless\", \"time\", \"colorado\", \"endorsement\", \"proudly\", \"common\", \"border\", \"american\", \"policy\", \"honor\", \"national\", \"china\", \"career\", \"leadership\", \"crime\", \"new\", \"economy\", \"protect\", \"help\", \"integrity\", \"want\", \"cost\", \"country\", \"mother\", \"jan\", \"wednesday\", \"equip\", \"audacity\", \"housing\", \"hall\", \"town\", \"cover\", \"bodily\", \"skin\", \"bidens\", \"propose\", \"productivity\", \"hide\", \"antithetical\", \"tip\", \"mine\", \"constantly\", \"scotus\", \"beauty\", \"thoughtlessly\", \"table\", \"chairman\", \"boundary\", \"edge\", \"september\", \"income\", \"practical\", \"gorka\", \"telephone\", \"previous\", \"provide\", \"household\", \"blame\", \"air\", \"haven\", \"link\", \"double\", \"average\", \"president\", \"month\", \"responsible\", \"nearly\", \"pettersen\", \"thoughtless\", \"colorado\", \"compare\", \"dan\", \"caplis\", \"dealer\", \"failure\", \"opponent\", \"family\", \"inflation\", \"nancy\", \"year\", \"drug\", \"biden\", \"career\", \"pelosi\", \"afternoon\", \"politician\", \"like\", \"cost\", \"policy\", \"khow\", \"tune\", \"today\", \"leadership\", \"america\", \"thank\", \"great\", \"people\", \"radio\", \"day\", \"solution\", \"support\", \"crime\", \"truck\", \"admit\", \"carter\", \"mandy\", \"innocent\", \"news\", \"lucrative\", \"vendor\", \"food\", \"revise\", \"narrative\", \"liberation\", \"throw\", \"europe\", \"unravel\", \"achieve\", \"iran\", \"powerful\", \"attention\", \"tech\", \"unfortunately\", \"bennet\", \"connell\", \"affiliation\", \"embrace\", \"mercy\", \"basis\", \"normandy\", \"introduction\", \"influence\", \"ally\", \"fit\", \"bad\", \"duty\", \"deserve\", \"competitor\", \"golden\", \"woman\", \"fox\", \"destruction\", \"seizure\", \"rise\", \"actor\", \"mean\", \"political\", \"icymi\", \"recession\", \"crime\", \"right\", \"get\", \"insane\", \"eye\", \"build\", \"policy\", \"constitution\", \"radical\", \"well\", \"people\", \"congress\", \"increase\", \"colorado\", \"great\", \"like\", \"join\", \"law\", \"work\", \"amp\", \"year\", \"state\", \"aadland\", \"china\", \"help\", \"enforcement\", \"washington\", \"soft\", \"need\", \"support\", \"family\", \"question\", \"american\", \"meal\", \"boulder\", \"conflagration\", \"head\", \"continually\", \"alarm\", \"size\", \"guest\", \"ryan\", \"embarrassment\", \"skip\", \"diffuse\", \"mile\", \"thrilled\", \"flippantly\", \"evening\", \"involve\", \"fire\", \"dissatisfy\", \"renew\", \"eat\", \"derail\", \"affected\", \"diplomatic\", \"compromise\", \"reflection\", \"sticker\", \"angle\", \"borne\", \"consideration\", \"avs\", \"spot\", \"respond\", \"kaminsky\", \"personal\", \"pray\", \"end\", \"heart\", \"icymi\", \"yesterday\", \"ross\", \"coloradans\", \"voter\", \"petition\", \"see\", \"aadland\", \"erik\", \"congress\", \"sign\", \"go\", \"risk\", \"people\", \"manager\", \"like\", \"record\", \"owner\", \"colorado\", \"meet\", \"energy\", \"congressman\", \"cost\", \"district\", \"nancy\", \"opponent\", \"washington\", \"country\", \"hear\", \"county\", \"america\", \"policy\", \"sure\", \"family\", \"serve\", \"support\", \"crime\", \"solution\", \"today\", \"pelosi\", \"richard\", \"sheriff\", \"exceptional\", \"randall\", \"theory\", \"kvor\", \"nugent\", \"excellence\", \"bank\", \"opt\", \"harmful\", \"blue\", \"politic\", \"view\", \"suffering\", \"shrader\", \"height\", \"socialism\", \"robbery\", \"render\", \"repeatedly\", \"parent\", \"toxic\", \"emulate\", \"consistent\", \"carefully\", \"fathom\", \"properly\", \"shraders\", \"wisely\", \"divisive\", \"dept\", \"significant\", \"enforce\", \"hateful\", \"family\", \"special\", \"education\", \"law\", \"jeffco\", \"level\", \"serve\", \"afford\", \"forward\", \"race\", \"interest\", \"example\", \"colorado\", \"extraordinary\", \"long\", \"senate\", \"hard\", \"enforcement\", \"endorsement\", \"people\", \"question\", \"country\", \"congressman\", \"career\", \"look\", \"federal\", \"politician\", \"washington\", \"american\", \"month\", \"thank\", \"constituent\", \"congress\", \"come\", \"spending\", \"send\", \"government\", \"opponent\", \"biden\", \"honor\", \"agriculture\", \"newsletter\", \"exporter\", \"japan\", \"coors\", \"pete\", \"tokyo\", \"brave\", \"hike\", \"spokeswoman\", \"threaten\", \"revoke\", \"pacific\", \"encouragement\", \"bay\", \"bully\", \"undue\", \"uss\", \"civil\", \"merely\", \"reinforce\", \"doug\", \"unreasonable\", \"momentarily\", \"mexico\", \"snow\", \"keystone\", \"license\", \"missouri\", \"alphabetical\", \"reverse\", \"immediately\", \"nominee\", \"hire\", \"irs\", \"agent\", \"mandate\", \"vaccine\", \"representative\", \"fight\", \"win\", \"production\", \"sector\", \"good\", \"homicide\", \"administration\", \"radical\", \"suffer\", \"restore\", \"honor\", \"kill\", \"progressive\", \"harm\", \"taxis\", \"vakoff\", \"have\", \"taiwan\", \"absolute\", \"americans\", \"voter\", \"policy\", \"support\", \"thank\", \"listen\", \"day\", \"inflation\", \"crime\", \"tune\", \"law\", \"people\", \"freedom\", \"sign\", \"biden\", \"aadland\", \"great\", \"state\", \"congress\", \"colorado\", \"west\", \"imagine\", \"clearly\", \"branch\", \"supplant\", \"psychologically\", \"hungry\", \"betray\", \"tempting\", \"morale\", \"justice\", \"endangered\", \"memorial\", \"warhawks\", \"climb\", \"degrade\", \"commandment\", \"firefighter\", \"foolish\", \"alma\", \"entrepreneurial\", \"stair\", \"selflessly\", \"red\", \"rock\", \"simultaneously\", \"passion\", \"backlash\", \"portray\", \"sea\", \"troll\", \"strength\", \"point\", \"guide\", \"committee\", \"major\", \"threat\", \"stability\", \"water\", \"principle\", \"china\", \"war\", \"peace\", \"military\", \"agree\", \"global\", \"russia\", \"world\", \"social\", \"americas\", \"honor\", \"stage\", \"state\", \"american\", \"energy\", \"like\", \"colorado\", \"country\", \"support\", \"congress\", \"send\", \"oath\", \"washington\", \"president\", \"people\", \"today\", \"year\"], \"Freq\": [58.0, 106.0, 32.0, 58.0, 23.0, 39.0, 17.0, 25.0, 42.0, 24.0, 12.0, 30.0, 30.0, 27.0, 13.0, 10.0, 44.0, 16.0, 28.0, 28.0, 43.0, 13.0, 11.0, 33.0, 31.0, 33.0, 18.0, 55.0, 13.0, 12.0, 3.4999206416956365, 2.646272302634314, 2.6461949722006817, 2.646078871195419, 2.6433653526005494, 3.0904168036215887, 1.7926911799444594, 1.7926953941370278, 1.7926669483371904, 1.7926433488588067, 1.792652830792086, 1.7926300741522159, 1.7926115317049145, 1.792605842544947, 1.7925948856442688, 1.7925953070635257, 1.7925548508148679, 1.792588564355416, 1.792511444631412, 1.7924294785859545, 1.7910398485864851, 1.7891529438639309, 1.7430419862628945, 1.7386891467588712, 1.5549270673574986, 2.625520986298041, 2.6433398567355098, 2.5045759773874563, 3.436063613833752, 1.893820844688239, 5.059317281691307, 13.40731880258123, 18.200812824016236, 5.470758173379474, 8.666048741132343, 14.413925896528777, 13.325917458927716, 13.221872415765036, 8.356019022251532, 9.424725615050262, 6.02071198924824, 11.890059452658926, 22.861588436052354, 5.080545855335965, 7.832791615652313, 18.903767115277653, 3.951846017131796, 4.353872402621892, 4.2196115987429295, 4.852526852354075, 8.120149821353007, 9.30306946114374, 6.6641134182276325, 9.266720364563236, 6.779934601103783, 10.11700451369711, 7.526706381015637, 15.751082455811769, 18.086168243705213, 11.728382797606205, 6.994659512209021, 9.012536282761927, 12.370840668869507, 9.259577308159596, 12.609243442340226, 9.917413610943937, 9.81979352577122, 8.2600955710069, 8.474158853878881, 9.979669034920155, 8.482543411413207, 8.14750583099229, 8.439674958929205, 1.9167225470511957, 1.9166671854959059, 1.9160387013384583, 4.022276902637738, 2.9293499588893357, 1.74706081036707, 5.018648348511419, 1.6874669122559949, 2.820898457933012, 1.56696266495607, 1.5653207758522858, 4.126304974114321, 1.5088953995098506, 1.0041075020141186, 1.0040660151910477, 1.0040617566098715, 1.0040654656967023, 1.0040725404363982, 1.0040588030777655, 1.0040559869192458, 1.0040570859079363, 1.0040513162173106, 1.0040388839077479, 1.0040425929945789, 1.0040398455228523, 1.0040248718019427, 1.0040207505943528, 1.0040274819000827, 1.004017041507522, 1.0040141566622092, 4.000520498276733, 3.7422493640718173, 2.411006997509926, 1.916646304710784, 1.9166485026881652, 4.916961672440198, 1.916696171322621, 2.3395018478491667, 11.446925530931797, 1.9166691087261143, 1.9164950563922376, 8.187330020005893, 2.8290180611264755, 5.8993509599503104, 7.12035047399017, 10.874317255481364, 2.8295488726640445, 6.70994633534291, 5.567747607386483, 4.573760417477099, 4.814233704584617, 3.915222216307191, 4.780060101755484, 5.221443083108248, 19.502042266007155, 12.567170860804426, 13.760779180719306, 8.647108423556578, 12.970072203660832, 6.986515081752281, 9.572178307424437, 8.457601561218018, 9.925183365749373, 7.5325882752677265, 7.675290857755872, 10.104005310543393, 9.016292243890456, 7.31053321437346, 5.744971622624342, 7.210975279395968, 5.859586252157655, 5.571706164650092, 5.132582154550894, 5.115854997185332, 4.960295346005639, 2.378588972619263, 2.941430335809245, 1.6113116831369725, 1.611281512505247, 1.6112761640750777, 1.6112189770140346, 1.6112465420002926, 1.6111007629933654, 1.611077723601866, 1.609286822330498, 5.636532823175572, 2.9981755342367, 1.9152423987837555, 2.37704780189504, 2.375830279765688, 2.2991055404527843, 3.013341213691138, 1.2705651169881305, 0.8440587358689144, 0.8440138913390318, 0.8440120399593578, 0.8439980517573761, 0.8440007945420783, 0.8439988060231692, 0.8439983946054639, 0.8439914690740905, 0.8439922233398837, 0.8439901662513569, 0.8439819378972501, 0.8439759037709049, 1.6113499449835695, 4.6794216445990875, 3.1453366303755397, 6.015629005031999, 2.378327310958664, 2.9996440211663127, 1.5502855463461644, 14.333095089801807, 2.217336271515407, 7.717247697327675, 1.201818864095753, 1.1987082719648725, 12.64087592068092, 11.442777095476899, 10.831069182916824, 4.674712283265235, 9.279351902956058, 13.767747918507801, 8.34591150491738, 7.186383363867951, 7.4376745555081545, 6.047224239131697, 6.90223470860805, 4.167192887520684, 7.564950736833775, 3.9071080538464296, 3.8296490710687197, 5.447098009255563, 7.6365895304732, 5.664918450616636, 6.004274973478351, 6.214968014512021, 9.458310924984096, 8.298640707687087, 6.913475188875024, 6.50656223312479, 6.576902043929206, 9.125455898980716, 5.725260262624219, 7.486276700432946, 6.030686893047638, 6.148956317967839, 6.098086438651185, 1.7806721962123142, 1.7807108975755086, 1.7805500825942846, 1.7805524864056632, 1.780257057987241, 2.234459020820208, 1.6246612320282408, 1.5881705339680774, 2.5296989804302417, 1.4294410994960174, 1.4144716045173205, 1.4505763706606598, 0.9328298944172237, 0.932820339266994, 0.9327889094332197, 0.9327900512436245, 0.9327814576179462, 0.9327795946641279, 0.932778693234861, 0.9327878277180993, 0.9327848830491606, 0.932777671615025, 0.9327691981799157, 0.9327713015148719, 0.932763008365616, 0.9327625276033402, 0.9327583810287122, 0.9327627078891937, 0.9327612055070821, 0.9327613857929354, 1.7804202767798436, 2.7264665665373977, 3.232600350201694, 1.7807114985283532, 1.780613423024109, 5.001247359802312, 2.7418269212462447, 2.4490400511480077, 2.039556071199382, 1.6542752266872567, 1.6373610483033239, 2.328236269938528, 2.628587694063881, 2.2668549463876038, 3.440545659219044, 3.812892916799524, 4.48952110896585, 5.9013016466448995, 13.29805665895749, 3.655363945729905, 15.129785929040485, 3.4760300016455834, 3.3440064308267856, 11.803592702053205, 4.324518688320362, 6.611711080876073, 11.108827753035822, 6.6477230599002, 7.330938656768268, 7.2559988755178475, 4.957814815052642, 4.189845155837866, 6.33501171842869, 10.942770539957431, 5.898095923790484, 3.0433862605893123, 3.2723757363200585, 4.208270850816622, 5.549688464109984, 7.379135555670196, 4.731870487576225, 3.687304349041068, 3.6372567557588047, 4.537933870129572, 5.262649828161241, 5.849605279138098, 3.9528478632618023, 4.821788898288581, 4.615479382914326, 4.323886005165531, 4.3238783129691205, 4.324380709547234, 4.15516681136655, 4.362385928966445, 2.96304039183739, 2.9511915162607862, 2.00725740586466, 2.0071154159257425, 2.006459609408473, 1.860589844334046, 2.9672298560841495, 2.9655079290913595, 2.9594797712404786, 1.0515471544012234, 1.0515258450382616, 1.0515054054452169, 1.051487683883162, 1.0514698535998674, 1.051470505927305, 1.0514696361573883, 1.0514642000954082, 1.0514644175378876, 1.0514647437016063, 1.0514642000954082, 1.0514575680997926, 1.0514560460024382, 1.0514481093519474, 1.0514546326263234, 1.0514437605023634, 1.0514273435951837, 1.051426473825267, 1.0514092958694101, 1.0514095133118893, 1.0514315837235282, 2.963065397722498, 2.003550446479247, 2.003960977879978, 1.9943089236707385, 2.016093833334418, 2.00722761624501, 2.0056994305011875, 2.0072026103599017, 2.406242176065044, 2.6635503419599065, 6.884506782982194, 5.690718869763163, 2.9075103663840767, 2.4182541335010486, 4.210975396342017, 5.321520240133607, 23.672292987742942, 3.7139488564647523, 2.9627103141539632, 2.9628805716151776, 2.961773789396046, 4.849667885843322, 10.413214216991088, 12.098063787997951, 8.470598763670646, 4.347357928606439, 8.729582323867751, 6.125115452356255, 7.714372090886993, 6.086097139003525, 6.2527946319481895, 3.9192241242992867, 6.0862149928272515, 6.293141083963877, 5.336270233267706, 8.025506185525673, 3.9184869942947964, 4.874315860630637, 5.128554391046624, 5.722094079971989, 4.705876218542616, 5.309316063545989, 4.874336300223682, 5.408241954343301, 3.9187983719250115, 4.125558337007528, 4.057425780344701, 4.149697931278472, 3.9760949000793513, 2.1519011599404503, 1.6225969467481411, 1.6225639232947806, 1.6225265971113405, 1.6224985217975714, 4.239712294800061, 1.3677698015838715, 1.3554034326305031, 4.81260574533621, 0.8499631285736186, 0.8499464554945604, 0.8499385492280391, 0.8499210156029651, 0.8499192945109332, 0.8499146690760977, 0.8499141312348377, 0.8499107966190261, 0.8499166053046335, 0.8499063863206946, 0.8499074082190885, 0.8499034281937649, 0.8498995019525672, 0.8498956294954957, 0.8498969740986455, 0.8498892291845024, 0.8498850340226748, 0.8498794942576974, 0.8498800320989573, 0.84989369326696, 0.8498857332163128, 1.6224264510687392, 1.2589754866590783, 5.297864631796248, 1.962267152281164, 2.3949856168763817, 1.6222716603541274, 1.6225757558024994, 2.9359401171685713, 2.3950133694853943, 2.370891404113449, 1.5020116454498664, 4.744360573817553, 2.276812210924196, 1.5016474193486329, 3.6759363293024685, 3.940089964618908, 2.0461015451510205, 13.938769820735681, 4.517066706000545, 1.6221920598476558, 1.1311781643379741, 1.6225432701903988, 4.632104497407262, 8.94362118204778, 2.9640722269746527, 3.294823518462291, 4.712910628847134, 9.284571234642963, 6.244345633399954, 3.414791593130655, 9.582305526865213, 5.961028068582229, 5.276535568518935, 3.48386267368808, 4.227614308635404, 4.508600654296032, 5.099781137943255, 5.365089195740037, 4.58256501463642, 4.829435443769342, 3.1485653327348984, 3.8856376246432407, 3.240191754642307, 4.52231603669759, 3.4872611850414086, 3.338707062543571, 3.7874919212558096, 3.5257968659068224, 3.3678139558491735, 3.37477319147983, 1.5561672469966463, 1.5561015683652213, 1.5561079243618108, 1.296350879185878, 1.2209730852429699, 0.8152112947986956, 0.815207498856288, 0.8152102354659306, 0.8152097057995482, 0.8152045856911845, 0.815183399035886, 0.8151865770341808, 0.8151770430392965, 0.815182516258582, 0.8151759837065315, 0.815179514815748, 0.8151692745990204, 0.8151638896574654, 0.8151615944364747, 0.8151623006583181, 0.8151434092240103, 0.8151540025516595, 0.8151424381689758, 0.8151412905584805, 0.8151417319471326, 0.815140319503446, 0.8151321096745179, 0.8151286668430319, 0.8151271661216148, 0.8151345814509693, 1.555223911169485, 1.5561557708916929, 1.555989985313983, 1.5865554432465985, 1.556294013817515, 1.5561158693575476, 2.9058597682272995, 1.7617357135822502, 4.237620963746154, 2.72400517180627, 2.0067254834597392, 3.3532645476046867, 3.5230685276029092, 2.345671183922649, 4.21087775498483, 8.706115028944474, 4.774577674294268, 8.15955299510591, 3.0645494054114435, 4.488094899347633, 1.8892594277115302, 10.72318348440997, 1.0516049323997814, 5.741089583686331, 2.4169227884684634, 2.2971689270589493, 10.973728395306699, 5.265709768097479, 5.0019352034105875, 5.720293115956346, 4.154880012587479, 4.917132437580457, 3.0368139549603117, 5.235899084759869, 6.252049208850547, 5.831068955627703, 3.0378242053071234, 3.1581248589787974, 3.7107487480091548, 4.694793320882485, 2.995218900834811, 4.109246075740261, 3.431122680938924, 3.7933322116967783, 3.5091517199592355, 3.1843525257945267, 3.1206234197678686, 3.0672796590575637, 2.183312938110014, 1.479195712964951, 1.4791927147917645, 1.4791601096583606, 1.4790114502378608, 1.4789715995192563, 1.4789146342287118, 0.7748837939485861, 0.7748655550617013, 0.7748529377495412, 0.7748451924688092, 0.7748377594977843, 0.7748361979492496, 0.7748322003850009, 0.7748266412722175, 0.7748183962959545, 0.7748190833773098, 0.7748183338340131, 0.7748152107369438, 0.7748188959914856, 0.7748148984272368, 0.7748110257868709, 0.7748232058654413, 0.7748095267002776, 0.7748085897711569, 0.7748049669785564, 0.7748110882488123, 0.7747957850731726, 0.774794723220169, 0.7747967220022933, 1.4789601065220412, 1.4791679798629753, 1.4791741011332313, 1.0646063259465284, 1.4790635434969772, 10.133001872307775, 2.1836165031451524, 1.4790518006519966, 5.019788398516358, 1.479096648325912, 1.4790772851240823, 5.47768989508323, 2.6016263060738987, 3.0011141445994287, 2.183320183695215, 2.1833556620779224, 1.4791964625082477, 8.290448056649595, 1.4791497409760905, 2.1835068199760777, 1.4173144177855967, 1.720213358780959, 2.6338289347273487, 3.591869442169929, 5.360055071022301, 3.0881551097692586, 4.107152975354205, 3.4696246769869123, 2.885788913283206, 2.8354116086206487, 2.183596015628378, 2.885573794357071, 3.5110167064571414, 2.826854572498466, 2.1820467096342275, 2.887746220678493, 2.183461097834983, 2.690304523651351, 2.475880174304521, 2.196584851415814, 2.1835310552093357, 2.1917492977614383, 2.3081983443270864, 2.2173721855092356, 2.2072283662280707, 1.553305218447574, 1.5531373985034649, 0.8136487966423124, 0.8136248401893242, 0.8136225318852603, 0.8136114270711148, 0.8136078710351244, 0.8136073719423538, 0.813603940679556, 0.8136027553342259, 0.8135991369116392, 0.8135955184890524, 0.8135935845045664, 0.8135937716643554, 0.81359233677264, 0.8135892798294201, 0.813584226515118, 0.8135816686646687, 0.8135850375408702, 0.813580171386357, 0.8135797346801827, 0.8135867843655672, 0.8135827292368062, 0.8135955184890524, 0.8135730593143761, 0.813582292530632, 0.8135675069073034, 0.8135615801806527, 0.8135605196085152, 0.8135642004176983, 1.5531556153895913, 1.5530921058345344, 1.5530529270520435, 1.553099342679708, 1.5531244220914298, 1.5530197373827996, 2.292868621837718, 1.5530148712282865, 3.0323077511279863, 4.235875706959513, 3.032640396459581, 1.5533134534782886, 1.553170213853131, 4.19564234144438, 1.2731684390606255, 2.1272072539614384, 2.9030764123086, 1.5530977206282035, 4.170734617635587, 3.6221660320638245, 1.713408065364661, 3.098558822773693, 1.553325681251168, 1.553204401707916, 0.9802998654826613, 2.292446888446574, 1.5532429566244437, 1.3656856402634634, 2.292574905742229, 1.9214301816906907, 4.000273474584596, 3.950854805719624, 3.5473941990923135, 2.292848408580509, 2.623332418932102, 2.7261293091574768, 3.0256506022075444, 2.2927411036348335, 2.2725720161363556, 2.868011901072026, 2.076687461671365, 1.8647066662622511, 2.1188883756613346, 2.118160947948208, 2.0408321379397996, 1.971920402734107, 1.9488272554659667, 1.9193232615596678, 2.09574130570327, 1.5756401574118517, 1.5756258190389083, 1.5754409998418992, 1.4138927390969487, 0.825360065525616, 0.825359640234893, 0.8253575137812786, 0.8253544759904008, 0.825352653315874, 0.8253558733742046, 0.8253509521529824, 0.8253401983732748, 0.8253357631985931, 0.8253229437210886, 0.8253177794765962, 0.8253144379066305, 0.8253144379066305, 0.8253138911042726, 0.8253084838365099, 0.8252985198824305, 0.8252964541846336, 0.8252913506959588, 0.8252818120326023, 0.8252805361604336, 0.825276100985752, 0.8252776806370085, 0.8252857611607436, 0.8252733062181443, 0.8252594538917413, 1.5748997870191, 3.9047299769560806, 2.113979230040858, 2.5009877122984117, 1.7363287233383682, 1.411474414534902, 1.385209431581658, 1.3373926589779865, 2.2280805995994255, 3.6435069370431528, 3.4934028851165446, 2.9287089109243096, 2.477481043462264, 2.872381706420497, 2.3235180250276937, 2.7144085610038817, 2.2688953857412657, 2.4957627119884935, 1.5754282411202123, 1.3690640591123748, 3.586272283648306, 1.727963740865459, 3.8260237315899817, 3.8264687071977703, 3.667121508211282, 2.832921531986912, 4.201391642226848, 3.2456226773963213, 3.4057584868947024, 2.785322022186825, 2.107058170328013, 1.8912866790412552, 2.369504346360002, 1.9642692403469262, 2.325874135632562, 1.9646693781613578, 1.9233114350105562], \"Total\": [58.0, 106.0, 32.0, 58.0, 23.0, 39.0, 17.0, 25.0, 42.0, 24.0, 12.0, 30.0, 30.0, 27.0, 13.0, 10.0, 44.0, 16.0, 28.0, 28.0, 43.0, 13.0, 11.0, 33.0, 31.0, 33.0, 18.0, 55.0, 13.0, 12.0, 4.219416153002173, 3.365766628227969, 3.3656937455367246, 3.3655783803845267, 3.365444900652431, 4.165476433353417, 2.5121651658613624, 2.5121729660560517, 2.512143030258976, 2.512119068519927, 2.5121330687883816, 2.512112465587753, 2.5120928926699766, 2.512090362747271, 2.5120761447056883, 2.512079390243126, 2.5120391139667406, 2.5120898003074577, 2.5119918758712987, 2.5119173995695734, 2.511933359169189, 2.511731575489157, 2.5136598744134413, 2.5130079245174426, 2.489478919541665, 4.275897633966623, 4.3211565982011315, 4.155498297318448, 5.774779722074474, 3.239434323885223, 9.017024289965812, 25.207558711406396, 38.176422674174574, 9.934943291663368, 16.889171743054497, 30.762029248480964, 28.400399946673332, 28.227140860087747, 17.52580203106725, 20.68509437803834, 11.86487737356295, 29.437714419244315, 70.31031454199369, 9.741476198753446, 17.47030996298712, 58.14279716963447, 7.249702595060944, 8.323241033333302, 8.049347243508153, 9.785345968157804, 20.267826937793384, 24.718952110153502, 15.629620880425769, 24.90155082010653, 16.031712009905483, 28.880728658724372, 19.272499434894957, 65.3352794723829, 85.85517815824889, 43.905466633592745, 18.76809528231443, 30.162928605849707, 55.334861821381864, 33.574253455359894, 67.55852786961256, 43.566875790577505, 44.43502811446743, 28.787324660855024, 31.405032428443793, 64.33378944677281, 44.13794508301828, 38.851269953598965, 106.64943353422547, 2.630294039468418, 2.630236357596847, 2.6296285592230633, 6.008868842934047, 4.413201220143809, 2.638413698139525, 7.703402916925591, 2.595139942236905, 4.395989475230696, 2.5764681412583963, 2.5912277647889455, 6.905508267265634, 2.5650988526567664, 1.7176630672308169, 1.7176240061548003, 1.7176198211907407, 1.7176263427460752, 1.717639123512947, 1.7176160662754603, 1.7176117368057815, 1.7176139222963303, 1.7176100773036063, 1.7175957504727264, 1.7176032004588797, 1.717608092674548, 1.7175839415965206, 1.7175782654172569, 1.7175920225927197, 1.717576802605497, 1.7175722383596514, 6.858661462982006, 6.569004178504777, 4.2433965519329595, 3.3589437286252277, 3.4028048999662137, 9.659051676269234, 3.483821849902471, 4.367637257707802, 27.676397035078217, 3.585950132969876, 3.585676468198732, 20.598531291997887, 5.816284132890836, 14.559925466900015, 18.475995324722142, 32.08799021787875, 6.098191286512606, 17.796378349807814, 14.195511599684858, 11.099944075177387, 12.07827942821282, 9.37161173846743, 12.755648389559326, 14.667479568674748, 106.64943353422547, 58.41939435280799, 67.55852786961256, 33.49375180266816, 65.3352794723829, 24.75808523509892, 43.595715536776176, 38.851269953598965, 55.334861821381864, 33.574253455359894, 35.918722100224834, 64.33378944677281, 70.31031454199369, 42.55910153807748, 23.40075840074203, 85.85517815824889, 35.86172162966752, 58.14279716963447, 36.76377094951951, 43.905466633592745, 44.13794508301828, 3.1067147512346724, 3.896782428460504, 2.339444592994069, 2.3394040852748987, 2.339397598496818, 2.33934216302988, 2.339387534481832, 2.339228129672921, 2.3392088052396756, 2.3389138580728117, 8.657244938119376, 4.628719223715899, 3.0683887311052036, 3.835314628795067, 4.062509443157458, 3.9408272465682126, 5.475158205386451, 2.358826907366311, 1.572169404103773, 1.5721285008085453, 1.572133317073627, 1.5721098564770024, 1.5721151893429477, 1.5721116397812853, 1.5721158635946269, 1.5721051638128811, 1.5721075822728467, 1.5721037918399157, 1.5720955096845461, 1.5720882682105768, 3.080729592850655, 9.57835057751655, 6.359362467778293, 12.746118821500417, 4.76665089725951, 6.330315777854099, 3.168294885453281, 42.55910153807748, 4.883544388082353, 21.724793144145117, 2.3838312835850712, 2.382485665123126, 39.870565979862775, 36.76377094951951, 38.851269953598965, 13.182611820111022, 33.382723217337244, 58.14279716963447, 31.811609175124232, 25.404702684691152, 28.029766488757215, 21.880218462622107, 29.091405210122605, 12.274140858063966, 35.918722100224834, 11.331292600888126, 11.258575676214127, 22.4084534319796, 44.13794508301828, 24.90155082010653, 29.437714419244315, 32.08799021787875, 85.85517815824889, 64.33378944677281, 43.595715536776176, 38.11534331995563, 43.566875790577505, 106.64943353422547, 30.162928605849707, 67.55852786961256, 35.86172162966752, 58.41939435280799, 70.31031454199369, 2.500723429376163, 2.5007896442190267, 2.5005984739992058, 2.5006146288166318, 2.5003691501646323, 3.306907824600675, 2.4859035856275487, 2.4823933197650097, 4.087605038148743, 2.4672510368012723, 2.4603342571734017, 2.537967638924896, 1.6528678970136899, 1.6528640449633136, 1.6528272713059604, 1.6528306888952364, 1.652818847766923, 1.6528164786090447, 1.6528173344319057, 1.6528338927730593, 1.6528303535100382, 1.652820520448791, 1.6528077040671234, 1.6528145215778827, 1.6528034447766216, 1.6528030693833884, 1.6527964132478685, 1.6528046211585006, 1.6528030354122427, 1.652804898483828, 3.273028881318466, 5.234665424043833, 6.397891465133764, 3.3543728426759274, 3.3542850195231835, 10.777376808205862, 5.6611222586480245, 5.009730943779716, 4.059639687983419, 3.2221056394267933, 3.186679452105247, 4.822376137031167, 5.7226844142982545, 4.824360215352925, 8.359150914754988, 10.057931166743561, 12.755648389559326, 18.57615104307589, 55.334861821381864, 10.024589616598563, 85.85517815824889, 9.772514925746359, 9.256342675924786, 67.55852786961256, 14.15051523707084, 28.787324660855024, 70.31031454199369, 30.934780898054846, 38.11534331995563, 38.176422674174574, 19.272499434894957, 14.472920335995262, 33.49375180266816, 106.64943353422547, 33.382723217337244, 8.041681468012548, 9.554813805769268, 16.925820793565762, 32.396168019813764, 64.33378944677281, 24.778600692721493, 12.850529213612276, 12.659573235455262, 25.948181319554003, 43.595715536776176, 65.3352794723829, 16.76173362040762, 36.76377094951951, 31.405032428443793, 24.718952110153502, 25.28269344766596, 28.227140860087747, 24.148286116208713, 58.14279716963447, 3.6723018681307478, 3.6716716357920096, 2.716521270088703, 2.7163719883966166, 2.71631230766108, 2.7099464813313907, 4.414303171033138, 4.413817834873177, 4.424870775849393, 1.760790000466206, 1.7607693078108184, 1.7607476661087857, 1.7607399274943607, 1.7607129134720896, 1.7607159900394043, 1.7607147153938074, 1.7607064671719257, 1.7607094556520406, 1.7607104768566941, 1.7607102481941206, 1.76070081409863, 1.760699670981617, 1.7606914873283286, 1.7607074325627963, 1.7606910556183817, 1.7606714880881136, 1.7606750875498949, 1.7606520375016765, 1.7606532934731318, 1.760692846607596, 5.116186360698067, 3.4568386684030226, 3.470772314136255, 3.456657523427273, 3.506873955226668, 3.5643985183541185, 3.569980316485095, 3.6292296191494913, 4.45234653655572, 5.19228791879794, 16.269954454899572, 13.50119807548166, 6.186448650861732, 5.124252147573013, 10.651924167229435, 14.472920335995262, 106.64943353422547, 9.370200391442394, 6.947246696630921, 6.948771732505025, 7.1395968888032115, 14.312293855223094, 43.905466633592745, 58.41939435280799, 35.86172162966752, 13.301842574833165, 44.13794508301828, 25.207558711406396, 38.11534331995563, 25.948181319554003, 27.526151051998752, 12.044338577160861, 30.934780898054846, 33.33779788816284, 24.148286116208713, 64.33378944677281, 12.867675293836315, 22.546210407251724, 30.448743358046528, 43.595715536776176, 28.400399946673332, 55.334861821381864, 42.55910153807748, 85.85517815824889, 16.51212732383403, 28.880728658724372, 29.091405210122605, 70.31031454199369, 65.3352794723829, 3.101323560499644, 2.35017917708767, 2.3501481835798295, 2.350110577196941, 2.350084234111397, 7.053623520317357, 2.3275227998734667, 2.3264501694593878, 8.706350277990593, 1.5775362248258507, 1.5775202489945164, 1.577513674504673, 1.5774960517535945, 1.5774946001570884, 1.5774889540213455, 1.577487958181524, 1.5774859075239052, 1.5774989698461954, 1.5774840198250473, 1.577490770910488, 1.5774842413730619, 1.5774770479588265, 1.5774711079742574, 1.5774736090563908, 1.5774658561190154, 1.5774592722774485, 1.5774542993942955, 1.5774558713624005, 1.5774822368186276, 1.5774701902679311, 3.089532457486696, 2.388136223678916, 11.148082434938214, 3.874649524881329, 4.888829745553668, 3.203410225780017, 3.262999681288256, 7.058248758366495, 5.569923692878847, 5.546065591886315, 3.1686402123706623, 13.120963375204518, 5.4850863261676555, 3.257571949365819, 10.478514141660074, 11.638200446903804, 4.954533686912593, 65.3352794723829, 15.459871900425773, 3.804349292097745, 2.3293433623278292, 3.8658878663277565, 18.76809528231443, 64.33378944677281, 10.395982281285125, 12.53200032789956, 24.90454524729542, 85.85517815824889, 44.43502811446743, 13.90169400010063, 106.64943353422547, 42.55910153807748, 33.33779788816284, 14.684770355596699, 23.12730297692395, 28.029766488757215, 38.851269953598965, 44.13794508301828, 31.811609175124232, 43.566875790577505, 12.659573235455262, 24.718952110153502, 16.25211130682811, 67.55852786961256, 23.40075840074203, 21.157719581939002, 70.31031454199369, 58.41939435280799, 27.676397035078217, 32.396168019813764, 2.2869103398897455, 2.2868568123561688, 2.2868706543675645, 2.326559045279712, 2.286299896843582, 1.5459427448797658, 1.5459399535534408, 1.5459466572510032, 1.5459461047957843, 1.5459385429795547, 1.5459171761503008, 1.5459257801002753, 1.5459107539861572, 1.5459213568802306, 1.545909732654347, 1.54591806199933, 1.5459080984620215, 1.5459023759407755, 1.5458998494074996, 1.5459048230565233, 1.5458784592634665, 1.5458988038200756, 1.5458818302653943, 1.5458817272757628, 1.5458859315375952, 1.5458834330846838, 1.5458691685928636, 1.5458655095699823, 1.5458630760402166, 1.545877635206147, 3.025973699632982, 3.053702849425844, 3.070013946612112, 3.135932211543775, 3.1406308242697323, 3.140626346590943, 6.31794074752076, 3.9044943457413313, 11.638200446903804, 7.10466031394023, 4.838134931851832, 9.519275037135792, 10.813743454421788, 6.349127012720441, 14.404621078718804, 43.566875790577505, 19.8463622818193, 44.43502811446743, 10.544624408814359, 19.281340718819962, 5.387320785256748, 85.85517815824889, 2.2929329983982942, 33.33779788816284, 8.640561821843118, 8.050009279675201, 106.64943353422547, 32.08799021787875, 30.162928605849707, 39.870565979862775, 24.148286116208713, 35.918722100224834, 13.301842574833165, 43.905466633592745, 67.55852786961256, 58.14279716963447, 13.60801255352389, 15.85955563813359, 28.400399946673332, 64.33378944677281, 17.836278826954313, 58.41939435280799, 30.27729146510703, 70.31031454199369, 65.3352794723829, 29.091405210122605, 30.448743358046528, 27.526151051998752, 2.9177826542564254, 2.213605672124078, 2.213604791928037, 2.2135982614374305, 2.213435544363596, 2.2134256222660857, 2.2133810424195186, 1.5092855974654111, 1.509266344472663, 1.5092551987719918, 1.5092510462532431, 1.509241110431965, 1.5092394901467632, 1.5092388640923062, 1.509232354574507, 1.5092214768789076, 1.5092246300036938, 1.5092234341672122, 1.509218251188229, 1.5092261556844007, 1.5092215159092384, 1.509215010987463, 1.5092400475286873, 1.5092168542422812, 1.5092159897818482, 1.5092123536027495, 1.509227520402902, 1.5092003559182865, 1.5091982950146487, 1.5092032991037103, 2.963616376567155, 2.9719905350949474, 3.0498560084872035, 2.2618289206427074, 3.7306365045157928, 58.41939435280799, 6.569004178504777, 3.8337954052170797, 23.12730297692395, 3.867205920323251, 3.8762169267153976, 30.27729146510703, 10.601926504620042, 13.350068306988046, 8.756663638534071, 8.861124443729087, 4.726352961142527, 106.64943353422547, 4.790171972691618, 10.443980372737961, 4.625143627941072, 6.922036203866297, 16.25211130682811, 33.382723217337244, 85.85517815824889, 27.676397035078217, 58.14279716963447, 39.870565979862775, 25.948181319554003, 24.90155082010653, 12.674271689225519, 30.934780898054846, 67.55852786961256, 32.396168019813764, 13.50119807548166, 55.334861821381864, 14.195511599684858, 44.43502811446743, 33.574253455359894, 18.57615104307589, 18.417432586032223, 19.265696946082723, 43.905466633592745, 38.11534331995563, 24.778600692721493, 2.2841878236184714, 2.284044096964609, 1.5445244880940014, 1.5445002118827915, 1.544498931784211, 1.544488518018283, 1.544483309464083, 1.5444824332827896, 1.544480535405791, 1.544479762913703, 1.544476531064923, 1.544472792929376, 1.5444699269311355, 1.5444706811425768, 1.5444691224462945, 1.5444689992584582, 1.5444617094904403, 1.5444577863762943, 1.5444656741930618, 1.5444565131912025, 1.5444563910920543, 1.5444714183582307, 1.5444640812228654, 1.5444913304616246, 1.5444517149058774, 1.5444704619485838, 1.5444456149133219, 1.5444390462107391, 1.5444379092216847, 1.5444450334885924, 3.034310245336571, 3.0565788592750565, 3.056566876171933, 3.1318573609197418, 3.131947553908783, 3.131758646627836, 4.827407672222625, 3.2398089076166356, 8.752847746802454, 13.772438221072257, 9.293052755647048, 3.9116851422841123, 3.971670512772256, 17.52580203106725, 3.038399975423418, 7.177879652339812, 12.53200032789956, 4.570113665569314, 28.787324660855024, 24.778600692721493, 6.33069731199863, 20.537564830404232, 5.454562262197078, 5.72514751562195, 2.313422046774048, 14.667479568674748, 6.397891465133764, 4.841507252687348, 15.710289879184112, 10.813743454421788, 64.33378944677281, 70.31031454199369, 55.334861821381864, 17.90152371433035, 28.880728658724372, 35.86172162966752, 65.3352794723829, 22.546210407251724, 23.12730297692395, 85.85517815824889, 18.794558718583176, 10.544624408814359, 38.11534331995563, 43.566875790577505, 42.55910153807748, 31.811609175124232, 44.43502811446743, 106.64943353422547, 3.0622980630860983, 2.3054654042760667, 2.305445161811026, 2.3052711820120204, 2.3102805200383636, 1.555168287152397, 1.5551685710815772, 1.5551667836341645, 1.5551642043912457, 1.555160897282144, 1.5551680819480256, 1.5551613555690582, 1.5551516825953624, 1.5551468224192528, 1.555134135765691, 1.5551268826982474, 1.555124797545642, 1.5551260851036661, 1.5551253299353296, 1.5551184867922125, 1.5551099925401326, 1.5551090970063792, 1.5551050397005686, 1.555094179175946, 1.5550919844120608, 1.5550866183838261, 1.5550898465486558, 1.555108771969644, 1.5550865190798266, 1.5550704513957159, 3.009244782063935, 10.026916386941348, 4.788408799803831, 6.348488463037634, 3.990638152025882, 3.1639154115555757, 3.0893748095106774, 3.0849545502683013, 6.485237194285214, 13.256662820465403, 12.659573235455262, 9.999505289479696, 8.487709299714243, 10.775125900663504, 7.869322300546271, 11.404203915156126, 8.75869859648655, 10.380256594811211, 4.732802945426897, 3.962343951754501, 24.778600692721493, 6.615057321143296, 31.811609175124232, 32.396168019813764, 30.162928605849707, 33.33779788816284, 106.64943353422547, 58.14279716963447, 70.31031454199369, 44.43502811446743, 18.417432586032223, 10.507250873655934, 67.55852786961256, 16.269954454899572, 85.85517815824889, 30.448743358046528, 44.13794508301828], \"Category\": [\"Default\", \"Default\", \"Default\", \"Default\", \"Default\", \"Default\", \"Default\", \"Default\", \"Default\", \"Default\", \"Default\", \"Default\", \"Default\", \"Default\", \"Default\", \"Default\", \"Default\", \"Default\", \"Default\", \"Default\", \"Default\", \"Default\", \"Default\", \"Default\", \"Default\", \"Default\", \"Default\", \"Default\", \"Default\", \"Default\", \"Topic1\", \"Topic1\", \"Topic1\", \"Topic1\", \"Topic1\", \"Topic1\", \"Topic1\", \"Topic1\", \"Topic1\", \"Topic1\", \"Topic1\", \"Topic1\", \"Topic1\", \"Topic1\", \"Topic1\", \"Topic1\", \"Topic1\", \"Topic1\", \"Topic1\", \"Topic1\", \"Topic1\", \"Topic1\", \"Topic1\", \"Topic1\", \"Topic1\", \"Topic1\", \"Topic1\", \"Topic1\", \"Topic1\", \"Topic1\", \"Topic1\", \"Topic1\", \"Topic1\", \"Topic1\", \"Topic1\", \"Topic1\", \"Topic1\", \"Topic1\", \"Topic1\", \"Topic1\", \"Topic1\", \"Topic1\", \"Topic1\", \"Topic1\", \"Topic1\", \"Topic1\", \"Topic1\", \"Topic1\", \"Topic1\", \"Topic1\", \"Topic1\", \"Topic1\", \"Topic1\", \"Topic1\", \"Topic1\", \"Topic1\", \"Topic1\", \"Topic1\", \"Topic1\", \"Topic1\", \"Topic1\", \"Topic1\", \"Topic1\", \"Topic1\", \"Topic1\", \"Topic1\", \"Topic1\", \"Topic1\", \"Topic1\", \"Topic1\", \"Topic1\", \"Topic1\", \"Topic1\", \"Topic2\", \"Topic2\", \"Topic2\", \"Topic2\", \"Topic2\", \"Topic2\", \"Topic2\", \"Topic2\", \"Topic2\", \"Topic2\", \"Topic2\", \"Topic2\", \"Topic2\", \"Topic2\", \"Topic2\", \"Topic2\", \"Topic2\", \"Topic2\", \"Topic2\", \"Topic2\", \"Topic2\", \"Topic2\", \"Topic2\", \"Topic2\", \"Topic2\", \"Topic2\", \"Topic2\", \"Topic2\", \"Topic2\", \"Topic2\", \"Topic2\", \"Topic2\", \"Topic2\", \"Topic2\", \"Topic2\", \"Topic2\", \"Topic2\", \"Topic2\", \"Topic2\", \"Topic2\", \"Topic2\", \"Topic2\", \"Topic2\", \"Topic2\", \"Topic2\", \"Topic2\", \"Topic2\", \"Topic2\", \"Topic2\", \"Topic2\", \"Topic2\", \"Topic2\", \"Topic2\", \"Topic2\", \"Topic2\", \"Topic2\", \"Topic2\", \"Topic2\", \"Topic2\", \"Topic2\", \"Topic2\", \"Topic2\", \"Topic2\", \"Topic2\", \"Topic2\", \"Topic2\", \"Topic2\", \"Topic2\", \"Topic2\", \"Topic2\", \"Topic2\", \"Topic2\", \"Topic2\", \"Topic2\", \"Topic2\", \"Topic3\", \"Topic3\", \"Topic3\", \"Topic3\", \"Topic3\", \"Topic3\", \"Topic3\", \"Topic3\", \"Topic3\", \"Topic3\", \"Topic3\", \"Topic3\", \"Topic3\", \"Topic3\", \"Topic3\", \"Topic3\", \"Topic3\", \"Topic3\", \"Topic3\", \"Topic3\", \"Topic3\", \"Topic3\", \"Topic3\", \"Topic3\", \"Topic3\", \"Topic3\", \"Topic3\", \"Topic3\", \"Topic3\", \"Topic3\", \"Topic3\", \"Topic3\", \"Topic3\", \"Topic3\", \"Topic3\", \"Topic3\", \"Topic3\", \"Topic3\", \"Topic3\", \"Topic3\", \"Topic3\", \"Topic3\", \"Topic3\", \"Topic3\", \"Topic3\", \"Topic3\", \"Topic3\", \"Topic3\", \"Topic3\", \"Topic3\", \"Topic3\", \"Topic3\", \"Topic3\", \"Topic3\", \"Topic3\", \"Topic3\", \"Topic3\", \"Topic3\", \"Topic3\", \"Topic3\", \"Topic3\", \"Topic3\", \"Topic3\", \"Topic3\", \"Topic3\", \"Topic3\", \"Topic3\", \"Topic3\", \"Topic3\", \"Topic3\", \"Topic3\", \"Topic3\", \"Topic3\", \"Topic4\", \"Topic4\", \"Topic4\", \"Topic4\", \"Topic4\", \"Topic4\", \"Topic4\", \"Topic4\", \"Topic4\", \"Topic4\", \"Topic4\", \"Topic4\", \"Topic4\", \"Topic4\", \"Topic4\", \"Topic4\", \"Topic4\", \"Topic4\", \"Topic4\", \"Topic4\", \"Topic4\", \"Topic4\", \"Topic4\", \"Topic4\", \"Topic4\", \"Topic4\", \"Topic4\", \"Topic4\", \"Topic4\", \"Topic4\", \"Topic4\", \"Topic4\", \"Topic4\", \"Topic4\", \"Topic4\", \"Topic4\", \"Topic4\", \"Topic4\", \"Topic4\", \"Topic4\", \"Topic4\", \"Topic4\", \"Topic4\", \"Topic4\", \"Topic4\", \"Topic4\", \"Topic4\", \"Topic4\", \"Topic4\", \"Topic4\", \"Topic4\", \"Topic4\", \"Topic4\", \"Topic4\", \"Topic4\", \"Topic4\", \"Topic4\", \"Topic4\", \"Topic4\", \"Topic4\", \"Topic4\", \"Topic4\", \"Topic4\", \"Topic4\", \"Topic4\", \"Topic4\", \"Topic4\", \"Topic4\", \"Topic4\", \"Topic4\", \"Topic4\", \"Topic4\", \"Topic4\", \"Topic4\", \"Topic4\", \"Topic4\", \"Topic4\", \"Topic4\", \"Topic4\", \"Topic4\", \"Topic4\", \"Topic4\", \"Topic4\", \"Topic4\", \"Topic5\", \"Topic5\", \"Topic5\", \"Topic5\", \"Topic5\", \"Topic5\", \"Topic5\", \"Topic5\", \"Topic5\", \"Topic5\", \"Topic5\", \"Topic5\", \"Topic5\", \"Topic5\", \"Topic5\", \"Topic5\", \"Topic5\", \"Topic5\", \"Topic5\", \"Topic5\", \"Topic5\", \"Topic5\", \"Topic5\", \"Topic5\", \"Topic5\", \"Topic5\", \"Topic5\", \"Topic5\", \"Topic5\", \"Topic5\", \"Topic5\", \"Topic5\", \"Topic5\", \"Topic5\", \"Topic5\", \"Topic5\", \"Topic5\", \"Topic5\", \"Topic5\", \"Topic5\", \"Topic5\", \"Topic5\", \"Topic5\", \"Topic5\", \"Topic5\", \"Topic5\", \"Topic5\", \"Topic5\", \"Topic5\", \"Topic5\", \"Topic5\", \"Topic5\", \"Topic5\", \"Topic5\", \"Topic5\", \"Topic5\", \"Topic5\", \"Topic5\", \"Topic5\", \"Topic5\", \"Topic5\", \"Topic5\", \"Topic5\", \"Topic5\", \"Topic5\", \"Topic5\", \"Topic5\", \"Topic5\", \"Topic5\", \"Topic5\", \"Topic5\", \"Topic5\", \"Topic5\", \"Topic5\", \"Topic5\", \"Topic5\", \"Topic5\", \"Topic5\", \"Topic5\", \"Topic6\", \"Topic6\", \"Topic6\", \"Topic6\", \"Topic6\", \"Topic6\", \"Topic6\", \"Topic6\", \"Topic6\", \"Topic6\", \"Topic6\", \"Topic6\", \"Topic6\", \"Topic6\", \"Topic6\", \"Topic6\", \"Topic6\", \"Topic6\", \"Topic6\", \"Topic6\", \"Topic6\", \"Topic6\", \"Topic6\", \"Topic6\", \"Topic6\", \"Topic6\", \"Topic6\", \"Topic6\", \"Topic6\", \"Topic6\", \"Topic6\", \"Topic6\", \"Topic6\", \"Topic6\", \"Topic6\", \"Topic6\", \"Topic6\", \"Topic6\", \"Topic6\", \"Topic6\", \"Topic6\", \"Topic6\", \"Topic6\", \"Topic6\", \"Topic6\", \"Topic6\", \"Topic6\", \"Topic6\", \"Topic6\", \"Topic6\", \"Topic6\", \"Topic6\", \"Topic6\", \"Topic6\", \"Topic6\", \"Topic6\", \"Topic6\", \"Topic6\", \"Topic6\", \"Topic6\", \"Topic6\", \"Topic6\", \"Topic6\", \"Topic6\", \"Topic6\", \"Topic6\", \"Topic6\", \"Topic6\", \"Topic6\", \"Topic6\", \"Topic6\", \"Topic6\", \"Topic6\", \"Topic6\", \"Topic6\", \"Topic6\", \"Topic6\", \"Topic6\", \"Topic6\", \"Topic6\", \"Topic7\", \"Topic7\", \"Topic7\", \"Topic7\", \"Topic7\", \"Topic7\", \"Topic7\", \"Topic7\", \"Topic7\", \"Topic7\", \"Topic7\", \"Topic7\", \"Topic7\", \"Topic7\", \"Topic7\", \"Topic7\", \"Topic7\", \"Topic7\", \"Topic7\", \"Topic7\", \"Topic7\", \"Topic7\", \"Topic7\", \"Topic7\", \"Topic7\", \"Topic7\", \"Topic7\", \"Topic7\", \"Topic7\", \"Topic7\", \"Topic7\", \"Topic7\", \"Topic7\", \"Topic7\", \"Topic7\", \"Topic7\", \"Topic7\", \"Topic7\", \"Topic7\", \"Topic7\", \"Topic7\", \"Topic7\", \"Topic7\", \"Topic7\", \"Topic7\", \"Topic7\", \"Topic7\", \"Topic7\", \"Topic7\", \"Topic7\", \"Topic7\", \"Topic7\", \"Topic7\", \"Topic7\", \"Topic7\", \"Topic7\", \"Topic7\", \"Topic7\", \"Topic7\", \"Topic7\", \"Topic7\", \"Topic7\", \"Topic7\", \"Topic7\", \"Topic7\", \"Topic7\", \"Topic7\", \"Topic7\", \"Topic7\", \"Topic7\", \"Topic7\", \"Topic7\", \"Topic7\", \"Topic7\", \"Topic7\", \"Topic7\", \"Topic7\", \"Topic7\", \"Topic8\", \"Topic8\", \"Topic8\", \"Topic8\", \"Topic8\", \"Topic8\", \"Topic8\", \"Topic8\", \"Topic8\", \"Topic8\", \"Topic8\", \"Topic8\", \"Topic8\", \"Topic8\", \"Topic8\", \"Topic8\", \"Topic8\", \"Topic8\", \"Topic8\", \"Topic8\", \"Topic8\", \"Topic8\", \"Topic8\", \"Topic8\", \"Topic8\", \"Topic8\", \"Topic8\", \"Topic8\", \"Topic8\", \"Topic8\", \"Topic8\", \"Topic8\", \"Topic8\", \"Topic8\", \"Topic8\", \"Topic8\", \"Topic8\", \"Topic8\", \"Topic8\", \"Topic8\", \"Topic8\", \"Topic8\", \"Topic8\", \"Topic8\", \"Topic8\", \"Topic8\", \"Topic8\", \"Topic8\", \"Topic8\", \"Topic8\", \"Topic8\", \"Topic8\", \"Topic8\", \"Topic8\", \"Topic8\", \"Topic8\", \"Topic8\", \"Topic8\", \"Topic8\", \"Topic8\", \"Topic8\", \"Topic8\", \"Topic8\", \"Topic8\", \"Topic8\", \"Topic8\", \"Topic8\", \"Topic8\", \"Topic8\", \"Topic8\", \"Topic8\", \"Topic8\", \"Topic8\", \"Topic8\", \"Topic8\", \"Topic9\", \"Topic9\", \"Topic9\", \"Topic9\", \"Topic9\", \"Topic9\", \"Topic9\", \"Topic9\", \"Topic9\", \"Topic9\", \"Topic9\", \"Topic9\", \"Topic9\", \"Topic9\", \"Topic9\", \"Topic9\", \"Topic9\", \"Topic9\", \"Topic9\", \"Topic9\", \"Topic9\", \"Topic9\", \"Topic9\", \"Topic9\", \"Topic9\", \"Topic9\", \"Topic9\", \"Topic9\", \"Topic9\", \"Topic9\", \"Topic9\", \"Topic9\", \"Topic9\", \"Topic9\", \"Topic9\", \"Topic9\", \"Topic9\", \"Topic9\", \"Topic9\", \"Topic9\", \"Topic9\", \"Topic9\", \"Topic9\", \"Topic9\", \"Topic9\", \"Topic9\", \"Topic9\", \"Topic9\", \"Topic9\", \"Topic9\", \"Topic9\", \"Topic9\", \"Topic9\", \"Topic9\", \"Topic9\", \"Topic9\", \"Topic9\", \"Topic9\", \"Topic9\", \"Topic9\", \"Topic9\", \"Topic9\", \"Topic9\", \"Topic9\", \"Topic9\", \"Topic9\", \"Topic9\", \"Topic9\", \"Topic9\", \"Topic9\", \"Topic9\", \"Topic9\", \"Topic9\", \"Topic9\", \"Topic9\", \"Topic9\", \"Topic9\", \"Topic9\", \"Topic10\", \"Topic10\", \"Topic10\", \"Topic10\", \"Topic10\", \"Topic10\", \"Topic10\", \"Topic10\", \"Topic10\", \"Topic10\", \"Topic10\", \"Topic10\", \"Topic10\", \"Topic10\", \"Topic10\", \"Topic10\", \"Topic10\", \"Topic10\", \"Topic10\", \"Topic10\", \"Topic10\", \"Topic10\", \"Topic10\", \"Topic10\", \"Topic10\", \"Topic10\", \"Topic10\", \"Topic10\", \"Topic10\", \"Topic10\", \"Topic10\", \"Topic10\", \"Topic10\", \"Topic10\", \"Topic10\", \"Topic10\", \"Topic10\", \"Topic10\", \"Topic10\", \"Topic10\", \"Topic10\", \"Topic10\", \"Topic10\", \"Topic10\", \"Topic10\", \"Topic10\", \"Topic10\", \"Topic10\", \"Topic10\", \"Topic10\", \"Topic10\", \"Topic10\", \"Topic10\", \"Topic10\", \"Topic10\", \"Topic10\", \"Topic10\", \"Topic10\", \"Topic10\", \"Topic10\", \"Topic10\", \"Topic10\", \"Topic10\", \"Topic10\", \"Topic10\", \"Topic10\", \"Topic10\"], \"logprob\": [30.0, 29.0, 28.0, 27.0, 26.0, 25.0, 24.0, 23.0, 22.0, 21.0, 20.0, 19.0, 18.0, 17.0, 16.0, 15.0, 14.0, 13.0, 12.0, 11.0, 10.0, 9.0, 8.0, 7.0, 6.0, 5.0, 4.0, 3.0, 2.0, 1.0, -6.2483, -6.5279, -6.5279, -6.528, -6.529, -6.3728, -6.9174, -6.9174, -6.9174, -6.9174, -6.9174, -6.9174, -6.9174, -6.9174, -6.9174, -6.9174, -6.9174, -6.9174, -6.9175, -6.9175, -6.9183, -6.9193, -6.9454, -6.9479, -7.0596, -6.5358, -6.529, -6.583, -6.2667, -6.8625, -5.8798, -4.9053, -4.5996, -5.8017, -5.3417, -4.8329, -4.9114, -4.9192, -5.3781, -5.2577, -5.7059, -5.0254, -4.3716, -5.8757, -5.4428, -4.5617, -6.1269, -6.03, -6.0613, -5.9216, -5.4067, -5.2707, -5.6043, -5.2746, -5.5871, -5.1869, -5.4826, -4.7442, -4.6059, -5.0391, -5.5559, -5.3025, -4.9857, -5.2754, -4.9666, -5.2068, -5.2167, -5.3896, -5.3641, -5.2005, -5.3631, -5.4034, -5.3681, -6.4227, -6.4227, -6.423, -5.6814, -5.9985, -6.5154, -5.4601, -6.5501, -6.0362, -6.6242, -6.6252, -5.6559, -6.6619, -7.0692, -7.0692, -7.0692, -7.0692, -7.0692, -7.0692, -7.0692, -7.0692, -7.0693, -7.0693, -7.0693, -7.0693, -7.0693, -7.0693, -7.0693, -7.0693, -7.0693, -5.6869, -5.7536, -6.1933, -6.4227, -6.4227, -5.4806, -6.4227, -6.2234, -4.6356, -6.4227, -6.4228, -4.9707, -6.0334, -5.2985, -5.1103, -4.6869, -6.0332, -5.1697, -5.3563, -5.553, -5.5017, -5.7084, -5.5088, -5.4205, -4.1028, -4.5422, -4.4515, -4.9161, -4.5107, -5.1293, -4.8144, -4.9382, -4.7782, -5.0541, -5.0353, -4.7604, -4.8743, -5.084, -5.325, -5.0977, -5.3052, -5.3556, -5.4377, -5.441, -5.4718, -6.2051, -5.9927, -6.5945, -6.5946, -6.5946, -6.5946, -6.5946, -6.5947, -6.5947, -6.5958, -5.3423, -5.9736, -6.4217, -6.2057, -6.2062, -6.2391, -5.9685, -6.8321, -7.2411, -7.2412, -7.2412, -7.2412, -7.2412, -7.2412, -7.2412, -7.2412, -7.2412, -7.2412, -7.2412, -7.2412, -6.5945, -5.5284, -5.9257, -5.2772, -6.2052, -5.9731, -6.6331, -4.409, -6.2753, -5.0281, -6.8878, -6.8903, -4.5347, -4.6342, -4.6892, -5.5294, -4.8438, -4.4493, -4.9498, -5.0994, -5.065, -5.272, -5.1397, -5.6443, -5.0481, -5.7088, -5.7288, -5.3765, -5.0386, -5.3373, -5.2791, -5.2446, -4.8247, -4.9555, -5.1381, -5.1988, -5.188, -4.8605, -5.3267, -5.0585, -5.2747, -5.2553, -5.2636, -6.3627, -6.3627, -6.3627, -6.3627, -6.3629, -6.1357, -6.4544, -6.4771, -6.0116, -6.5824, -6.5929, -6.5677, -7.0092, -7.0092, -7.0092, -7.0092, -7.0093, -7.0093, -7.0093, -7.0092, -7.0093, -7.0093, -7.0093, -7.0093, -7.0093, -7.0093, -7.0093, -7.0093, -7.0093, -7.0093, -6.3628, -5.9367, -5.7664, -6.3627, -6.3627, -5.33, -5.931, -6.044, -6.2269, -6.4363, -6.4466, -6.0946, -5.9732, -6.1213, -5.704, -5.6013, -5.4379, -5.1645, -4.3521, -5.6435, -4.223, -5.6938, -5.7325, -4.4713, -5.4754, -5.0508, -4.5319, -5.0454, -4.9476, -4.9578, -5.3387, -5.507, -5.0936, -4.547, -5.165, -5.8267, -5.7542, -5.5026, -5.2259, -4.941, -5.3853, -5.6348, -5.6484, -5.4272, -5.279, -5.1733, -5.5652, -5.3665, -5.4103, -5.4755, -5.4755, -5.4754, -5.5153, -5.4667, -5.7532, -5.7572, -6.1426, -6.1427, -6.143, -6.2185, -5.7517, -5.7523, -5.7544, -6.7891, -6.7891, -6.7892, -6.7892, -6.7892, -6.7892, -6.7892, -6.7892, -6.7892, -6.7892, -6.7892, -6.7892, -6.7892, -6.7892, -6.7892, -6.7892, -6.7892, -6.7892, -6.7892, -6.7892, -6.7892, -5.7532, -6.1445, -6.1443, -6.1491, -6.1382, -6.1426, -6.1434, -6.1426, -5.9613, -5.8597, -4.9101, -5.1005, -5.7721, -5.9563, -5.4017, -5.1676, -3.6751, -5.5273, -5.7533, -5.7532, -5.7536, -5.2605, -4.4963, -4.3463, -4.7028, -5.3698, -4.6727, -5.027, -4.7963, -5.0334, -5.0063, -5.4735, -5.0334, -4.9999, -5.1649, -4.7568, -5.4737, -5.2554, -5.2046, -5.095, -5.2906, -5.1699, -5.2554, -5.1515, -5.4736, -5.4222, -5.4388, -5.4163, -5.4591, -6.0624, -6.3447, -6.3447, -6.3447, -6.3447, -5.3842, -6.5155, -6.5246, -5.2575, -6.9913, -6.9913, -6.9913, -6.9913, -6.9913, -6.9913, -6.9913, -6.9913, -6.9913, -6.9913, -6.9913, -6.9913, -6.9914, -6.9914, -6.9914, -6.9914, -6.9914, -6.9914, -6.9914, -6.9914, -6.9914, -6.3448, -6.5984, -5.1614, -6.1546, -5.9553, -6.3449, -6.3447, -5.7517, -5.9553, -5.9655, -6.4219, -5.2718, -6.0059, -6.4222, -5.5269, -5.4575, -6.1128, -4.194, -5.3209, -6.3449, -6.7055, -6.3447, -5.2957, -4.6378, -5.7422, -5.6364, -5.2784, -4.6004, -4.997, -5.6006, -4.5688, -5.0435, -5.1654, -5.5806, -5.3871, -5.3227, -5.1995, -5.1488, -5.3065, -5.254, -5.6818, -5.4714, -5.6531, -5.3197, -5.5796, -5.6231, -5.497, -5.5686, -5.6145, -5.6124, -6.1889, -6.1889, -6.1889, -6.3715, -6.4314, -6.8354, -6.8354, -6.8354, -6.8354, -6.8354, -6.8354, -6.8354, -6.8354, -6.8354, -6.8354, -6.8354, -6.8354, -6.8354, -6.8354, -6.8354, -6.8355, -6.8355, -6.8355, -6.8355, -6.8355, -6.8355, -6.8355, -6.8355, -6.8355, -6.8355, -6.1895, -6.1889, -6.189, -6.1695, -6.1888, -6.1889, -5.5643, -6.0648, -5.1871, -5.629, -5.9346, -5.4211, -5.3717, -5.7785, -5.1934, -4.4671, -5.0678, -4.5319, -5.5112, -5.1297, -5.9949, -4.2587, -6.5808, -4.8834, -5.7486, -5.7994, -4.2356, -4.9699, -5.0213, -4.8871, -5.2068, -5.0384, -5.5203, -4.9755, -4.7982, -4.8679, -5.5199, -5.4811, -5.3198, -5.0846, -5.5341, -5.2178, -5.3982, -5.2978, -5.3757, -5.4728, -5.493, -5.5103, -5.5043, -5.8937, -5.8937, -5.8937, -5.8938, -5.8938, -5.8938, -6.5402, -6.5402, -6.5402, -6.5402, -6.5403, -6.5403, -6.5403, -6.5403, -6.5403, -6.5403, -6.5403, -6.5403, -6.5403, -6.5403, -6.5403, -6.5403, -6.5403, -6.5403, -6.5403, -6.5403, -6.5403, -6.5403, -6.5403, -5.8938, -5.8937, -5.8937, -6.2225, -5.8937, -3.9694, -5.5042, -5.8937, -4.6718, -5.8937, -5.8937, -4.5845, -5.329, -5.1862, -5.5043, -5.5043, -5.8936, -4.17, -5.8937, -5.5042, -5.9364, -5.7427, -5.3167, -5.0065, -4.6062, -5.1576, -4.8724, -5.0411, -5.2254, -5.243, -5.5042, -5.2254, -5.0292, -5.246, -5.5049, -5.2247, -5.5042, -5.2955, -5.3786, -5.4982, -5.5042, -5.5004, -5.4487, -5.4888, -5.4934, -5.8436, -5.8437, -6.4902, -6.4902, -6.4902, -6.4902, -6.4902, -6.4902, -6.4902, -6.4902, -6.4902, -6.4902, -6.4902, -6.4902, -6.4902, -6.4902, -6.4902, -6.4903, -6.4902, -6.4903, -6.4903, -6.4902, -6.4902, -6.4902, -6.4903, -6.4902, -6.4903, -6.4903, -6.4903, -6.4903, -5.8437, -5.8437, -5.8437, -5.8437, -5.8437, -5.8437, -5.4541, -5.8437, -5.1746, -4.8404, -5.1745, -5.8436, -5.8436, -4.8499, -6.0424, -5.5291, -5.2182, -5.8437, -4.8558, -4.9969, -5.7455, -5.153, -5.8435, -5.8436, -6.3038, -5.4543, -5.8436, -5.9723, -5.4543, -5.6309, -4.8976, -4.91, -5.0177, -5.4541, -5.3195, -5.2811, -5.1768, -5.4542, -5.463, -5.2303, -5.5532, -5.6608, -5.533, -5.5334, -5.5706, -5.6049, -5.6167, -5.632, -5.5175, -5.8028, -5.8028, -5.8029, -5.9111, -6.4494, -6.4494, -6.4494, -6.4494, -6.4494, -6.4494, -6.4494, -6.4494, -6.4494, -6.4494, -6.4494, -6.4494, -6.4494, -6.4494, -6.4495, -6.4495, -6.4495, -6.4495, -6.4495, -6.4495, -6.4495, -6.4495, -6.4495, -6.4495, -6.4495, -5.8033, -4.8953, -5.5089, -5.3408, -5.7057, -5.9128, -5.9316, -5.9667, -5.4563, -4.9645, -5.0066, -5.1829, -5.3502, -5.2023, -5.4144, -5.2589, -5.4382, -5.3429, -5.8029, -5.9433, -4.9803, -5.7105, -4.9156, -4.9155, -4.958, -5.2161, -4.822, -5.0801, -5.032, -5.2331, -5.5122, -5.6202, -5.3948, -5.5823, -5.4134, -5.5821, -5.6034], \"loglift\": [30.0, 29.0, 28.0, 27.0, 26.0, 25.0, 24.0, 23.0, 22.0, 21.0, 20.0, 19.0, 18.0, 17.0, 16.0, 15.0, 14.0, 13.0, 12.0, 11.0, 10.0, 9.0, 8.0, 7.0, 6.0, 5.0, 4.0, 3.0, 2.0, 1.0, 1.4616, 1.4081, 1.4081, 1.408, 1.4071, 1.35, 1.3111, 1.3111, 1.3111, 1.3111, 1.3111, 1.3111, 1.3111, 1.3111, 1.3111, 1.3111, 1.3111, 1.3111, 1.3111, 1.3111, 1.3103, 1.3093, 1.2825, 1.2802, 1.1779, 1.1608, 1.1571, 1.1422, 1.1294, 1.1118, 1.0707, 1.0172, 0.9078, 1.0519, 0.9813, 0.8905, 0.8919, 0.8902, 0.9079, 0.8625, 0.9702, 0.742, 0.5251, 0.9976, 0.8464, 0.525, 1.0418, 1.0006, 1.0027, 0.9472, 0.7339, 0.6713, 0.7961, 0.6601, 0.788, 0.5996, 0.7083, 0.2259, 0.091, 0.3285, 0.6616, 0.4406, 0.1505, 0.3605, -0.03, 0.1686, 0.1389, 0.4001, 0.3386, -0.215, -0.0007, 0.0865, -0.888, 1.7599, 1.7599, 1.7598, 1.675, 1.6665, 1.6641, 1.6478, 1.6459, 1.6327, 1.5791, 1.5723, 1.5614, 1.5457, 1.5395, 1.5395, 1.5395, 1.5395, 1.5395, 1.5395, 1.5395, 1.5395, 1.5394, 1.5394, 1.5394, 1.5394, 1.5394, 1.5394, 1.5394, 1.5394, 1.5394, 1.5373, 1.5137, 1.511, 1.5153, 1.5023, 1.4011, 1.4788, 1.4521, 1.1935, 1.4499, 1.4499, 1.1537, 1.3556, 1.1729, 1.1228, 0.9943, 1.3085, 1.1009, 1.1404, 1.1897, 1.1565, 1.2035, 1.0948, 1.0435, 0.3773, 0.5398, 0.4852, 0.7222, 0.4595, 0.8112, 0.5602, 0.5517, 0.358, 0.5818, 0.5331, 0.2252, 0.0225, 0.3148, 0.6719, -0.4007, 0.2647, -0.2689, 0.1074, -0.0734, -0.1095, 1.811, 1.7968, 1.7052, 1.7052, 1.7052, 1.7052, 1.7052, 1.7051, 1.7051, 1.7042, 1.6489, 1.6438, 1.6067, 1.5997, 1.5416, 1.5392, 1.4809, 1.4593, 1.4561, 1.456, 1.456, 1.456, 1.456, 1.456, 1.456, 1.456, 1.456, 1.456, 1.456, 1.456, 1.43, 1.3617, 1.374, 1.3272, 1.3828, 1.3312, 1.3633, 0.9897, 1.2885, 1.0431, 1.3932, 1.3911, 0.9293, 0.9109, 0.8007, 1.0413, 0.7978, 0.6375, 0.74, 0.8153, 0.7513, 0.7921, 0.6394, 0.9978, 0.5203, 1.0133, 0.9997, 0.6637, 0.3237, 0.5974, 0.4882, 0.4365, -0.1277, 0.0301, 0.2366, 0.3102, 0.1873, -0.3804, 0.4163, -0.1219, 0.2952, -0.1733, -0.3669, 1.8704, 1.8704, 1.8704, 1.8704, 1.8703, 1.818, 1.7846, 1.7633, 1.7301, 1.6641, 1.6564, 1.6506, 1.6379, 1.6379, 1.6379, 1.6379, 1.6379, 1.6379, 1.6379, 1.6379, 1.6379, 1.6379, 1.6379, 1.6379, 1.6379, 1.6379, 1.6379, 1.6379, 1.6379, 1.6379, 1.6011, 1.5577, 1.5273, 1.5767, 1.5767, 1.4422, 1.485, 1.4943, 1.5216, 1.5433, 1.5441, 1.4818, 1.432, 1.4547, 1.3222, 1.24, 1.1657, 1.0633, 0.7842, 1.2011, 0.474, 1.1763, 1.1918, 0.4654, 1.0245, 0.7389, 0.3648, 0.6724, 0.5615, 0.5496, 0.8523, 0.9703, 0.5447, -0.0669, 0.4766, 1.2383, 1.1384, 0.8182, 0.4457, 0.0445, 0.5543, 0.9615, 0.9628, 0.4663, 0.0956, -0.2032, 0.7653, 0.1786, 0.2924, 0.4665, 0.444, 0.3339, 0.4501, -0.3799, 2.0957, 2.0918, 2.0077, 2.0077, 2.0074, 1.9342, 1.913, 1.9126, 1.908, 1.7948, 1.7947, 1.7947, 1.7947, 1.7947, 1.7947, 1.7947, 1.7947, 1.7947, 1.7947, 1.7947, 1.7947, 1.7947, 1.7947, 1.7947, 1.7947, 1.7947, 1.7947, 1.7947, 1.7947, 1.7947, 1.7641, 1.7648, 1.761, 1.7603, 1.7567, 1.736, 1.7337, 1.718, 1.6949, 1.6427, 1.4502, 1.4463, 1.5552, 1.5593, 1.3822, 1.3097, 0.805, 1.3848, 1.458, 1.4579, 1.4304, 1.228, 0.8713, 0.7357, 0.8672, 1.1919, 0.6897, 0.8955, 0.7127, 0.8602, 0.8281, 1.1876, 0.6844, 0.643, 0.8006, 0.2288, 1.1212, 0.7787, 0.529, 0.2796, 0.5127, -0.0337, 0.1433, -0.4545, 0.8719, 0.3643, 0.3404, -0.5196, -0.489, 1.9554, 1.9505, 1.9504, 1.9504, 1.9504, 1.8119, 1.7893, 1.7807, 1.7281, 1.7025, 1.7025, 1.7025, 1.7025, 1.7025, 1.7025, 1.7025, 1.7025, 1.7025, 1.7025, 1.7025, 1.7025, 1.7025, 1.7025, 1.7025, 1.7024, 1.7024, 1.7024, 1.7024, 1.7024, 1.7024, 1.6768, 1.6807, 1.577, 1.6406, 1.6073, 1.6405, 1.6223, 1.4437, 1.4769, 1.4711, 1.5744, 1.3037, 1.4417, 1.5465, 1.2734, 1.2378, 1.4366, 0.7761, 1.0905, 1.4686, 1.5986, 1.4527, 0.9218, 0.3478, 1.0661, 0.985, 0.6562, 0.0966, 0.3586, 0.917, -0.0887, 0.3553, 0.4775, 0.8822, 0.6215, 0.4936, 0.2904, 0.2135, 0.3833, 0.1214, 0.9295, 0.4706, 0.7083, -0.3831, 0.4173, 0.4745, -0.6003, -0.4866, 0.2146, 0.0592, 2.1336, 2.1336, 2.1336, 1.9337, 1.8913, 1.8786, 1.8786, 1.8786, 1.8786, 1.8786, 1.8786, 1.8786, 1.8786, 1.8786, 1.8786, 1.8786, 1.8786, 1.8786, 1.8786, 1.8786, 1.8786, 1.8786, 1.8786, 1.8786, 1.8786, 1.8786, 1.8786, 1.8786, 1.8786, 1.8786, 1.8529, 1.8444, 1.839, 1.8372, 1.8164, 1.8163, 1.7419, 1.7227, 1.5083, 1.5599, 1.6385, 1.4752, 1.3971, 1.5228, 1.2887, 0.9083, 1.0938, 0.8237, 1.2828, 1.0608, 1.4707, 0.4383, 1.739, 0.7595, 1.2446, 1.2646, 0.2445, 0.7113, 0.7218, 0.5769, 0.7586, 0.53, 1.0415, 0.3921, 0.1385, 0.2189, 1.019, 0.9048, 0.4834, -0.0991, 0.7343, -0.1359, 0.341, -0.4011, -0.4056, 0.3064, 0.2405, 0.3242, 2.5745, 2.4614, 2.4614, 2.4613, 2.4613, 2.4613, 2.4613, 2.1978, 2.1978, 2.1978, 2.1978, 2.1978, 2.1978, 2.1978, 2.1978, 2.1978, 2.1978, 2.1978, 2.1978, 2.1978, 2.1978, 2.1978, 2.1978, 2.1978, 2.1978, 2.1978, 2.1978, 2.1978, 2.1978, 2.1977, 2.1694, 2.1667, 2.1409, 2.1109, 1.9393, 1.1126, 1.7631, 1.912, 1.3369, 1.9034, 1.901, 1.1548, 1.4596, 1.3719, 1.4755, 1.4637, 1.7028, 0.31, 1.6894, 1.2994, 1.6817, 1.4722, 1.0447, 0.6351, 0.0908, 0.6715, 0.2143, 0.4229, 0.6682, 0.6917, 1.1059, 0.4923, -0.0926, 0.4256, 1.042, -0.0884, 0.9925, 0.0601, 0.2573, 0.7295, 0.7321, 0.6909, -0.0811, 0.0202, 0.4462, 2.4801, 2.48, 2.2248, 2.2247, 2.2247, 2.2247, 2.2247, 2.2247, 2.2247, 2.2247, 2.2247, 2.2247, 2.2247, 2.2247, 2.2247, 2.2247, 2.2247, 2.2247, 2.2247, 2.2247, 2.2247, 2.2247, 2.2247, 2.2247, 2.2247, 2.2247, 2.2247, 2.2247, 2.2247, 2.2247, 2.196, 2.1886, 2.1886, 2.1643, 2.1643, 2.1643, 2.1212, 2.1304, 1.8056, 1.6866, 1.7459, 1.9421, 1.9268, 1.4361, 1.9959, 1.6495, 1.4032, 1.7864, 0.9338, 0.9428, 1.5588, 0.9744, 1.6096, 1.5611, 2.0071, 1.0097, 1.4501, 1.6001, 0.9411, 1.1379, 0.088, -0.0133, 0.1185, 0.8106, 0.467, 0.2889, -0.2067, 0.5799, 0.5456, -0.5333, 0.6629, 1.1332, -0.024, -0.1581, -0.1718, 0.0849, -0.2611, -1.1519, 2.5129, 2.5116, 2.5116, 2.5115, 2.4012, 2.2587, 2.2587, 2.2587, 2.2587, 2.2587, 2.2587, 2.2587, 2.2586, 2.2586, 2.2586, 2.2586, 2.2586, 2.2586, 2.2586, 2.2586, 2.2586, 2.2586, 2.2586, 2.2586, 2.2586, 2.2586, 2.2586, 2.2586, 2.2586, 2.2586, 2.2447, 1.9491, 2.0746, 1.9606, 2.06, 2.085, 2.0901, 2.0564, 1.8238, 1.6006, 1.6046, 1.6642, 1.6608, 1.5701, 1.6723, 1.4568, 1.5414, 1.4669, 1.7922, 1.8295, 0.9593, 1.5498, 0.7742, 0.7561, 0.785, 0.4268, -0.342, 0.0066, -0.1353, 0.1225, 0.7242, 1.1774, -0.4581, 0.778, -0.7164, 0.1515, -0.2411]}, \"token.table\": {\"Topic\": [1, 2, 3, 4, 5, 6, 7, 8, 9, 3, 3, 1, 4, 9, 1, 4, 7, 10, 4, 4, 6, 1, 6, 10, 1, 3, 4, 9, 6, 3, 7, 6, 2, 4, 5, 7, 8, 1, 6, 1, 4, 5, 6, 10, 1, 2, 3, 5, 7, 9, 4, 9, 1, 4, 6, 7, 10, 9, 4, 5, 7, 3, 4, 6, 9, 10, 9, 1, 4, 6, 9, 1, 2, 3, 5, 6, 7, 1, 2, 3, 4, 5, 6, 7, 8, 9, 10, 1, 2, 4, 5, 6, 7, 9, 10, 1, 10, 1, 2, 3, 4, 5, 6, 7, 7, 4, 2, 8, 5, 1, 3, 8, 10, 1, 3, 4, 9, 6, 5, 2, 4, 5, 6, 7, 9, 10, 1, 4, 5, 6, 7, 10, 1, 8, 4, 6, 9, 5, 6, 10, 1, 2, 3, 4, 5, 6, 7, 8, 9, 5, 2, 2, 5, 5, 8, 5, 1, 2, 3, 4, 5, 6, 9, 7, 7, 5, 10, 9, 1, 2, 3, 4, 10, 1, 2, 3, 5, 6, 8, 9, 3, 7, 2, 1, 2, 3, 4, 5, 6, 7, 8, 9, 10, 1, 2, 5, 6, 2, 3, 4, 6, 1, 2, 3, 4, 5, 6, 7, 8, 9, 8, 6, 5, 1, 2, 3, 4, 6, 7, 8, 10, 1, 2, 3, 4, 5, 6, 7, 8, 3, 5, 8, 1, 4, 6, 9, 10, 2, 9, 10, 2, 10, 2, 1, 5, 1, 3, 5, 6, 7, 10, 1, 2, 3, 4, 5, 6, 7, 8, 9, 10, 1, 2, 3, 4, 5, 6, 7, 8, 10, 10, 1, 10, 3, 4, 6, 7, 8, 1, 2, 3, 5, 6, 9, 2, 3, 5, 7, 8, 10, 1, 6, 7, 7, 1, 2, 3, 4, 6, 7, 8, 9, 10, 1, 2, 3, 4, 5, 7, 8, 9, 6, 1, 2, 3, 5, 7, 10, 1, 2, 3, 4, 5, 6, 9, 10, 7, 8, 5, 1, 2, 3, 4, 5, 6, 8, 1, 2, 3, 6, 7, 9, 7, 1, 2, 3, 4, 5, 6, 9, 1, 2, 3, 4, 5, 6, 7, 8, 1, 2, 3, 4, 5, 6, 7, 8, 10, 1, 2, 3, 4, 5, 6, 7, 8, 5, 9, 1, 2, 3, 4, 7, 8, 1, 2, 3, 4, 5, 6, 7, 8, 9, 10, 1, 2, 5, 6, 1, 2, 3, 4, 5, 6, 7, 9, 10, 1, 1, 2, 4, 5, 1, 2, 3, 4, 5, 6, 8, 10, 1, 2, 3, 4, 7, 1, 10, 3, 9, 1, 2, 3, 4, 5, 6, 7, 8, 10, 3, 6, 8, 7, 1, 2, 6, 4, 2, 3, 4, 6, 1, 2, 4, 7, 9, 7, 1, 2, 7, 2, 6, 4, 3, 7, 1, 2, 3, 4, 5, 6, 7, 8, 10, 8, 10, 1, 5, 9, 1, 2, 4, 5, 6, 3, 6, 7, 1, 2, 3, 4, 5, 6, 7, 8, 10, 1, 2, 3, 4, 5, 6, 7, 9, 5, 1, 3, 8, 3, 3, 2, 7, 6, 1, 4, 8, 3, 9, 1, 4, 7, 10, 1, 2, 3, 4, 6, 7, 8, 9, 10, 1, 2, 3, 4, 5, 6, 7, 9, 10, 8, 1, 2, 5, 6, 8, 9, 10, 1, 3, 5, 7, 8, 5, 1, 2, 3, 5, 6, 7, 8, 10, 6, 7, 1, 2, 3, 4, 1, 2, 3, 8, 8, 8, 3, 9, 1, 3, 5, 8, 1, 6, 7, 10, 1, 2, 3, 5, 6, 7, 1, 2, 3, 4, 5, 6, 7, 8, 1, 2, 3, 4, 5, 6, 7, 8, 9, 10, 8, 1, 2, 3, 4, 6, 8, 9, 1, 2, 3, 1, 2, 4, 5, 6, 7, 1, 3, 4, 6, 8, 9, 10, 7, 10, 6, 7, 4, 5, 6, 7, 9, 10, 1, 1, 3, 4, 6, 7, 8, 4, 6, 10, 1, 4, 6, 7, 8, 1, 3, 4, 5, 6, 7, 8, 9, 1, 2, 4, 1, 2, 3, 5, 6, 7, 8, 6, 8, 10, 1, 2, 5, 6, 7, 10, 1, 3, 4, 5, 6, 7, 9, 2, 6, 1, 3, 6, 7, 9, 10, 5, 1, 2, 3, 4, 6, 7, 8, 9, 10, 1, 1, 3, 4, 5, 6, 7, 10, 4, 1, 2, 3, 4, 5, 6, 9, 10, 2, 3, 7, 1, 3, 1, 7, 1, 4, 7, 10, 2, 5, 5, 7, 1, 3, 4, 6, 7, 8, 9, 4, 7, 9, 10, 8, 2, 3, 4, 5, 8, 3, 6, 8, 10, 1, 2, 3, 4, 7, 9, 1, 5, 7, 1, 3, 5, 6, 7, 8, 9, 3, 4, 7, 8, 1, 2, 3, 4, 5, 6, 7, 8, 10, 5, 1, 2, 3, 4, 5, 6, 7, 10, 9, 4, 9, 1, 6, 7, 8, 9, 10, 1, 2, 3, 4, 5, 6, 8, 9, 10, 1, 3, 5, 8, 3, 5, 7, 5, 10, 2, 3, 4, 6, 7, 10, 6, 9, 5, 1, 2, 4, 5, 6, 7, 9, 1, 2, 3, 4, 5, 6, 7, 8, 9, 10, 6, 3, 6, 6, 9, 1, 2, 3, 4, 5, 6, 7, 8, 9, 1, 2, 4, 8, 9, 10, 6, 4, 10, 7, 6, 1, 4, 9, 5, 9, 2, 7, 8, 4, 4, 6, 1, 2, 3, 4, 5, 6, 7, 4, 10, 1, 7, 9, 1, 2, 5, 6, 7, 10, 1, 1, 4, 6, 9, 4, 8, 1, 2, 7, 1, 2, 4, 5, 6, 7, 8, 9, 1, 2, 3, 4, 5, 6, 7, 8, 10, 1, 2, 3, 4, 7, 8, 1, 3, 4, 6, 2, 8, 10, 6, 9, 2, 1, 2, 3, 4, 5, 6, 7, 8, 9, 10, 2, 5, 1, 2, 4, 5, 6, 7, 8, 9, 1, 2, 4, 7, 1, 3, 4, 5, 7, 8, 1, 2, 3, 4, 5, 6, 7, 8, 10, 6, 1, 10, 2, 5, 7, 10, 4, 5, 9, 6, 2, 3, 7, 2, 6, 1, 2, 3, 6, 7, 9, 10, 6, 9, 9, 7, 1, 3, 4, 5, 10, 5, 1, 8, 9, 9, 1, 2, 4, 5, 6, 7, 8, 10, 5, 2, 3, 1, 4, 5, 7, 8, 6, 1, 3, 4, 5, 6, 8, 9, 2, 5, 6, 1, 2, 3, 4, 6, 7, 8, 1, 1, 2, 3, 4, 5, 6, 7, 9, 10, 4, 6, 10, 9, 6, 9, 6, 4, 5, 8, 8, 1, 2, 3, 6, 9, 10, 1, 1, 2, 3, 4, 5, 6, 7, 8, 9, 8, 4, 1, 2, 1, 3, 4, 5, 6, 7, 9, 2, 8, 1, 2, 3, 7, 10, 3, 4, 6, 7, 10, 1, 1, 2, 3, 4, 5, 6, 7, 8, 1, 2, 3, 4, 5, 6, 7, 8, 9, 10, 2, 1, 7, 1, 1, 4, 9, 2, 3, 7, 9, 4, 1, 2, 3, 5, 9, 3, 1, 10, 5, 6, 10, 4, 1, 2, 3, 4, 5, 6, 7, 8, 9, 10, 8, 1, 3, 6, 1, 2, 3, 4, 5, 6, 7, 8, 4, 8, 10, 1, 6, 5, 1, 7, 1, 2, 3, 5, 6, 10, 3, 4, 5, 7, 1, 2, 3, 4, 6, 7, 9, 10, 4, 2, 3, 3, 4, 9, 1, 9, 10, 5, 1, 2, 3, 4, 5, 6, 8, 9, 10, 8, 5, 1, 2, 3, 4, 5, 6, 7, 8, 9, 1, 3, 4, 7, 5, 10, 2, 3, 4, 5, 6, 7, 8, 9, 10, 2, 3, 4, 6, 7, 8, 1, 3, 6, 7, 9, 10, 1, 2, 3, 4, 5, 6, 7, 8, 9, 8, 1, 2, 3, 4, 1, 2, 3, 4, 5, 6, 8, 1, 2, 6, 2, 3, 4, 6, 1, 2, 3, 4, 6, 7, 10, 3, 4, 7, 4, 9, 1, 8, 7, 2, 8, 1, 2, 3, 5, 7, 9, 10, 1, 4, 4, 3, 7, 1, 4, 5, 2, 1, 2, 3, 4, 5, 6, 7, 9, 3, 4, 10, 3, 4, 9, 10, 6, 9, 8, 3, 1, 2, 3, 4, 5, 6, 7, 2, 3, 4, 5, 6, 9, 1, 3, 7, 9, 10, 8, 10, 1, 2, 7, 1, 2, 3, 4, 6, 7, 3, 4, 1, 4, 6, 10, 7, 2, 5, 10, 2, 4, 2, 2, 1, 9, 1, 3, 4, 8, 1, 3, 4, 5, 6, 7, 10, 1, 6, 10, 4, 4, 6, 8, 1, 2, 3, 4, 5, 6, 7, 8, 9, 10, 4, 5, 3, 1, 2, 3, 4, 5, 6, 7, 8, 10, 1, 2, 3, 4, 5, 7, 8, 8, 3, 8, 8, 1, 4, 2, 3, 5, 7, 9, 2, 4, 8, 10, 3, 7, 5, 7, 9, 1, 2, 9, 10, 8, 1, 2, 3, 4, 5, 6, 7, 8, 9, 1, 2, 3, 4, 5, 6, 7, 8, 9, 10, 1, 2, 3, 4, 5, 6, 9, 2, 8, 1, 2, 3, 4, 6, 8, 1, 2, 3, 4, 6, 9, 3, 7, 6, 10, 1, 2, 4, 10, 10, 1, 2, 3, 4, 5, 6, 7, 8, 9, 1, 2, 3, 4, 5, 6, 7, 8, 9, 10, 2, 4, 6, 7, 3, 3, 4, 6, 7, 10, 1, 2, 3, 5, 6, 7, 8, 2, 3, 10, 4, 5, 1, 6, 7, 9, 8, 10, 1, 2, 3, 4, 5, 6, 7, 8, 9, 10, 1, 2, 3, 1, 2, 3, 5, 6, 7, 10, 1, 3, 3, 4, 5, 4, 9, 10, 1, 2, 4, 9, 1, 2, 6, 5, 8, 9, 10, 1, 2, 3, 4, 5, 6, 7, 8, 9, 8, 1, 2, 3, 4, 5, 7, 8, 1, 4, 5, 7, 8, 9, 10, 5, 3, 10, 9, 7, 6, 4, 1, 2, 3, 4, 5, 6, 7, 10, 5, 1, 2, 3, 4, 5, 6, 7, 8, 9, 10, 9, 1, 2, 3, 4, 5, 6, 8, 9, 10, 5, 7, 8, 1, 8, 10, 6, 2, 3, 4, 1, 2, 4, 5, 6, 7, 8, 9, 10, 1, 4, 5, 7, 10, 2, 9, 6, 1, 4, 6, 9, 2, 9, 5, 9, 6, 9, 3, 5, 6, 1, 3, 4, 6, 8, 3, 8, 1, 2, 3, 4, 5, 6, 7, 8, 9, 1, 3, 7, 8, 9, 1, 2, 3, 4, 5, 6, 7, 8, 10, 1, 3, 6, 7, 8, 9, 10, 10, 4, 1, 2, 3, 4, 5, 6, 7, 8, 9, 10, 1, 2, 3, 10, 5, 1, 2, 3, 5, 6, 7, 8, 9, 10, 4, 1, 2, 3, 4, 6, 8, 9, 10, 8, 4, 1, 2, 6, 8, 2, 3, 7, 1, 2, 3, 4, 5, 6, 7, 8, 10, 3, 4, 1, 3, 4, 5, 6, 9, 10, 1, 1, 2, 3, 4, 5, 6, 7, 9, 10, 1, 2, 3, 6, 7], \"Freq\": [0.22953218055086624, 0.09181287222034651, 0.1606725263856064, 0.06885965416525988, 0.09181287222034651, 0.11476609027543312, 0.20657896249577964, 0.022953218055086627, 0.045906436110173254, 0.6360878636311943, 0.8549899416931614, 0.20654724816221964, 0.4130944963244393, 0.20654724816221964, 0.5545066575415599, 0.11090133150831198, 0.22180266301662396, 0.11090133150831198, 0.7997685695690568, 0.40530938485143947, 0.6339192605646049, 0.1823125363094667, 0.3646250726189334, 0.1823125363094667, 0.1393169081170126, 0.1393169081170126, 0.2786338162340252, 0.2786338162340252, 0.8509989448882743, 0.85490376903535, 0.6468799751843398, 0.6339250268650627, 0.09432247993458794, 0.09432247993458794, 0.2829674398037638, 0.18864495986917587, 0.2829674398037638, 0.7219350810312946, 0.2406450270104315, 0.5056942276849034, 0.08428237128081723, 0.16856474256163445, 0.08428237128081723, 0.08428237128081723, 0.1660531200768891, 0.24907968011533363, 0.1660531200768891, 0.3321062401537782, 0.08302656003844455, 0.08302656003844455, 0.3193094081744657, 0.6386188163489314, 0.254151491528205, 0.1270757457641025, 0.1270757457641025, 0.1270757457641025, 0.254151491528205, 0.8755847392758279, 0.2805522432047682, 0.5611044864095364, 0.6468544862428097, 0.41972970273813603, 0.41972970273813603, 0.6473471399057514, 0.3236735699528757, 0.6430378189784938, 0.6474817674418623, 0.17474316729775938, 0.5242295018932781, 0.17474316729775938, 0.17474316729775938, 0.4577400326900238, 0.03521077174538644, 0.14084308698154577, 0.17605385872693222, 0.03521077174538644, 0.14084308698154577, 0.1543392415097353, 0.06173569660389412, 0.12347139320778824, 0.18520708981168238, 0.12347139320778824, 0.09260354490584119, 0.03086784830194706, 0.09260354490584119, 0.03086784830194706, 0.12347139320778824, 0.19095764769910153, 0.06365254923303384, 0.1273050984660677, 0.19095764769910153, 0.1273050984660677, 0.06365254923303384, 0.1273050984660677, 0.06365254923303384, 0.25237586947927787, 0.25237586947927787, 0.2059134748890988, 0.2059134748890988, 0.2831310279725109, 0.0514783687222747, 0.0514783687222747, 0.12869592180568676, 0.02573918436113735, 0.6468868047118619, 0.6050310617135097, 0.5954252769868741, 0.29771263849343704, 0.5679511798572869, 0.4969347052614762, 0.2484673526307381, 0.12423367631536905, 0.12423367631536905, 0.15797000261794017, 0.47391000785382054, 0.15797000261794017, 0.15797000261794017, 0.6339208432113982, 0.7362923601822976, 0.5822022858510142, 0.192593326032565, 0.577779978097695, 0.192593326032565, 0.6609442772891841, 0.3304721386445921, 0.643041836059761, 0.08970152542700877, 0.08970152542700877, 0.08970152542700877, 0.44850762713504383, 0.08970152542700877, 0.08970152542700877, 0.795859010426339, 0.6625735766667477, 0.40644883803262877, 0.6339327867590053, 0.6474716687220613, 0.5679556640132175, 0.6339236449075111, 0.6430178489686922, 0.10494461420489853, 0.10494461420489853, 0.18365307485857243, 0.18365307485857243, 0.20988922840979707, 0.0787084606536739, 0.05247230710244927, 0.05247230710244927, 0.05247230710244927, 0.5679405511920844, 0.7706713489508706, 0.5577748069960985, 0.27888740349804925, 0.5703084928442286, 0.6625846546903209, 0.5679268962995184, 0.41356930841788203, 0.1181626595479663, 0.1181626595479663, 0.2363253190959326, 0.05908132977398315, 0.05908132977398315, 0.05908132977398315, 0.6468878230545073, 0.874562845034177, 0.5679588118591223, 0.8675768888302406, 0.6474660886071103, 0.3533440243151882, 0.07066880486303764, 0.1413376097260753, 0.2826752194521506, 0.07066880486303764, 0.37297338353755305, 0.1065638238678723, 0.15984573580180844, 0.05328191193393615, 0.2664095596696808, 0.05328191193393615, 0.6474717203648163, 0.6491968670802307, 0.32459843354011536, 0.5821995945659106, 0.47149519884629115, 0.05238835542736569, 0.07858253314104853, 0.1833592439957799, 0.026194177713682845, 0.026194177713682845, 0.07858253314104853, 0.026194177713682845, 0.026194177713682845, 0.05238835542736569, 0.14391032523376632, 0.14391032523376632, 0.4317309757012989, 0.14391032523376632, 0.39198320989253427, 0.07839664197850685, 0.3135865679140274, 0.1567932839570137, 0.07707669278897948, 0.19269173197244868, 0.07707669278897948, 0.19269173197244868, 0.23123007836693843, 0.03853834639448974, 0.11561503918346921, 0.11561503918346921, 0.03853834639448974, 0.6625972797087355, 0.8510101677731353, 0.56795352907919, 0.22313007968967594, 0.08925203187587037, 0.22313007968967594, 0.13387804781380555, 0.08925203187587037, 0.13387804781380555, 0.044626015937935186, 0.044626015937935186, 0.3947142446278941, 0.09867856115697353, 0.1480178417354603, 0.049339280578486765, 0.19735712231394706, 0.049339280578486765, 0.049339280578486765, 0.049339280578486765, 0.4195818076691666, 0.2097909038345833, 0.2097909038345833, 0.07899160432986255, 0.3159664173194502, 0.23697481298958767, 0.07899160432986255, 0.23697481298958767, 0.5822010130895844, 0.647473114300498, 0.8675114173736903, 0.582210435799819, 0.6430313482300591, 0.5822171421185982, 0.6942585698580976, 0.23141952328603255, 0.21010003305900596, 0.10505001652950298, 0.10505001652950298, 0.10505001652950298, 0.31515004958850895, 0.10505001652950298, 0.07501211900420152, 0.1875302975105038, 0.0843886338797267, 0.10314166363077708, 0.22503635701260452, 0.0937651487552519, 0.10314166363077708, 0.07501211900420152, 0.01875302975105038, 0.03750605950210076, 0.2680625501313481, 0.23827782233897613, 0.1787083667542321, 0.029784727792372016, 0.029784727792372016, 0.08935418337711605, 0.08935418337711605, 0.05956945558474403, 0.029784727792372016, 0.6430352095074547, 0.5011729763032218, 0.5011729763032218, 0.2093185739310153, 0.3139778608965229, 0.2093185739310153, 0.10465928696550765, 0.10465928696550765, 0.4366345899723575, 0.31188184998025537, 0.06237636999605107, 0.06237636999605107, 0.06237636999605107, 0.12475273999210214, 0.2134426070360841, 0.10672130351804204, 0.4268852140721682, 0.10672130351804204, 0.10672130351804204, 0.10672130351804204, 0.3121673246692918, 0.6243346493385836, 0.6468782589963563, 0.8745575514646241, 0.22504768027240515, 0.09001907210896207, 0.09001907210896207, 0.09001907210896207, 0.1350286081634431, 0.18003814421792413, 0.06751430408172154, 0.045009536054481034, 0.06751430408172154, 0.15048695328354228, 0.1254057944029519, 0.326055065447675, 0.10032463552236152, 0.05016231776118076, 0.15048695328354228, 0.07524347664177114, 0.05016231776118076, 0.6339260319538726, 0.32588838976636375, 0.08147209744159094, 0.32588838976636375, 0.08147209744159094, 0.08147209744159094, 0.08147209744159094, 0.41509924683225724, 0.10377481170806431, 0.051887405854032155, 0.25943702927016077, 0.051887405854032155, 0.051887405854032155, 0.051887405854032155, 0.051887405854032155, 0.6468817306271769, 0.6625956833021273, 0.567952547079318, 0.14088960344651477, 0.4226688103395443, 0.07044480172325739, 0.07044480172325739, 0.07044480172325739, 0.14088960344651477, 0.14088960344651477, 0.2885730197328835, 0.09619100657762784, 0.09619100657762784, 0.2885730197328835, 0.09619100657762784, 0.09619100657762784, 0.43738793908033635, 0.19418860225019632, 0.38837720450039265, 0.09709430112509816, 0.14564145168764722, 0.04854715056254908, 0.09709430112509816, 0.6474591723056721, 0.04141080634823124, 0.16564322539292495, 0.04141080634823124, 0.16564322539292495, 0.2070540317411562, 0.12423241904469372, 0.16564322539292495, 0.08282161269646247, 0.32678166385023694, 0.10319420963691693, 0.24078648915280618, 0.06879613975794462, 0.03439806987897231, 0.017199034939486154, 0.10319420963691693, 0.06879613975794462, 0.051597104818458465, 0.06305346901369323, 0.18916040704107967, 0.2522138760547729, 0.06305346901369323, 0.06305346901369323, 0.06305346901369323, 0.18916040704107967, 0.12610693802738646, 0.6779859010513417, 0.2259953003504472, 0.17764236414250684, 0.08882118207125342, 0.3552847282850137, 0.2664635462137602, 0.08882118207125342, 0.08882118207125342, 0.2448906644191087, 0.1989736648405258, 0.061222666104777175, 0.09183399915716577, 0.061222666104777175, 0.21427933136672012, 0.061222666104777175, 0.015305666526194294, 0.04591699957858288, 0.015305666526194294, 0.14394191593699296, 0.14394191593699296, 0.4318257478109789, 0.14394191593699296, 0.3462516516867441, 0.034625165168674414, 0.13850066067469766, 0.06925033033734883, 0.13850066067469766, 0.034625165168674414, 0.06925033033734883, 0.10387549550602324, 0.034625165168674414, 0.7962045250145199, 0.28012786031891135, 0.14006393015945567, 0.14006393015945567, 0.420191790478367, 0.11238241628087202, 0.3933384569830521, 0.11238241628087202, 0.11238241628087202, 0.11238241628087202, 0.05619120814043601, 0.05619120814043601, 0.05619120814043601, 0.2289567427412262, 0.4579134854824524, 0.20736665319840375, 0.4147333063968075, 0.20736665319840375, 0.8913466960499082, 0.6430343473099341, 0.6481274527582219, 0.2160424842527406, 0.18281353117352026, 0.09140676558676013, 0.27422029676028037, 0.13711014838014018, 0.045703382793380064, 0.09140676558676013, 0.045703382793380064, 0.045703382793380064, 0.045703382793380064, 0.41949277488131986, 0.3364748266158434, 0.3364748266158434, 0.6468728726155274, 0.20454792906410538, 0.20454792906410538, 0.40909585812821075, 0.604794601507077, 0.5822049885913525, 0.18030800094808874, 0.18030800094808874, 0.3606160018961775, 0.4805820213520928, 0.1201455053380232, 0.1201455053380232, 0.1201455053380232, 0.1201455053380232, 0.6468615847360639, 0.2870410839256878, 0.5740821678513756, 0.6468800182807353, 0.5877504173159789, 0.29387520865798944, 0.39401605625815156, 0.7698659227390341, 0.6468724350955026, 0.19488443883019388, 0.222725072948793, 0.222725072948793, 0.08352190235579739, 0.027840634118599127, 0.05568126823719825, 0.13920317059299564, 0.027840634118599127, 0.027840634118599127, 0.3374255885163956, 0.3374255885163956, 0.2246006665899792, 0.4492013331799584, 0.6474707062322963, 0.5157183267460769, 0.07934128103785798, 0.03967064051892899, 0.23802384311357394, 0.07934128103785798, 0.2580878589349646, 0.5161757178699292, 0.6468813857956529, 0.07872558182722594, 0.1574511636544519, 0.27553953639529083, 0.1574511636544519, 0.1574511636544519, 0.07872558182722594, 0.07872558182722594, 0.03936279091361297, 0.03936279091361297, 0.217605533746384, 0.13600345859149002, 0.299207608901278, 0.13600345859149002, 0.054401383436596, 0.081602075154894, 0.054401383436596, 0.027200691718298, 0.5679651239686313, 0.2608381236617861, 0.2608381236617861, 0.2608381236617861, 0.42393954252307764, 0.636088783793198, 0.7603879378457564, 0.646856244409727, 0.6339281424830744, 0.2981261264858618, 0.5962522529717236, 0.6625953037756531, 0.6360903174399494, 0.6474710152867483, 0.316558840914237, 0.1582794204571185, 0.47483826137135554, 0.6430200933292122, 0.14977807434844803, 0.08986684460906882, 0.26960053382720645, 0.17973368921813765, 0.08986684460906882, 0.029955614869689607, 0.11982245947875843, 0.059911229739379214, 0.029955614869689607, 0.29837951472174246, 0.03315327941352694, 0.19891967648116166, 0.06630655882705389, 0.03315327941352694, 0.06630655882705389, 0.1657663970676347, 0.06630655882705389, 0.13261311765410777, 0.44212008736533714, 0.18459140128701862, 0.24612186838269148, 0.06153046709567287, 0.18459140128701862, 0.18459140128701862, 0.12306093419134574, 0.6430413313508389, 0.20880421778407643, 0.522010544460191, 0.10440210889203821, 0.10440210889203821, 0.10440210889203821, 0.7362761832853876, 0.20154827082161494, 0.10077413541080747, 0.10077413541080747, 0.050387067705403736, 0.1511612031162112, 0.25193533852701866, 0.050387067705403736, 0.050387067705403736, 0.6339165914738593, 0.6468648142364698, 0.14481193292321826, 0.579247731692873, 0.14481193292321826, 0.6050327583025787, 0.21157962772172323, 0.21157962772172323, 0.21157962772172323, 0.21157962772172323, 0.662565124638657, 0.4517518229299665, 0.6360637711112674, 0.647448459191499, 0.2087607722021086, 0.2087607722021086, 0.2087607722021086, 0.2087607722021086, 0.803380974347924, 0.5173455798912809, 0.25867278994564047, 0.25867278994564047, 0.07585750180965112, 0.22757250542895333, 0.37928750904825553, 0.15171500361930224, 0.15171500361930224, 0.07585750180965112, 0.06987000197980581, 0.13974000395961161, 0.06987000197980581, 0.06987000197980581, 0.349350009899029, 0.2096100059394174, 0.06987000197980581, 0.06987000197980581, 0.06847041199782201, 0.22252883899292156, 0.10270561799673303, 0.051352808998366514, 0.20541123599346606, 0.06847041199782201, 0.06847041199782201, 0.17117602999455503, 0.03423520599891101, 0.017117602999455504, 0.6625906210171949, 0.07889999713751651, 0.15779999427503302, 0.15779999427503302, 0.23669999141254955, 0.15779999427503302, 0.15779999427503302, 0.15779999427503302, 0.5032741358670473, 0.10065482717340946, 0.30196448152022837, 0.5328858121003571, 0.059209534677817456, 0.059209534677817456, 0.11841906935563491, 0.059209534677817456, 0.11841906935563491, 0.07260878458470549, 0.21782635375411646, 0.07260878458470549, 0.14521756916941098, 0.07260878458470549, 0.29043513833882195, 0.07260878458470549, 0.6468713778846735, 0.6430346771100165, 0.4187365821450098, 0.6468682995371192, 0.11485869142296878, 0.11485869142296878, 0.5742934571148439, 0.11485869142296878, 0.11485869142296878, 0.6430349893674392, 0.7961531820084852, 0.2996239351004829, 0.14981196755024145, 0.14981196755024145, 0.07490598377512073, 0.07490598377512073, 0.22471795132536218, 0.3590713464453745, 0.3590713464453745, 0.17953567322268724, 0.5132692312731635, 0.1026538462546327, 0.1026538462546327, 0.1026538462546327, 0.1026538462546327, 0.3724482231699715, 0.10641377804856328, 0.05320688902428164, 0.15962066707284492, 0.05320688902428164, 0.15962066707284492, 0.05320688902428164, 0.10641377804856328, 0.32796609782041575, 0.49194914673062357, 0.16398304891020787, 0.40764034289819867, 0.10191008572454967, 0.20382017144909934, 0.06794005714969978, 0.06794005714969978, 0.06794005714969978, 0.06794005714969978, 0.525714083129624, 0.262857041564812, 0.262857041564812, 0.2630608872236155, 0.17537392481574368, 0.08768696240787184, 0.17537392481574368, 0.08768696240787184, 0.2630608872236155, 0.20745445341856933, 0.155590840063927, 0.10372722670928466, 0.155590840063927, 0.05186361335464233, 0.20745445341856933, 0.05186361335464233, 0.30646647185855463, 0.6129329437171093, 0.45646983720452494, 0.05705872965056562, 0.05705872965056562, 0.11411745930113124, 0.22823491860226247, 0.05705872965056562, 0.5679582341274027, 0.3114343600852693, 0.10381145336175643, 0.051905726680878214, 0.15571718004263466, 0.15571718004263466, 0.10381145336175643, 0.10381145336175643, 0.051905726680878214, 0.051905726680878214, 0.7961426995793617, 0.43509591184439694, 0.14503197061479897, 0.04834399020493299, 0.09668798040986598, 0.09668798040986598, 0.04834399020493299, 0.04834399020493299, 0.6050326208844218, 0.14098041977300252, 0.16447715640183627, 0.32895431280367254, 0.023496736628833753, 0.11748368314416877, 0.14098041977300252, 0.046993473257667506, 0.023496736628833753, 0.6490638038696135, 0.1298127607739227, 0.1298127607739227, 0.8913772495939439, 0.6437668598976326, 0.7961259980747512, 0.6468528492297376, 0.157517810077506, 0.157517810077506, 0.157517810077506, 0.472553430232518, 0.6797786573398622, 0.22659288577995407, 0.6796089629018095, 0.22653632096726983, 0.14446616148026659, 0.14446616148026659, 0.14446616148026659, 0.14446616148026659, 0.14446616148026659, 0.28893232296053317, 0.14446616148026659, 0.3666655368224557, 0.18333276841122784, 0.3666655368224557, 0.18333276841122784, 0.6625802927104323, 0.5176491613855023, 0.10352983227710047, 0.10352983227710047, 0.20705966455420094, 0.10352983227710047, 0.6360936685078747, 0.2680507733169764, 0.2680507733169764, 0.2680507733169764, 0.0681780394046496, 0.340890197023248, 0.20453411821394882, 0.0681780394046496, 0.1363560788092992, 0.1363560788092992, 0.28011358924930224, 0.5602271784986045, 0.42981930848859, 0.22045835041672776, 0.14697223361115183, 0.14697223361115183, 0.14697223361115183, 0.22045835041672776, 0.07348611680557592, 0.07348611680557592, 0.2561151102935286, 0.2561151102935286, 0.5122302205870573, 0.6625918899809848, 0.3640931039428318, 0.08090957865396262, 0.08090957865396262, 0.16181915730792523, 0.04045478932698131, 0.16181915730792523, 0.04045478932698131, 0.04045478932698131, 0.04045478932698131, 0.5679507686970119, 0.04039084567744863, 0.2827359197421404, 0.20195422838724314, 0.1615633827097945, 0.04039084567744863, 0.12117253703234589, 0.08078169135489725, 0.04039084567744863, 0.6474668842215378, 0.31929934373075247, 0.6385986874615049, 0.5517467713399868, 0.1379366928349967, 0.1379366928349967, 0.1379366928349967, 0.3291205924462412, 0.3291205924462412, 0.16142961620810842, 0.08071480810405421, 0.08071480810405421, 0.2017870202601355, 0.040357404052027104, 0.08071480810405421, 0.08071480810405421, 0.16142961620810842, 0.16142961620810842, 0.1572484671328005, 0.4717454013984015, 0.1572484671328005, 0.1572484671328005, 0.6360857059195144, 0.5785936230144668, 0.2892968115072334, 0.7380219549639978, 0.643017109910167, 0.08592393682874205, 0.08592393682874205, 0.08592393682874205, 0.3436957473149682, 0.3436957473149682, 0.867503800443284, 0.3271631605268561, 0.6543263210537122, 0.5679713984933538, 0.215801038346714, 0.14386735889780933, 0.07193367944890466, 0.14386735889780933, 0.215801038346714, 0.14386735889780933, 0.07193367944890466, 0.083654656376513, 0.167309312753026, 0.167309312753026, 0.083654656376513, 0.2230790836707013, 0.05576977091767533, 0.05576977091767533, 0.05576977091767533, 0.083654656376513, 0.027884885458837664, 0.6339264007455833, 0.6360871420932432, 0.8510333250911027, 0.4293055357028386, 0.4293055357028386, 0.23731648736000896, 0.07910549578666966, 0.15821099157333932, 0.15821099157333932, 0.07910549578666966, 0.07910549578666966, 0.11865824368000448, 0.03955274789333483, 0.03955274789333483, 0.11285249477651656, 0.3385574843295497, 0.11285249477651656, 0.22570498955303311, 0.11285249477651656, 0.11285249477651656, 0.6339215597233858, 0.733926094131317, 0.2446420313771057, 0.6468689833469858, 0.6339200846298819, 0.8914126032544508, 0.31929014863354405, 0.6385802972670881, 0.8170665292493879, 0.6474586356844655, 0.2585846268864866, 0.2585846268864866, 0.2585846268864866, 0.6050269824494511, 0.6110547974127087, 0.30552739870635437, 0.27239104889886884, 0.06809776222471721, 0.13619552444943442, 0.13619552444943442, 0.06809776222471721, 0.20429328667415164, 0.06809776222471721, 0.6050227707134898, 0.6430173121527711, 0.3188844440957205, 0.637768888191441, 0.6474815236897302, 0.23314234556703617, 0.1554282303780241, 0.3108564607560482, 0.07771411518901206, 0.07771411518901206, 0.07771411518901206, 0.7961497045085436, 0.3159209643792922, 0.1579604821896461, 0.3159209643792922, 0.3159209643792922, 0.7998818893875385, 0.4517883907823425, 0.3603621759631322, 0.4504527199539152, 0.1801810879815661, 0.17295574862279167, 0.17295574862279167, 0.04323893715569792, 0.08647787431139584, 0.17295574862279167, 0.04323893715569792, 0.21619468577848958, 0.08647787431139584, 0.18350427103900646, 0.22938033879875808, 0.16056623715913065, 0.11469016939937904, 0.13762820327925485, 0.06881410163962742, 0.06881410163962742, 0.022938033879875808, 0.022938033879875808, 0.07845525481161994, 0.07845525481161994, 0.4707315288697196, 0.15691050962323988, 0.07845525481161994, 0.07845525481161994, 0.11551018911303106, 0.6930611346781863, 0.11551018911303106, 0.11551018911303106, 0.2579834975457303, 0.2579834975457303, 0.2579834975457303, 0.6339089265352912, 0.6474842775138888, 0.7605636898737174, 0.1799758946325127, 0.02999598243875212, 0.05999196487750424, 0.05999196487750424, 0.1799758946325127, 0.14997991219376058, 0.1799758946325127, 0.02999598243875212, 0.02999598243875212, 0.08998794731625635, 0.2755405705727569, 0.5510811411455138, 0.2234446667128095, 0.05586116667820237, 0.11172233335640475, 0.16758350003460712, 0.05586116667820237, 0.11172233335640475, 0.11172233335640475, 0.11172233335640475, 0.796123526135969, 0.7762564450042692, 0.6207121130751617, 0.31035605653758086, 0.19149787041161265, 0.09574893520580632, 0.09574893520580632, 0.19149787041161265, 0.19149787041161265, 0.19149787041161265, 0.3614232729928223, 0.04015814144364692, 0.24094884866188154, 0.08031628288729384, 0.04015814144364692, 0.08031628288729384, 0.04015814144364692, 0.12047442433094077, 0.04015814144364692, 0.4296413337194222, 0.31606407565376043, 0.31606407565376043, 0.5577322399471307, 0.27886611997356536, 0.4361226432253102, 0.4361226432253102, 0.2071505180211105, 0.2071505180211105, 0.414301036042221, 0.8510237856064926, 0.5822150990930633, 0.6360897623252285, 0.8745423749740981, 0.30697710305206893, 0.6139542061041379, 0.1869858460832155, 0.3428073844858951, 0.1869858460832155, 0.031164307680535915, 0.1558215384026796, 0.06232861536107183, 0.6430240928853445, 0.633930788308883, 0.6474769548116119, 0.6474789663857782, 0.6468678721727519, 0.3712253607870782, 0.09280634019676955, 0.09280634019676955, 0.1856126803935391, 0.27841902059030865, 0.5679528764895919, 0.617391741901807, 0.3086958709509035, 0.6474847541808575, 0.647462358821474, 0.07406750085505465, 0.07406750085505465, 0.07406750085505465, 0.4444050051303279, 0.07406750085505465, 0.07406750085505465, 0.1481350017101093, 0.6430202828193767, 0.8169263060955938, 0.471320550771753, 0.2356602753858765, 0.15035510973374186, 0.15035510973374186, 0.3007102194674837, 0.2255326646006128, 0.07517755486687093, 0.6339062846498372, 0.15563561365873127, 0.31127122731746254, 0.31127122731746254, 0.07781780682936563, 0.07781780682936563, 0.07781780682936563, 0.07781780682936563, 0.7718348912346188, 0.39030085608633747, 0.39030085608633747, 0.2835844371962382, 0.1890562914641588, 0.1417922185981191, 0.0472640728660397, 0.1417922185981191, 0.1417922185981191, 0.0472640728660397, 0.7961498827610453, 0.17897910013004037, 0.11931940008669359, 0.11931940008669359, 0.23863880017338718, 0.17897910013004037, 0.059659700043346794, 0.059659700043346794, 0.059659700043346794, 0.059659700043346794, 0.14177110489659475, 0.567084419586379, 0.14177110489659475, 0.8756398366642348, 0.32716444315211823, 0.6543288863042365, 0.6339321550315893, 0.39922303661502634, 0.19961151830751317, 0.19961151830751317, 0.4517974902806918, 0.38068949224662646, 0.09517237306165661, 0.19034474612331323, 0.09517237306165661, 0.09517237306165661, 0.19034474612331323, 0.796140606973039, 0.2733144849625312, 0.11388103540105467, 0.022776207080210935, 0.09110482832084374, 0.22776207080210933, 0.0683286212406328, 0.11388103540105467, 0.04555241416042187, 0.022776207080210935, 0.6625784697072118, 0.799808534155186, 0.22748007146844257, 0.6824402144053276, 0.24844691857059514, 0.12422345928529757, 0.12422345928529757, 0.12422345928529757, 0.12422345928529757, 0.24844691857059514, 0.6474713314664545, 0.582213175019839, 0.6625961130254799, 0.14580104374552705, 0.5832041749821082, 0.14580104374552705, 0.14580104374552705, 0.6430496618696249, 0.11781741865660586, 0.11781741865660586, 0.11781741865660586, 0.23563483731321172, 0.23563483731321172, 0.7109988423079477, 0.2543036251881539, 0.03632908931259342, 0.14531635725037367, 0.14531635725037367, 0.2179745358755605, 0.03632908931259342, 0.10898726793778026, 0.03632908931259342, 0.20965537997978723, 0.08153264776991725, 0.10482768998989361, 0.1747128166498227, 0.058237605549940896, 0.10482768998989361, 0.12812273220986997, 0.058237605549940896, 0.03494256332996454, 0.02329504221997636, 0.5822030125740187, 0.3184073697144976, 0.6368147394289952, 0.8913273947277384, 0.7961994663192383, 0.805674098490293, 0.6474635378209801, 0.315003936130591, 0.1575019680652955, 0.315003936130591, 0.1575019680652955, 0.8045364315668398, 0.09387975208052012, 0.28163925624156033, 0.09387975208052012, 0.37551900832208046, 0.09387975208052012, 0.6360803200792431, 0.5195003349707529, 0.17316677832358426, 0.20883764143967146, 0.20883764143967146, 0.4176752828793429, 0.6050285660881876, 0.15543931246695172, 0.15543931246695172, 0.12435144997356137, 0.1088075187268662, 0.12435144997356137, 0.13989538122025655, 0.07771965623347586, 0.015543931246695172, 0.06217572498678069, 0.015543931246695172, 0.6625853660261414, 0.47716688954221015, 0.09543337790844203, 0.3817335116337681, 0.0969782204013812, 0.16163036733563535, 0.0969782204013812, 0.22628251426988946, 0.1939564408027624, 0.06465214693425414, 0.0969782204013812, 0.0969782204013812, 0.6276125446752169, 0.31380627233760844, 0.6430510378237466, 0.7961489027080926, 0.6339148355180854, 0.5679709933279151, 0.31840782367678677, 0.6368156473535735, 0.12292597410423084, 0.06146298705211542, 0.12292597410423084, 0.4302409093648079, 0.12292597410423084, 0.12292597410423084, 0.85498287859579, 0.6050226479449066, 0.578563303598994, 0.289281651799497, 0.07543376591401402, 0.07543376591401402, 0.07543376591401402, 0.07543376591401402, 0.15086753182802803, 0.15086753182802803, 0.15086753182802803, 0.30173506365605607, 0.6050263701520777, 0.582203753369598, 0.854920942590136, 0.5479293725336749, 0.18264312417789164, 0.18264312417789164, 0.25564429743854067, 0.5112885948770813, 0.25564429743854067, 0.5679517611011443, 0.29214758660761364, 0.04869126443460227, 0.04869126443460227, 0.09738252886920454, 0.14607379330380682, 0.09738252886920454, 0.04869126443460227, 0.14607379330380682, 0.04869126443460227, 0.6626025471558685, 0.5679430473432044, 0.254736243887917, 0.09552609145796888, 0.15921015242994813, 0.15921015242994813, 0.1273681219439585, 0.06368406097197925, 0.031842030485989624, 0.06368406097197925, 0.031842030485989624, 0.12435210272599168, 0.373056308177975, 0.373056308177975, 0.12435210272599168, 0.5762406228302893, 0.6430172273066715, 0.3974505780524156, 0.07226374146407558, 0.07226374146407558, 0.10839561219611336, 0.10839561219611336, 0.03613187073203779, 0.10839561219611336, 0.03613187073203779, 0.03613187073203779, 0.3425962357168057, 0.11419874523893522, 0.11419874523893522, 0.11419874523893522, 0.11419874523893522, 0.22839749047787045, 0.23938716258418885, 0.07979572086139629, 0.23938716258418885, 0.07979572086139629, 0.23938716258418885, 0.07979572086139629, 0.18168464554350444, 0.060561548514501476, 0.12112309702900295, 0.060561548514501476, 0.2422461940580059, 0.060561548514501476, 0.12112309702900295, 0.060561548514501476, 0.060561548514501476, 0.45175315567452434, 0.19884805004561754, 0.19884805004561754, 0.19884805004561754, 0.39769610009123507, 0.08825118503440832, 0.08825118503440832, 0.3530047401376333, 0.17650237006881664, 0.08825118503440832, 0.08825118503440832, 0.08825118503440832, 0.20183534176818724, 0.20183534176818724, 0.4036706835363745, 0.2992641210002897, 0.19950941400019312, 0.39901882800038624, 0.09975470700009656, 0.11573321511015935, 0.11573321511015935, 0.11573321511015935, 0.11573321511015935, 0.2314664302203187, 0.2314664302203187, 0.6430478702774813, 0.35328684112850006, 0.52993026169275, 0.6468793044793694, 0.6050327707382143, 0.6474770059988032, 0.7961542106178144, 0.6625912201650932, 0.6468703539088685, 0.7580312372583186, 0.6625932571585058, 0.1142485313268833, 0.1142485313268833, 0.1142485313268833, 0.1142485313268833, 0.1142485313268833, 0.3427455939806499, 0.1142485313268833, 0.7961330130927381, 0.6050351948882351, 0.60501043812239, 0.32573141926718, 0.65146283853436, 0.16164362729507284, 0.16164362729507284, 0.4849308818852185, 0.7796970467350711, 0.2779000860360738, 0.06947502150901845, 0.06947502150901845, 0.24316257528156457, 0.06947502150901845, 0.06947502150901845, 0.06947502150901845, 0.1389500430180369, 0.20728137107540698, 0.41456274215081396, 0.20728137107540698, 0.507507656353538, 0.253753828176769, 0.6591283811778306, 0.3295641905889153, 0.6338998650318748, 0.6474701299874092, 0.6854520151055201, 0.8549412016793776, 0.1940507670000408, 0.12936717800002723, 0.06468358900001361, 0.12936717800002723, 0.06468358900001361, 0.32341794500006804, 0.12936717800002723, 0.22864174788181196, 0.07621391596060399, 0.15242783192120798, 0.07621391596060399, 0.38106957980302, 0.07621391596060399, 0.18562102385598747, 0.18562102385598747, 0.37124204771197494, 0.18562102385598747, 0.18562102385598747, 0.6625946904714979, 0.643048777836813, 0.20669121760464057, 0.20669121760464057, 0.41338243520928114, 0.4478675492869224, 0.1279621569391207, 0.1279621569391207, 0.06398107846956035, 0.1279621569391207, 0.06398107846956035, 0.24632727947753877, 0.49265455895507754, 0.11417221279895833, 0.22834442559791665, 0.22834442559791665, 0.22834442559791665, 0.6468530803873642, 0.5822091721668352, 0.5679526208390359, 0.6430576821149641, 0.5821988025644963, 0.6050278496990583, 0.5822066468744569, 0.7603712626760921, 0.5035664447915104, 0.5035664447915104, 0.30698341448384947, 0.20465560965589966, 0.30698341448384947, 0.10232780482794983, 0.13884433259787538, 0.13884433259787538, 0.13884433259787538, 0.13884433259787538, 0.06942216629893769, 0.27768866519575075, 0.06942216629893769, 0.31559278838156135, 0.6311855767631227, 0.6430433793671888, 0.605021475159999, 0.21620950189716806, 0.4324190037943361, 0.21620950189716806, 0.16288915330550466, 0.10859276887033643, 0.05429638443516822, 0.16288915330550466, 0.05429638443516822, 0.10859276887033643, 0.10859276887033643, 0.10859276887033643, 0.05429638443516822, 0.10859276887033643, 0.799747393637573, 0.5679639628408507, 0.6360854331140138, 0.2311963739579258, 0.1321122136902433, 0.1321122136902433, 0.06605610684512166, 0.03302805342256083, 0.03302805342256083, 0.09908416026768248, 0.16514026711280413, 0.06605610684512166, 0.06868167026495858, 0.4120900215897515, 0.13736334052991717, 0.13736334052991717, 0.13736334052991717, 0.06868167026495858, 0.06868167026495858, 0.4517516432998856, 0.6360783714331573, 0.6625932742939855, 0.6626034519806383, 0.29811832103978547, 0.5962366420795709, 0.09483505160829529, 0.09483505160829529, 0.28450515482488586, 0.28450515482488586, 0.18967010321659059, 0.5822043158770075, 0.32788433198720823, 0.32788433198720823, 0.6430509967600919, 0.8550977596275967, 0.646855654193707, 0.5679335706068784, 0.6468651849061128, 0.6474711071769856, 0.21129128162123392, 0.21129128162123392, 0.21129128162123392, 0.42258256324246785, 0.6625924149871149, 0.25640194634930047, 0.25640194634930047, 0.042733657724883405, 0.042733657724883405, 0.08546731544976681, 0.12820097317465023, 0.042733657724883405, 0.042733657724883405, 0.042733657724883405, 0.13749765510152, 0.03437441377538, 0.24062089642766, 0.13749765510152, 0.13749765510152, 0.10312324132614, 0.10312324132614, 0.03437441377538, 0.03437441377538, 0.03437441377538, 0.10803402974707736, 0.10803402974707736, 0.10803402974707736, 0.32410208924123207, 0.10803402974707736, 0.10803402974707736, 0.10803402974707736, 0.6089203007495227, 0.3044601503747614, 0.05383246495364506, 0.1614973948609352, 0.2691623247682253, 0.3229947897218704, 0.10766492990729012, 0.10766492990729012, 0.10670523149132652, 0.4268209259653061, 0.10670523149132652, 0.10670523149132652, 0.21341046298265304, 0.6474672080607083, 0.32747128627398037, 0.6549425725479607, 0.3241538841838137, 0.3241538841838137, 0.15117026980306916, 0.3023405396061383, 0.15117026980306916, 0.3023405396061383, 0.643041701656188, 0.1841214309135095, 0.04603035772837737, 0.368242861827019, 0.1380910731851321, 0.04603035772837737, 0.09206071545675475, 0.04603035772837737, 0.04603035772837737, 0.04603035772837737, 0.1257402597265619, 0.1257402597265619, 0.2514805194531238, 0.03143506493164047, 0.03143506493164047, 0.15717532465820236, 0.03143506493164047, 0.06287012986328094, 0.06287012986328094, 0.1257402597265619, 0.23925875012852563, 0.35888812519278845, 0.23925875012852563, 0.6468852735514842, 0.6360965985314845, 0.09973155867763689, 0.09973155867763689, 0.19946311735527378, 0.09973155867763689, 0.39892623471054756, 0.4579197516786439, 0.05723996895983049, 0.17171990687949146, 0.11447993791966098, 0.05723996895983049, 0.05723996895983049, 0.05723996895983049, 0.5157932335243269, 0.1719310778414423, 0.1719310778414423, 0.5731025303394595, 0.38206835355963964, 0.7962634301838174, 0.4376258768064696, 0.2188129384032348, 0.4376258768064696, 0.6625884986953694, 0.4328478690472594, 0.327121278717406, 0.12800397862855017, 0.08533598575236677, 0.15644930721267242, 0.05689065716824451, 0.05689065716824451, 0.05689065716824451, 0.028445328584122256, 0.05689065716824451, 0.042667992876183385, 0.7016070675239691, 0.2338690225079897, 0.6518078950445172, 0.2242620245404087, 0.16819651840530653, 0.2242620245404087, 0.056065506135102174, 0.056065506135102174, 0.16819651840530653, 0.056065506135102174, 0.7961659469711904, 0.8549185720366834, 0.8549246204489991, 0.7998033671211713, 0.5679586725993655, 0.4689044846022998, 0.3126029897348665, 0.15630149486743325, 0.17466798842673406, 0.17466798842673406, 0.3493359768534681, 0.3493359768534681, 0.7961361700336254, 0.5822155949492559, 0.633918130261279, 0.5863742617050939, 0.19545808723503127, 0.19545808723503127, 0.6430189154150706, 0.21686147945458675, 0.18071789954548895, 0.05421536986364669, 0.23493326940913564, 0.09035894977274447, 0.05421536986364669, 0.03614357990909779, 0.05421536986364669, 0.07228715981819558, 0.4517863655648119, 0.08279324931530968, 0.4139662465765484, 0.08279324931530968, 0.16558649863061936, 0.16558649863061936, 0.08279324931530968, 0.08279324931530968, 0.06909455567947288, 0.27637822271789153, 0.3454727783973644, 0.06909455567947288, 0.06909455567947288, 0.06909455567947288, 0.06909455567947288, 0.5679560327528684, 0.32369008671964566, 0.32369008671964566, 0.6474685628991046, 0.6468634355489239, 0.6339160081499845, 0.6050275364178176, 0.14928157435028502, 0.2687068338305131, 0.14928157435028502, 0.17913788922034204, 0.059712629740114015, 0.059712629740114015, 0.029856314870057007, 0.059712629740114015, 0.5679538404866631, 0.19705246713948252, 0.09852623356974126, 0.1313683114263217, 0.06568415571316084, 0.1642103892829021, 0.06568415571316084, 0.09852623356974126, 0.03284207785658042, 0.03284207785658042, 0.06568415571316084, 0.647465721301312, 0.10824856603659472, 0.3788699811280815, 0.10824856603659472, 0.05412428301829736, 0.10824856603659472, 0.05412428301829736, 0.05412428301829736, 0.10824856603659472, 0.05412428301829736, 0.6796836915871948, 0.22656123052906493, 0.662585121324772, 0.7961809188997829, 0.33230929100893386, 0.6646185820178677, 0.6448859530405743, 0.20476930698948256, 0.4095386139789651, 0.20476930698948256, 0.2217667585676309, 0.08870670342705235, 0.13306005514057853, 0.2217667585676309, 0.044353351713526175, 0.044353351713526175, 0.08870670342705235, 0.08870670342705235, 0.044353351713526175, 0.18557391428285278, 0.4639347857071319, 0.09278695714142639, 0.09278695714142639, 0.18557391428285278, 0.5821944704861995, 0.647474776393082, 0.6339207541810925, 0.7202057310848473, 0.6050321902531165, 0.6339188603830114, 0.6474737821084364, 0.5821863548665459, 0.6474764210592405, 0.3086601798177195, 0.617320359635439, 0.43226008042693737, 0.43226008042693737, 0.4923065479561231, 0.24615327397806155, 0.42983942365392525, 0.5109681370766397, 0.10219362741532793, 0.10219362741532793, 0.20438725483065587, 0.6625856408762869, 0.5214696038192663, 0.26073480190963316, 0.4551065174184282, 0.06501521677406118, 0.06501521677406118, 0.06501521677406118, 0.09752282516109176, 0.06501521677406118, 0.09752282516109176, 0.03250760838703059, 0.03250760838703059, 0.2774247431192097, 0.0924749143730699, 0.3698996574922796, 0.0924749143730699, 0.1849498287461398, 0.4605496555402667, 0.10628068974006155, 0.07085379316004103, 0.14170758632008207, 0.03542689658002052, 0.03542689658002052, 0.03542689658002052, 0.07085379316004103, 0.03542689658002052, 0.2000098946999073, 0.10000494734995365, 0.10000494734995365, 0.2000098946999073, 0.10000494734995365, 0.10000494734995365, 0.30001484204986095, 0.643026102477165, 0.6050090281302847, 0.19242574416496908, 0.20722772448535132, 0.10361386224267566, 0.17762376384458683, 0.04440594096114671, 0.07400990160191118, 0.08881188192229342, 0.05920792128152895, 0.029603960640764475, 0.029603960640764475, 0.30839272953075614, 0.15419636476537807, 0.15419636476537807, 0.30839272953075614, 0.7362357225109059, 0.2810731908770824, 0.16061325192976134, 0.08030662596488067, 0.12045993894732102, 0.20076656491220168, 0.040153312982440334, 0.040153312982440334, 0.08030662596488067, 0.6531042892619199, 0.6050320887343283, 0.10760726601840677, 0.10760726601840677, 0.10760726601840677, 0.10760726601840677, 0.10760726601840677, 0.10760726601840677, 0.3228217980552203, 0.10760726601840677, 0.6626012549759749, 0.6050238989642654, 0.14167820294157954, 0.14167820294157954, 0.4250346088247386, 0.14167820294157954, 0.6656826941236507, 0.16642067353091267, 0.16642067353091267, 0.21405815144434434, 0.03567635857405739, 0.24973451001840175, 0.10702907572217217, 0.07135271714811478, 0.17838179287028696, 0.03567635857405739, 0.07135271714811478, 0.03567635857405739, 0.6312543725594104, 0.3156271862797052, 0.0963367322248923, 0.0963367322248923, 0.0963367322248923, 0.0963367322248923, 0.1926734644497846, 0.0963367322248923, 0.1926734644497846, 0.7956525941946291, 0.18124994231047553, 0.11328121394404721, 0.18124994231047553, 0.06796872836642832, 0.20390618509928496, 0.11328121394404721, 0.04531248557761888, 0.04531248557761888, 0.04531248557761888, 0.14075268286055495, 0.14075268286055495, 0.14075268286055495, 0.14075268286055495, 0.4222580485816649], \"Term\": [\"aadland\", \"aadland\", \"aadland\", \"aadland\", \"aadland\", \"aadland\", \"aadland\", \"aadland\", \"aadland\", \"abide\", \"abortion\", \"absolute\", \"absolute\", \"absolute\", \"absolutely\", \"absolutely\", \"absolutely\", \"absolutely\", \"abundantly\", \"accountability\", \"achieve\", \"actor\", \"actor\", \"actor\", \"administration\", \"administration\", \"administration\", \"administration\", \"admit\", \"affect\", \"affected\", \"affiliation\", \"afford\", \"afford\", \"afford\", \"afford\", \"afford\", \"affordability\", \"affordability\", \"afghanistan\", \"afghanistan\", \"afghanistan\", \"afghanistan\", \"afghanistan\", \"afternoon\", \"afternoon\", \"afternoon\", \"afternoon\", \"afternoon\", \"afternoon\", \"agent\", \"agent\", \"agree\", \"agree\", \"agree\", \"agree\", \"agree\", \"agriculture\", \"air\", \"air\", \"alarm\", \"alive\", \"alive\", \"ally\", \"ally\", \"alma\", \"alphabetical\", \"amazing\", \"amazing\", \"amazing\", \"amazing\", \"america\", \"america\", \"america\", \"america\", \"america\", \"america\", \"american\", \"american\", \"american\", \"american\", \"american\", \"american\", \"american\", \"american\", \"american\", \"american\", \"americans\", \"americans\", \"americans\", \"americans\", \"americans\", \"americans\", \"americans\", \"americans\", \"americas\", \"americas\", \"amp\", \"amp\", \"amp\", \"amp\", \"amp\", \"amp\", \"amp\", \"angle\", \"announce\", \"answer\", \"answer\", \"antithetical\", \"army\", \"army\", \"army\", \"army\", \"assembly\", \"assembly\", \"assembly\", \"assembly\", \"attention\", \"audacity\", \"ave\", \"average\", \"average\", \"average\", \"avs\", \"avs\", \"backlash\", \"bad\", \"bad\", \"bad\", \"bad\", \"bad\", \"bad\", \"balanced\", \"bank\", \"base\", \"basis\", \"bay\", \"beauty\", \"bennet\", \"betray\", \"biden\", \"biden\", \"biden\", \"biden\", \"biden\", \"biden\", \"biden\", \"biden\", \"biden\", \"bidens\", \"bill\", \"birthday\", \"birthday\", \"blame\", \"blue\", \"bodily\", \"border\", \"border\", \"border\", \"border\", \"border\", \"border\", \"border\", \"borne\", \"boulder\", \"boundary\", \"branch\", \"brave\", \"bring\", \"bring\", \"bring\", \"bring\", \"bring\", \"build\", \"build\", \"build\", \"build\", \"build\", \"build\", \"bully\", \"cabinet\", \"cabinet\", \"caliber\", \"campaign\", \"campaign\", \"campaign\", \"campaign\", \"campaign\", \"campaign\", \"campaign\", \"campaign\", \"campaign\", \"campaign\", \"caplis\", \"caplis\", \"caplis\", \"caplis\", \"car\", \"car\", \"car\", \"car\", \"career\", \"career\", \"career\", \"career\", \"career\", \"career\", \"career\", \"career\", \"career\", \"carefully\", \"carter\", \"chairman\", \"check\", \"check\", \"check\", \"check\", \"check\", \"check\", \"check\", \"check\", \"child\", \"child\", \"child\", \"child\", \"child\", \"child\", \"child\", \"child\", \"children\", \"children\", \"children\", \"china\", \"china\", \"china\", \"china\", \"china\", \"church\", \"civil\", \"clearly\", \"click\", \"climb\", \"coalition\", \"college\", \"college\", \"coloradans\", \"coloradans\", \"coloradans\", \"coloradans\", \"coloradans\", \"coloradans\", \"colorado\", \"colorado\", \"colorado\", \"colorado\", \"colorado\", \"colorado\", \"colorado\", \"colorado\", \"colorado\", \"colorado\", \"come\", \"come\", \"come\", \"come\", \"come\", \"come\", \"come\", \"come\", \"come\", \"commandment\", \"committee\", \"committee\", \"common\", \"common\", \"common\", \"common\", \"common\", \"community\", \"community\", \"community\", \"community\", \"community\", \"community\", \"compare\", \"compare\", \"compare\", \"compare\", \"compare\", \"compare\", \"competitor\", \"competitor\", \"compromise\", \"conflagration\", \"congress\", \"congress\", \"congress\", \"congress\", \"congress\", \"congress\", \"congress\", \"congress\", \"congress\", \"congressman\", \"congressman\", \"congressman\", \"congressman\", \"congressman\", \"congressman\", \"congressman\", \"congressman\", \"connell\", \"conservative\", \"conservative\", \"conservative\", \"conservative\", \"conservative\", \"conservative\", \"consider\", \"consider\", \"consider\", \"consider\", \"consider\", \"consider\", \"consider\", \"consider\", \"consideration\", \"consistent\", \"constantly\", \"constituent\", \"constituent\", \"constituent\", \"constituent\", \"constituent\", \"constituent\", \"constituent\", \"constitution\", \"constitution\", \"constitution\", \"constitution\", \"constitution\", \"constitution\", \"continually\", \"continue\", \"continue\", \"continue\", \"continue\", \"continue\", \"continue\", \"coors\", \"cost\", \"cost\", \"cost\", \"cost\", \"cost\", \"cost\", \"cost\", \"cost\", \"country\", \"country\", \"country\", \"country\", \"country\", \"country\", \"country\", \"country\", \"country\", \"county\", \"county\", \"county\", \"county\", \"county\", \"county\", \"county\", \"county\", \"cover\", \"cover\", \"create\", \"create\", \"create\", \"create\", \"create\", \"create\", \"crime\", \"crime\", \"crime\", \"crime\", \"crime\", \"crime\", \"crime\", \"crime\", \"crime\", \"crime\", \"dan\", \"dan\", \"dan\", \"dan\", \"day\", \"day\", \"day\", \"day\", \"day\", \"day\", \"day\", \"day\", \"day\", \"deadly\", \"dealer\", \"dealer\", \"dealer\", \"dealer\", \"debate\", \"debate\", \"debate\", \"debate\", \"debate\", \"debate\", \"debate\", \"debate\", \"decay\", \"decay\", \"decision\", \"decision\", \"decision\", \"dedication\", \"degrade\", \"delegate\", \"delegate\", \"deliver\", \"deliver\", \"deliver\", \"deliver\", \"deliver\", \"deliver\", \"deliver\", \"deliver\", \"deliver\", \"demonstrate\", \"dept\", \"dept\", \"derail\", \"deserve\", \"deserve\", \"deserve\", \"desire\", \"despicable\", \"destruction\", \"destruction\", \"destruction\", \"die\", \"die\", \"die\", \"die\", \"die\", \"diffuse\", \"diminish\", \"diminish\", \"diplomatic\", \"direct\", \"direct\", \"directly\", \"discouraged\", \"dissatisfy\", \"district\", \"district\", \"district\", \"district\", \"district\", \"district\", \"district\", \"district\", \"district\", \"divisive\", \"divisive\", \"double\", \"double\", \"doug\", \"drug\", \"drug\", \"drug\", \"drug\", \"drug\", \"duty\", \"duty\", \"eat\", \"economic\", \"economic\", \"economic\", \"economic\", \"economic\", \"economic\", \"economic\", \"economic\", \"economic\", \"economy\", \"economy\", \"economy\", \"economy\", \"economy\", \"economy\", \"economy\", \"economy\", \"edge\", \"education\", \"education\", \"education\", \"effective\", \"eisenhower\", \"electricity\", \"embarrassment\", \"embrace\", \"empathy\", \"empathy\", \"emulate\", \"encouraged\", \"encouragement\", \"end\", \"end\", \"end\", \"endangered\", \"endorsement\", \"endorsement\", \"endorsement\", \"endorsement\", \"endorsement\", \"endorsement\", \"endorsement\", \"endorsement\", \"endorsement\", \"energy\", \"energy\", \"energy\", \"energy\", \"energy\", \"energy\", \"energy\", \"energy\", \"energy\", \"enforce\", \"enforcement\", \"enforcement\", \"enforcement\", \"enforcement\", \"enforcement\", \"enforcement\", \"entrepreneurial\", \"environment\", \"environment\", \"environment\", \"environment\", \"environment\", \"equip\", \"erik\", \"erik\", \"erik\", \"erik\", \"erik\", \"erik\", \"erik\", \"erik\", \"europe\", \"evening\", \"event\", \"event\", \"event\", \"everyday\", \"example\", \"example\", \"example\", \"example\", \"excellence\", \"exceptional\", \"expertise\", \"exporter\", \"extraordinary\", \"extraordinary\", \"extraordinary\", \"extraordinary\", \"extremely\", \"eye\", \"eye\", \"eye\", \"fail\", \"fail\", \"fail\", \"fail\", \"fail\", \"fail\", \"failure\", \"failure\", \"failure\", \"failure\", \"failure\", \"failure\", \"failure\", \"failure\", \"family\", \"family\", \"family\", \"family\", \"family\", \"family\", \"family\", \"family\", \"family\", \"family\", \"fathom\", \"federal\", \"federal\", \"federal\", \"federal\", \"federal\", \"federal\", \"federal\", \"feel\", \"feel\", \"feel\", \"fentanyl\", \"fentanyl\", \"fentanyl\", \"fentanyl\", \"fentanyl\", \"fentanyl\", \"fight\", \"fight\", \"fight\", \"fight\", \"fight\", \"fight\", \"fight\", \"fire\", \"firefighter\", \"fit\", \"flippantly\", \"food\", \"food\", \"food\", \"food\", \"food\", \"foolish\", \"forever\", \"forward\", \"forward\", \"forward\", \"forward\", \"forward\", \"forward\", \"fox\", \"fox\", \"fox\", \"free\", \"free\", \"free\", \"free\", \"free\", \"freedom\", \"freedom\", \"freedom\", \"freedom\", \"freedom\", \"freedom\", \"freedom\", \"freedom\", \"fresh\", \"fresh\", \"fresh\", \"future\", \"future\", \"future\", \"future\", \"future\", \"future\", \"future\", \"get\", \"get\", \"get\", \"global\", \"global\", \"global\", \"global\", \"global\", \"global\", \"go\", \"go\", \"go\", \"go\", \"go\", \"go\", \"go\", \"golden\", \"golden\", \"good\", \"good\", \"good\", \"good\", \"good\", \"good\", \"gorka\", \"government\", \"government\", \"government\", \"government\", \"government\", \"government\", \"government\", \"government\", \"government\", \"graduate\", \"grateful\", \"grateful\", \"grateful\", \"grateful\", \"grateful\", \"grateful\", \"grateful\", \"gravely\", \"great\", \"great\", \"great\", \"great\", \"great\", \"great\", \"great\", \"great\", \"greet\", \"greet\", \"greet\", \"grit\", \"growth\", \"guardian\", \"guest\", \"guide\", \"guide\", \"guide\", \"guide\", \"gun\", \"gun\", \"hall\", \"hall\", \"hard\", \"hard\", \"hard\", \"hard\", \"hard\", \"hard\", \"hard\", \"harm\", \"harm\", \"harm\", \"harm\", \"harmful\", \"hashtag\", \"hashtag\", \"hashtag\", \"hashtag\", \"hashtag\", \"hate\", \"hateful\", \"hateful\", \"hateful\", \"have\", \"have\", \"have\", \"have\", \"have\", \"have\", \"haven\", \"haven\", \"head\", \"hear\", \"hear\", \"hear\", \"hear\", \"hear\", \"hear\", \"hear\", \"heart\", \"heart\", \"heart\", \"height\", \"help\", \"help\", \"help\", \"help\", \"help\", \"help\", \"help\", \"help\", \"help\", \"hide\", \"high\", \"high\", \"high\", \"high\", \"high\", \"high\", \"high\", \"high\", \"hike\", \"hire\", \"hire\", \"hold\", \"hold\", \"hold\", \"hold\", \"homicide\", \"homicide\", \"honor\", \"honor\", \"honor\", \"honor\", \"honor\", \"honor\", \"honor\", \"honor\", \"honor\", \"hope\", \"hope\", \"hope\", \"hope\", \"hopeful\", \"household\", \"household\", \"housing\", \"hungry\", \"icymi\", \"icymi\", \"icymi\", \"icymi\", \"icymi\", \"imagine\", \"immediately\", \"immediately\", \"income\", \"increase\", \"increase\", \"increase\", \"increase\", \"increase\", \"increase\", \"increase\", \"inflation\", \"inflation\", \"inflation\", \"inflation\", \"inflation\", \"inflation\", \"inflation\", \"inflation\", \"inflation\", \"inflation\", \"influence\", \"influential\", \"innocent\", \"insane\", \"insane\", \"integrity\", \"integrity\", \"integrity\", \"integrity\", \"integrity\", \"integrity\", \"integrity\", \"integrity\", \"integrity\", \"interest\", \"interest\", \"interest\", \"interest\", \"interest\", \"interest\", \"introduction\", \"invade\", \"invade\", \"involve\", \"iran\", \"iraq\", \"irs\", \"irs\", \"jan\", \"japan\", \"jeffco\", \"jeffco\", \"jeffco\", \"jeopardize\", \"jimmy\", \"jimmy\", \"join\", \"join\", \"join\", \"join\", \"join\", \"join\", \"join\", \"judge\", \"justice\", \"kaminsky\", \"kaminsky\", \"keystone\", \"khow\", \"khow\", \"khow\", \"khow\", \"khow\", \"khow\", \"kid\", \"kill\", \"kill\", \"kill\", \"kill\", \"knus\", \"kvor\", \"lakewood\", \"lakewood\", \"lakewood\", \"law\", \"law\", \"law\", \"law\", \"law\", \"law\", \"law\", \"law\", \"leadership\", \"leadership\", \"leadership\", \"leadership\", \"leadership\", \"leadership\", \"leadership\", \"leadership\", \"leadership\", \"learn\", \"learn\", \"learn\", \"learn\", \"learn\", \"learn\", \"leave\", \"leave\", \"leave\", \"leave\", \"level\", \"level\", \"level\", \"liberation\", \"license\", \"light\", \"like\", \"like\", \"like\", \"like\", \"like\", \"like\", \"like\", \"like\", \"like\", \"like\", \"link\", \"link\", \"listen\", \"listen\", \"listen\", \"listen\", \"listen\", \"listen\", \"listen\", \"listen\", \"little\", \"littleton\", \"living\", \"living\", \"long\", \"long\", \"long\", \"long\", \"long\", \"long\", \"look\", \"look\", \"look\", \"look\", \"look\", \"look\", \"look\", \"look\", \"look\", \"lucrative\", \"major\", \"major\", \"majority\", \"majority\", \"manager\", \"manager\", \"mandate\", \"mandate\", \"mandate\", \"mandy\", \"math\", \"mccarthy\", \"meal\", \"mean\", \"mean\", \"meet\", \"meet\", \"meet\", \"meet\", \"meet\", \"meet\", \"memorial\", \"mercy\", \"merely\", \"mexico\", \"mile\", \"military\", \"military\", \"military\", \"military\", \"military\", \"mine\", \"mission\", \"mission\", \"missouri\", \"momentarily\", \"month\", \"month\", \"month\", \"month\", \"month\", \"month\", \"month\", \"morale\", \"mother\", \"mountain\", \"mountain\", \"nancy\", \"nancy\", \"nancy\", \"nancy\", \"nancy\", \"narrative\", \"national\", \"national\", \"national\", \"national\", \"national\", \"national\", \"national\", \"nationally\", \"nearly\", \"nearly\", \"need\", \"need\", \"need\", \"need\", \"need\", \"need\", \"need\", \"neighborhood\", \"new\", \"new\", \"new\", \"new\", \"new\", \"new\", \"new\", \"new\", \"new\", \"news\", \"news\", \"news\", \"newsletter\", \"nominee\", \"nominee\", \"normandy\", \"november\", \"november\", \"november\", \"nugent\", \"oath\", \"oath\", \"oath\", \"oath\", \"oath\", \"oath\", \"operate\", \"opponent\", \"opponent\", \"opponent\", \"opponent\", \"opponent\", \"opponent\", \"opponent\", \"opponent\", \"opponent\", \"opt\", \"ordinary\", \"owe\", \"owe\", \"owner\", \"owner\", \"owner\", \"owner\", \"owner\", \"owner\", \"pacific\", \"pack\", \"parent\", \"park\", \"park\", \"park\", \"park\", \"passion\", \"peace\", \"peace\", \"peace\", \"peace\", \"peace\", \"peddler\", \"pelosi\", \"pelosi\", \"pelosi\", \"pelosi\", \"pelosi\", \"pelosi\", \"pelosi\", \"pelosi\", \"people\", \"people\", \"people\", \"people\", \"people\", \"people\", \"people\", \"people\", \"people\", \"people\", \"performance\", \"personal\", \"personal\", \"pessimist\", \"pessimistic\", \"pet\", \"pete\", \"petition\", \"petition\", \"petition\", \"petition\", \"petroleum\", \"pettersen\", \"pettersen\", \"pettersen\", \"pettersen\", \"pettersen\", \"pinehust\", \"place\", \"place\", \"point\", \"point\", \"point\", \"pointing\", \"policy\", \"policy\", \"policy\", \"policy\", \"policy\", \"policy\", \"policy\", \"policy\", \"policy\", \"policy\", \"politic\", \"political\", \"political\", \"political\", \"politician\", \"politician\", \"politician\", \"politician\", \"politician\", \"politician\", \"politician\", \"politician\", \"polling\", \"polling\", \"portray\", \"poster\", \"powerful\", \"practical\", \"pray\", \"pray\", \"president\", \"president\", \"president\", \"president\", \"president\", \"president\", \"presidential\", \"prestigious\", \"previous\", \"previous\", \"principle\", \"principle\", \"principle\", \"principle\", \"principle\", \"principle\", \"principle\", \"principle\", \"prioritie\", \"prison\", \"private\", \"process\", \"process\", \"process\", \"production\", \"production\", \"production\", \"productivity\", \"progressive\", \"progressive\", \"progressive\", \"progressive\", \"progressive\", \"progressive\", \"progressive\", \"progressive\", \"progressive\", \"properly\", \"propose\", \"protect\", \"protect\", \"protect\", \"protect\", \"protect\", \"protect\", \"protect\", \"protect\", \"protect\", \"proudly\", \"proudly\", \"proudly\", \"proudly\", \"provide\", \"psychologically\", \"question\", \"question\", \"question\", \"question\", \"question\", \"question\", \"question\", \"question\", \"question\", \"race\", \"race\", \"race\", \"race\", \"race\", \"race\", \"radical\", \"radical\", \"radical\", \"radical\", \"radical\", \"radical\", \"radio\", \"radio\", \"radio\", \"radio\", \"radio\", \"radio\", \"radio\", \"radio\", \"radio\", \"randall\", \"real\", \"real\", \"real\", \"real\", \"receive\", \"receive\", \"receive\", \"receive\", \"receive\", \"receive\", \"receive\", \"recession\", \"recession\", \"recession\", \"reckless\", \"reckless\", \"reckless\", \"reckless\", \"record\", \"record\", \"record\", \"record\", \"record\", \"record\", \"red\", \"reel\", \"reel\", \"reflection\", \"reform\", \"reinforce\", \"relate\", \"render\", \"renew\", \"repeat\", \"repeatedly\", \"representative\", \"representative\", \"representative\", \"representative\", \"representative\", \"representative\", \"representative\", \"resemble\", \"reserve\", \"resilience\", \"respond\", \"respond\", \"responsible\", \"responsible\", \"responsible\", \"rest\", \"restore\", \"restore\", \"restore\", \"restore\", \"restore\", \"restore\", \"restore\", \"restore\", \"resume\", \"resume\", \"resume\", \"retirement\", \"retirement\", \"reverse\", \"reverse\", \"revise\", \"revoke\", \"richard\", \"ridge\", \"right\", \"right\", \"right\", \"right\", \"right\", \"right\", \"right\", \"rise\", \"rise\", \"rise\", \"rise\", \"rise\", \"rise\", \"risk\", \"risk\", \"risk\", \"risk\", \"risk\", \"robbery\", \"rock\", \"ross\", \"ross\", \"ross\", \"run\", \"run\", \"run\", \"run\", \"run\", \"run\", \"runaway\", \"runaway\", \"russia\", \"russia\", \"russia\", \"russia\", \"ryan\", \"score\", \"scotus\", \"sea\", \"seal\", \"seated\", \"sec\", \"second\", \"sector\", \"sector\", \"security\", \"security\", \"security\", \"security\", \"see\", \"see\", \"see\", \"see\", \"see\", \"see\", \"see\", \"seizure\", \"seizure\", \"selflessly\", \"selflessness\", \"senate\", \"senate\", \"senate\", \"send\", \"send\", \"send\", \"send\", \"send\", \"send\", \"send\", \"send\", \"send\", \"send\", \"sengenberger\", \"september\", \"series\", \"serve\", \"serve\", \"serve\", \"serve\", \"serve\", \"serve\", \"serve\", \"serve\", \"serve\", \"share\", \"share\", \"share\", \"share\", \"share\", \"share\", \"share\", \"sheriff\", \"shoot\", \"shrader\", \"shraders\", \"sick\", \"sick\", \"sign\", \"sign\", \"sign\", \"sign\", \"sign\", \"signature\", \"significant\", \"significant\", \"simultaneously\", \"sink\", \"size\", \"skin\", \"skip\", \"snow\", \"social\", \"social\", \"social\", \"social\", \"socialism\", \"soft\", \"soft\", \"soft\", \"soft\", \"soft\", \"soft\", \"soft\", \"soft\", \"soft\", \"solution\", \"solution\", \"solution\", \"solution\", \"solution\", \"solution\", \"solution\", \"solution\", \"solution\", \"solution\", \"southern\", \"southern\", \"southern\", \"southern\", \"southern\", \"southern\", \"southern\", \"special\", \"special\", \"spending\", \"spending\", \"spending\", \"spending\", \"spending\", \"spending\", \"spike\", \"spike\", \"spike\", \"spike\", \"spike\", \"spokeswoman\", \"spot\", \"spot\", \"stability\", \"stability\", \"stage\", \"stage\", \"stage\", \"stage\", \"stair\", \"stand\", \"stand\", \"stand\", \"stand\", \"stand\", \"stand\", \"stand\", \"stand\", \"stand\", \"state\", \"state\", \"state\", \"state\", \"state\", \"state\", \"state\", \"state\", \"state\", \"state\", \"steal\", \"steal\", \"steal\", \"sticker\", \"stifle\", \"strength\", \"strength\", \"strength\", \"strength\", \"strength\", \"strong\", \"strong\", \"strong\", \"strong\", \"strong\", \"strong\", \"strong\", \"student\", \"student\", \"student\", \"study\", \"study\", \"stunt\", \"suffer\", \"suffer\", \"suffer\", \"suffering\", \"supplant\", \"support\", \"support\", \"support\", \"support\", \"support\", \"support\", \"support\", \"support\", \"support\", \"support\", \"supporter\", \"supporter\", \"supreme\", \"sure\", \"sure\", \"sure\", \"sure\", \"sure\", \"sure\", \"sure\", \"surge\", \"swiftly\", \"swing\", \"system\", \"table\", \"taiwan\", \"taiwan\", \"taiwan\", \"taxis\", \"taxis\", \"taxis\", \"taxis\", \"teach\", \"tear\", \"tech\", \"telephone\", \"telephone\", \"telephone\", \"tempting\", \"thank\", \"thank\", \"thank\", \"thank\", \"thank\", \"thank\", \"thank\", \"thank\", \"thank\", \"theory\", \"thought\", \"thought\", \"thought\", \"thought\", \"thought\", \"thought\", \"thought\", \"thoughtless\", \"thoughtless\", \"thoughtless\", \"thoughtless\", \"thoughtless\", \"thoughtless\", \"thoughtless\", \"thoughtlessly\", \"threat\", \"threat\", \"threaten\", \"thrilled\", \"throw\", \"tide\", \"time\", \"time\", \"time\", \"time\", \"time\", \"time\", \"time\", \"time\", \"tip\", \"today\", \"today\", \"today\", \"today\", \"today\", \"today\", \"today\", \"today\", \"today\", \"today\", \"tokyo\", \"tonight\", \"tonight\", \"tonight\", \"tonight\", \"tonight\", \"tonight\", \"tonight\", \"tonight\", \"tonight\", \"town\", \"town\", \"toxic\", \"train\", \"troll\", \"troll\", \"truck\", \"true\", \"true\", \"true\", \"tune\", \"tune\", \"tune\", \"tune\", \"tune\", \"tune\", \"tune\", \"tune\", \"tune\", \"ukraine\", \"ukraine\", \"ukraine\", \"ukraine\", \"ukraine\", \"unconscionable\", \"undue\", \"unfortunately\", \"unite\", \"unmatched\", \"unravel\", \"unreasonable\", \"unseen\", \"uss\", \"vaccine\", \"vaccine\", \"vakoff\", \"vakoff\", \"value\", \"value\", \"vendor\", \"veteran\", \"veteran\", \"veteran\", \"veteran\", \"view\", \"voice\", \"voice\", \"vote\", \"vote\", \"vote\", \"vote\", \"vote\", \"vote\", \"vote\", \"vote\", \"vote\", \"voter\", \"voter\", \"voter\", \"voter\", \"voter\", \"want\", \"want\", \"want\", \"want\", \"want\", \"want\", \"want\", \"want\", \"want\", \"war\", \"war\", \"war\", \"war\", \"war\", \"war\", \"war\", \"warhawks\", \"warm\", \"washington\", \"washington\", \"washington\", \"washington\", \"washington\", \"washington\", \"washington\", \"washington\", \"washington\", \"washington\", \"water\", \"water\", \"water\", \"water\", \"wednesday\", \"well\", \"well\", \"well\", \"well\", \"well\", \"well\", \"well\", \"well\", \"west\", \"willing\", \"win\", \"win\", \"win\", \"win\", \"win\", \"win\", \"win\", \"win\", \"wisely\", \"withi\", \"woman\", \"woman\", \"woman\", \"woman\", \"woodland\", \"woodland\", \"woodland\", \"work\", \"work\", \"work\", \"work\", \"work\", \"work\", \"work\", \"work\", \"work\", \"workforce\", \"workforce\", \"world\", \"world\", \"world\", \"world\", \"world\", \"world\", \"world\", \"write\", \"year\", \"year\", \"year\", \"year\", \"year\", \"year\", \"year\", \"year\", \"year\", \"yesterday\", \"yesterday\", \"yesterday\", \"yesterday\", \"yesterday\"]}, \"R\": 30, \"lambda.step\": 0.01, \"plot.opts\": {\"xlab\": \"PC1\", \"ylab\": \"PC2\"}, \"topic.order\": [4, 1, 6, 3, 9, 2, 8, 7, 10, 5]};\n",
       "\n",
       "function LDAvis_load_lib(url, callback){\n",
       "  var s = document.createElement('script');\n",
       "  s.src = url;\n",
       "  s.async = true;\n",
       "  s.onreadystatechange = s.onload = callback;\n",
       "  s.onerror = function(){console.warn(\"failed to load library \" + url);};\n",
       "  document.getElementsByTagName(\"head\")[0].appendChild(s);\n",
       "}\n",
       "\n",
       "if(typeof(LDAvis) !== \"undefined\"){\n",
       "   // already loaded: just create the visualization\n",
       "   !function(LDAvis){\n",
       "       new LDAvis(\"#\" + \"ldavis_el3471401656568013603786742386\", ldavis_el3471401656568013603786742386_data);\n",
       "   }(LDAvis);\n",
       "}else if(typeof define === \"function\" && define.amd){\n",
       "   // require.js is available: use it to load d3/LDAvis\n",
       "   require.config({paths: {d3: \"https://d3js.org/d3.v5\"}});\n",
       "   require([\"d3\"], function(d3){\n",
       "      window.d3 = d3;\n",
       "      LDAvis_load_lib(\"https://cdn.jsdelivr.net/gh/bmabey/pyLDAvis@3.3.1/pyLDAvis/js/ldavis.v3.0.0.js\", function(){\n",
       "        new LDAvis(\"#\" + \"ldavis_el3471401656568013603786742386\", ldavis_el3471401656568013603786742386_data);\n",
       "      });\n",
       "    });\n",
       "}else{\n",
       "    // require.js not available: dynamically load d3 & LDAvis\n",
       "    LDAvis_load_lib(\"https://d3js.org/d3.v5.js\", function(){\n",
       "         LDAvis_load_lib(\"https://cdn.jsdelivr.net/gh/bmabey/pyLDAvis@3.3.1/pyLDAvis/js/ldavis.v3.0.0.js\", function(){\n",
       "                 new LDAvis(\"#\" + \"ldavis_el3471401656568013603786742386\", ldavis_el3471401656568013603786742386_data);\n",
       "            })\n",
       "         });\n",
       "}\n",
       "</script>"
      ],
      "text/plain": [
       "PreparedData(topic_coordinates=              x         y  topics  cluster       Freq\n",
       "topic                                                \n",
       "3      0.080888  0.070670       1        1  19.232621\n",
       "0      0.009302  0.159598       2        1  12.538839\n",
       "5     -0.113790  0.014961       3        1  12.517448\n",
       "2     -0.113072  0.110864       4        1  10.970451\n",
       "8     -0.030482 -0.156267       5        1   9.923582\n",
       "1     -0.001321  0.053752       6        1   9.818343\n",
       "7     -0.001498 -0.065447       7        1   8.057591\n",
       "6     -0.145372 -0.078671       8        1   5.701243\n",
       "9      0.131853 -0.121910       9        1   5.694366\n",
       "4      0.183493  0.012450      10        1   5.545516, topic_info=           Term        Freq       Total Category  logprob  loglift\n",
       "8        family   58.000000   58.000000  Default  30.0000  30.0000\n",
       "24     colorado  106.000000  106.000000  Default  29.0000  29.0000\n",
       "112        meet   32.000000   32.000000  Default  28.0000  28.0000\n",
       "92      country   58.000000   58.000000  Default  27.0000  27.0000\n",
       "45          law   23.000000   23.000000  Default  26.0000  26.0000\n",
       "..          ...         ...         ...      ...      ...      ...\n",
       "118  washington    2.369504   67.558528  Topic10  -5.3948  -0.4581\n",
       "507   president    1.964269   16.269954  Topic10  -5.5823   0.7780\n",
       "74       people    2.325874   85.855178  Topic10  -5.4134  -0.7164\n",
       "229       today    1.964669   30.448743  Topic10  -5.5821   0.1515\n",
       "21         year    1.923311   44.137945  Topic10  -5.6034  -0.2411\n",
       "\n",
       "[792 rows x 6 columns], token_table=      Topic      Freq       Term\n",
       "term                            \n",
       "82        1  0.229532    aadland\n",
       "82        2  0.091813    aadland\n",
       "82        3  0.160673    aadland\n",
       "82        4  0.068860    aadland\n",
       "82        5  0.091813    aadland\n",
       "...     ...       ...        ...\n",
       "393       1  0.140753  yesterday\n",
       "393       2  0.140753  yesterday\n",
       "393       3  0.140753  yesterday\n",
       "393       6  0.140753  yesterday\n",
       "393       7  0.422258  yesterday\n",
       "\n",
       "[1812 rows x 3 columns], R=30, lambda_step=0.01, plot_opts={'xlab': 'PC1', 'ylab': 'PC2'}, topic_order=[4, 1, 6, 3, 9, 2, 8, 7, 10, 5])"
      ]
     },
     "execution_count": 29,
     "metadata": {},
     "output_type": "execute_result"
    }
   ],
   "source": [
    "pyLDAvis.enable_notebook()\n",
    "vis = pyLDAvis.gensim_models.prepare(lda_model, corpus, id2word, mds=\"mmds\", R=30)\n",
    "vis"
   ]
  },
  {
   "cell_type": "code",
   "execution_count": null,
   "id": "9af67764-1870-4a66-994d-0e3429e22c7e",
   "metadata": {},
   "outputs": [],
   "source": []
  }
 ],
 "metadata": {
  "instance_type": "ml.t3.medium",
  "kernelspec": {
   "display_name": "Python 3 (Data Science)",
   "language": "python",
   "name": "python3__SAGEMAKER_INTERNAL__arn:aws:sagemaker:us-east-1:081325390199:image/datascience-1.0"
  },
  "language_info": {
   "codemirror_mode": {
    "name": "ipython",
    "version": 3
   },
   "file_extension": ".py",
   "mimetype": "text/x-python",
   "name": "python",
   "nbconvert_exporter": "python",
   "pygments_lexer": "ipython3",
   "version": "3.7.10"
  }
 },
 "nbformat": 4,
 "nbformat_minor": 5
}
